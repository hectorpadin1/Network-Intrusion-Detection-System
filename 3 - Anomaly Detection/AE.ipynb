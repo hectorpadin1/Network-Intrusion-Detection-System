{
 "cells": [
  {
   "cell_type": "markdown",
   "metadata": {},
   "source": [
    "# Detección de Anomalías con *Autoencoders*\n",
    "\n",
    "## Introducción\n",
    "\n",
    "En este ejemplo, se entrenará un *autoencoder* para detectar anomalías en el conjunto de datos CSE-CIC-IDS-2018. Este *dataset* contiene 16232943 flujos de red, cada uno con 36 características. Se utilizará una versión pre-procesada del conjunto de datos, en la que cada ejemplo ha sido etiquetado como 0 (correspondiente a un flujo de red normal), o 1 (correspondiente a un flujo de red anormal). El objetivo principal del modelo será la correcta **identificación de flujos anómalos**.\n",
    "\n",
    "El CSE-CIC-IDS-2018 se trata de un conjunto de datos etiquetados, por lo que se podría plantear como un problema de aprendizaje supervisado. El objetivo de este ejemplo es ilustrar los conceptos de detección de anomalías que se pueden aplicar a conjuntos de datos más grandes, en los que no se dispone de etiquetas.\n",
    "\n",
    "## ¿Qué es un *autoencoder*?\n",
    "\n",
    "Autoencoder es una clase de Red Neuronal Artificial que permite aprender una representación latente (de dimensión reducida) de los datos de manera **no supervisada**. Lo que se busca es que, dado un conjunto de datos, cada elemento quede representado de manera biunívoca por unos pocos parámetros que permitan reconstruirlo, e incluso a veces generar nuevos datos no observados.\n",
    "\n",
    "Un *autoencoder* es una clase de Red Neuronal Artificial que se entrena para copiar su entrada en su salida. Por ejemplo, dada una imagen de un dígito escrito a mano, un *autoencoder* primero codifica la imagen en una representación latente de menor dimensión, y luego decodifica la representación latente de vuelta a una imagen. Este, aprende a comprimir los datos minimizando el error de reconstrucción.\n",
    "\n",
    "![](https://i2.wp.com/datasmarts.net/es/wp-content/uploads/2019/01/simple_autoencoder.png?w=588&ssl=1)\n",
    "\n",
    "## ¿Cómo se detectan las anomalías con un *autoencoder*?\n",
    "\n",
    "Un *autoencoder* se entrena para minimizar el error de reconstrucción. En el ejemplo anterior se han utilizado imágenes, pero se pueden utilizar cualquier tipo de datos numéricos para llevar a cabo su reconstrucción.\n",
    "\n",
    "Se entrenará un *autoencoder* sólo con los flujos normales y luego se utilizará para reconstruir todos los datos. La hipótesis es que los flujos anómalos tendrán un mayor error de reconstrucción. Entonces, clasificará un ritmo como anómalo si el error de reconstrucción supera un umbral fijo, definido previamente, o basado en estadísticas de los flujos."
   ]
  },
  {
   "cell_type": "markdown",
   "metadata": {},
   "source": [
    "## Librerías necesarias"
   ]
  },
  {
   "cell_type": "code",
   "execution_count": 1,
   "metadata": {},
   "outputs": [],
   "source": [
    "import gc\n",
    "from os import getcwd\n",
    "import matplotlib.pyplot as plt\n",
    "import math\n",
    "import numpy as np\n",
    "import pandas as pd\n",
    "import gc\n",
    "import tensorflow as tf\n",
    "import seaborn as sns\n",
    "\n",
    "from sklearn.ensemble import IsolationForest\n",
    "from sklearn.preprocessing import MinMaxScaler\n",
    "from imblearn.under_sampling import RandomUnderSampler\n",
    "from sklearn.metrics import accuracy_score, precision_score, recall_score\n",
    "from sklearn.model_selection import train_test_split\n",
    "from tensorflow.keras import layers, losses\n",
    "from tensorflow.keras.models import Model\n",
    "\n",
    "pd.set_option(\"display.max_columns\", 80)"
   ]
  },
  {
   "cell_type": "markdown",
   "metadata": {},
   "source": [
    "## Carga del conjunto de datos"
   ]
  },
  {
   "cell_type": "code",
   "execution_count": 2,
   "metadata": {},
   "outputs": [
    {
     "data": {
      "text/html": [
       "<div>\n",
       "<style scoped>\n",
       "    .dataframe tbody tr th:only-of-type {\n",
       "        vertical-align: middle;\n",
       "    }\n",
       "\n",
       "    .dataframe tbody tr th {\n",
       "        vertical-align: top;\n",
       "    }\n",
       "\n",
       "    .dataframe thead th {\n",
       "        text-align: right;\n",
       "    }\n",
       "</style>\n",
       "<table border=\"1\" class=\"dataframe\">\n",
       "  <thead>\n",
       "    <tr style=\"text-align: right;\">\n",
       "      <th></th>\n",
       "      <th>Dst Port</th>\n",
       "      <th>xhr</th>\n",
       "      <th>Fwd Pkt Len Max</th>\n",
       "      <th>Fwd Pkt Len Min</th>\n",
       "      <th>Fwd Pkt Len Mean</th>\n",
       "      <th>Bwd Pkt Len Min</th>\n",
       "      <th>Bwd Pkt Len Mean</th>\n",
       "      <th>Bwd IAT Tot</th>\n",
       "      <th>Bwd IAT Mean</th>\n",
       "      <th>Bwd IAT Max</th>\n",
       "      <th>Fwd PSH Flags</th>\n",
       "      <th>Fwd Pkts/s</th>\n",
       "      <th>Bwd Pkts/s</th>\n",
       "      <th>RST Flag Cnt</th>\n",
       "      <th>PSH Flag Cnt</th>\n",
       "      <th>ACK Flag Cnt</th>\n",
       "      <th>Init Fwd Win Byts</th>\n",
       "      <th>Init Bwd Win Byts</th>\n",
       "      <th>Fwd Seg Size Min</th>\n",
       "      <th>Idle Min</th>\n",
       "      <th>Protocol_6</th>\n",
       "      <th>Protocol_17</th>\n",
       "      <th>Label</th>\n",
       "    </tr>\n",
       "  </thead>\n",
       "  <tbody>\n",
       "    <tr>\n",
       "      <th>0</th>\n",
       "      <td>0.000000</td>\n",
       "      <td>0.866025</td>\n",
       "      <td>0.000000</td>\n",
       "      <td>0.0</td>\n",
       "      <td>0.000000</td>\n",
       "      <td>0.0</td>\n",
       "      <td>0.000000</td>\n",
       "      <td>0.000000</td>\n",
       "      <td>0.000000</td>\n",
       "      <td>0.000000</td>\n",
       "      <td>0.0</td>\n",
       "      <td>4.438890e-09</td>\n",
       "      <td>0.000000</td>\n",
       "      <td>0.0</td>\n",
       "      <td>0.0</td>\n",
       "      <td>0.0</td>\n",
       "      <td>0.000000</td>\n",
       "      <td>0.000000</td>\n",
       "      <td>0.000000</td>\n",
       "      <td>0.551961</td>\n",
       "      <td>0</td>\n",
       "      <td>0</td>\n",
       "      <td>0</td>\n",
       "    </tr>\n",
       "    <tr>\n",
       "      <th>1</th>\n",
       "      <td>0.000000</td>\n",
       "      <td>0.866025</td>\n",
       "      <td>0.000000</td>\n",
       "      <td>0.0</td>\n",
       "      <td>0.000000</td>\n",
       "      <td>0.0</td>\n",
       "      <td>0.000000</td>\n",
       "      <td>0.000000</td>\n",
       "      <td>0.000000</td>\n",
       "      <td>0.000000</td>\n",
       "      <td>0.0</td>\n",
       "      <td>4.438851e-09</td>\n",
       "      <td>0.000000</td>\n",
       "      <td>0.0</td>\n",
       "      <td>0.0</td>\n",
       "      <td>0.0</td>\n",
       "      <td>0.000000</td>\n",
       "      <td>0.000000</td>\n",
       "      <td>0.000000</td>\n",
       "      <td>0.551961</td>\n",
       "      <td>0</td>\n",
       "      <td>0</td>\n",
       "      <td>0</td>\n",
       "    </tr>\n",
       "    <tr>\n",
       "      <th>2</th>\n",
       "      <td>0.000000</td>\n",
       "      <td>0.866025</td>\n",
       "      <td>0.000000</td>\n",
       "      <td>0.0</td>\n",
       "      <td>0.000000</td>\n",
       "      <td>0.0</td>\n",
       "      <td>0.000000</td>\n",
       "      <td>0.000000</td>\n",
       "      <td>0.000000</td>\n",
       "      <td>0.000000</td>\n",
       "      <td>0.0</td>\n",
       "      <td>4.438887e-09</td>\n",
       "      <td>0.000000</td>\n",
       "      <td>0.0</td>\n",
       "      <td>0.0</td>\n",
       "      <td>0.0</td>\n",
       "      <td>0.000000</td>\n",
       "      <td>0.000000</td>\n",
       "      <td>0.000000</td>\n",
       "      <td>0.551961</td>\n",
       "      <td>0</td>\n",
       "      <td>0</td>\n",
       "      <td>0</td>\n",
       "    </tr>\n",
       "    <tr>\n",
       "      <th>3</th>\n",
       "      <td>0.000351</td>\n",
       "      <td>0.866025</td>\n",
       "      <td>0.000000</td>\n",
       "      <td>0.0</td>\n",
       "      <td>0.000000</td>\n",
       "      <td>0.0</td>\n",
       "      <td>0.000000</td>\n",
       "      <td>0.000000</td>\n",
       "      <td>0.000000</td>\n",
       "      <td>0.000000</td>\n",
       "      <td>0.0</td>\n",
       "      <td>8.333333e-03</td>\n",
       "      <td>0.025000</td>\n",
       "      <td>0.0</td>\n",
       "      <td>1.0</td>\n",
       "      <td>0.0</td>\n",
       "      <td>0.898087</td>\n",
       "      <td>0.000015</td>\n",
       "      <td>0.357143</td>\n",
       "      <td>0.000000</td>\n",
       "      <td>1</td>\n",
       "      <td>0</td>\n",
       "      <td>0</td>\n",
       "    </tr>\n",
       "    <tr>\n",
       "      <th>4</th>\n",
       "      <td>0.000000</td>\n",
       "      <td>0.866025</td>\n",
       "      <td>0.000000</td>\n",
       "      <td>0.0</td>\n",
       "      <td>0.000000</td>\n",
       "      <td>0.0</td>\n",
       "      <td>0.000000</td>\n",
       "      <td>0.000000</td>\n",
       "      <td>0.000000</td>\n",
       "      <td>0.000000</td>\n",
       "      <td>0.0</td>\n",
       "      <td>4.438874e-09</td>\n",
       "      <td>0.000000</td>\n",
       "      <td>0.0</td>\n",
       "      <td>0.0</td>\n",
       "      <td>0.0</td>\n",
       "      <td>0.000000</td>\n",
       "      <td>0.000000</td>\n",
       "      <td>0.000000</td>\n",
       "      <td>0.551961</td>\n",
       "      <td>0</td>\n",
       "      <td>0</td>\n",
       "      <td>0</td>\n",
       "    </tr>\n",
       "    <tr>\n",
       "      <th>...</th>\n",
       "      <td>...</td>\n",
       "      <td>...</td>\n",
       "      <td>...</td>\n",
       "      <td>...</td>\n",
       "      <td>...</td>\n",
       "      <td>...</td>\n",
       "      <td>...</td>\n",
       "      <td>...</td>\n",
       "      <td>...</td>\n",
       "      <td>...</td>\n",
       "      <td>...</td>\n",
       "      <td>...</td>\n",
       "      <td>...</td>\n",
       "      <td>...</td>\n",
       "      <td>...</td>\n",
       "      <td>...</td>\n",
       "      <td>...</td>\n",
       "      <td>...</td>\n",
       "      <td>...</td>\n",
       "      <td>...</td>\n",
       "      <td>...</td>\n",
       "      <td>...</td>\n",
       "      <td>...</td>\n",
       "    </tr>\n",
       "    <tr>\n",
       "      <th>14597098</th>\n",
       "      <td>0.001221</td>\n",
       "      <td>0.707107</td>\n",
       "      <td>0.079193</td>\n",
       "      <td>0.0</td>\n",
       "      <td>0.037257</td>\n",
       "      <td>0.0</td>\n",
       "      <td>0.066158</td>\n",
       "      <td>0.003221</td>\n",
       "      <td>0.008549</td>\n",
       "      <td>0.012878</td>\n",
       "      <td>0.0</td>\n",
       "      <td>1.292872e-06</td>\n",
       "      <td>0.000005</td>\n",
       "      <td>1.0</td>\n",
       "      <td>1.0</td>\n",
       "      <td>0.0</td>\n",
       "      <td>0.125015</td>\n",
       "      <td>0.002289</td>\n",
       "      <td>0.357143</td>\n",
       "      <td>0.000000</td>\n",
       "      <td>1</td>\n",
       "      <td>0</td>\n",
       "      <td>0</td>\n",
       "    </tr>\n",
       "    <tr>\n",
       "      <th>14597099</th>\n",
       "      <td>0.001221</td>\n",
       "      <td>0.707107</td>\n",
       "      <td>0.000000</td>\n",
       "      <td>0.0</td>\n",
       "      <td>0.000000</td>\n",
       "      <td>0.0</td>\n",
       "      <td>0.000000</td>\n",
       "      <td>0.000000</td>\n",
       "      <td>0.000000</td>\n",
       "      <td>0.000000</td>\n",
       "      <td>0.0</td>\n",
       "      <td>8.134883e-07</td>\n",
       "      <td>0.000000</td>\n",
       "      <td>0.0</td>\n",
       "      <td>0.0</td>\n",
       "      <td>1.0</td>\n",
       "      <td>0.034164</td>\n",
       "      <td>0.000000</td>\n",
       "      <td>0.357143</td>\n",
       "      <td>0.000000</td>\n",
       "      <td>1</td>\n",
       "      <td>0</td>\n",
       "      <td>0</td>\n",
       "    </tr>\n",
       "    <tr>\n",
       "      <th>14597100</th>\n",
       "      <td>0.006760</td>\n",
       "      <td>0.707107</td>\n",
       "      <td>0.022627</td>\n",
       "      <td>0.0</td>\n",
       "      <td>0.017819</td>\n",
       "      <td>0.0</td>\n",
       "      <td>0.000000</td>\n",
       "      <td>0.000000</td>\n",
       "      <td>0.000000</td>\n",
       "      <td>0.000000</td>\n",
       "      <td>1.0</td>\n",
       "      <td>1.953125e-03</td>\n",
       "      <td>0.000000</td>\n",
       "      <td>0.0</td>\n",
       "      <td>0.0</td>\n",
       "      <td>1.0</td>\n",
       "      <td>0.966049</td>\n",
       "      <td>0.000000</td>\n",
       "      <td>0.357143</td>\n",
       "      <td>0.000000</td>\n",
       "      <td>1</td>\n",
       "      <td>0</td>\n",
       "      <td>0</td>\n",
       "    </tr>\n",
       "    <tr>\n",
       "      <th>14597101</th>\n",
       "      <td>0.764782</td>\n",
       "      <td>0.707107</td>\n",
       "      <td>0.015248</td>\n",
       "      <td>0.0</td>\n",
       "      <td>0.007174</td>\n",
       "      <td>0.0</td>\n",
       "      <td>0.000000</td>\n",
       "      <td>0.000000</td>\n",
       "      <td>0.000000</td>\n",
       "      <td>0.000000</td>\n",
       "      <td>0.0</td>\n",
       "      <td>1.666667e-01</td>\n",
       "      <td>0.000000</td>\n",
       "      <td>0.0</td>\n",
       "      <td>0.0</td>\n",
       "      <td>1.0</td>\n",
       "      <td>0.275742</td>\n",
       "      <td>0.000000</td>\n",
       "      <td>0.357143</td>\n",
       "      <td>0.000000</td>\n",
       "      <td>1</td>\n",
       "      <td>0</td>\n",
       "      <td>0</td>\n",
       "    </tr>\n",
       "    <tr>\n",
       "      <th>14597102</th>\n",
       "      <td>0.764645</td>\n",
       "      <td>0.707107</td>\n",
       "      <td>0.015248</td>\n",
       "      <td>0.0</td>\n",
       "      <td>0.007174</td>\n",
       "      <td>0.0</td>\n",
       "      <td>0.000000</td>\n",
       "      <td>0.000000</td>\n",
       "      <td>0.000000</td>\n",
       "      <td>0.000000</td>\n",
       "      <td>0.0</td>\n",
       "      <td>2.272727e-02</td>\n",
       "      <td>0.000000</td>\n",
       "      <td>0.0</td>\n",
       "      <td>0.0</td>\n",
       "      <td>1.0</td>\n",
       "      <td>0.000992</td>\n",
       "      <td>0.000000</td>\n",
       "      <td>0.357143</td>\n",
       "      <td>0.000000</td>\n",
       "      <td>1</td>\n",
       "      <td>0</td>\n",
       "      <td>0</td>\n",
       "    </tr>\n",
       "  </tbody>\n",
       "</table>\n",
       "<p>14597103 rows × 23 columns</p>\n",
       "</div>"
      ],
      "text/plain": [
       "          Dst Port       xhr  Fwd Pkt Len Max  Fwd Pkt Len Min  \\\n",
       "0         0.000000  0.866025         0.000000              0.0   \n",
       "1         0.000000  0.866025         0.000000              0.0   \n",
       "2         0.000000  0.866025         0.000000              0.0   \n",
       "3         0.000351  0.866025         0.000000              0.0   \n",
       "4         0.000000  0.866025         0.000000              0.0   \n",
       "...            ...       ...              ...              ...   \n",
       "14597098  0.001221  0.707107         0.079193              0.0   \n",
       "14597099  0.001221  0.707107         0.000000              0.0   \n",
       "14597100  0.006760  0.707107         0.022627              0.0   \n",
       "14597101  0.764782  0.707107         0.015248              0.0   \n",
       "14597102  0.764645  0.707107         0.015248              0.0   \n",
       "\n",
       "          Fwd Pkt Len Mean  Bwd Pkt Len Min  Bwd Pkt Len Mean  Bwd IAT Tot  \\\n",
       "0                 0.000000              0.0          0.000000     0.000000   \n",
       "1                 0.000000              0.0          0.000000     0.000000   \n",
       "2                 0.000000              0.0          0.000000     0.000000   \n",
       "3                 0.000000              0.0          0.000000     0.000000   \n",
       "4                 0.000000              0.0          0.000000     0.000000   \n",
       "...                    ...              ...               ...          ...   \n",
       "14597098          0.037257              0.0          0.066158     0.003221   \n",
       "14597099          0.000000              0.0          0.000000     0.000000   \n",
       "14597100          0.017819              0.0          0.000000     0.000000   \n",
       "14597101          0.007174              0.0          0.000000     0.000000   \n",
       "14597102          0.007174              0.0          0.000000     0.000000   \n",
       "\n",
       "          Bwd IAT Mean  Bwd IAT Max  Fwd PSH Flags    Fwd Pkts/s  Bwd Pkts/s  \\\n",
       "0             0.000000     0.000000            0.0  4.438890e-09    0.000000   \n",
       "1             0.000000     0.000000            0.0  4.438851e-09    0.000000   \n",
       "2             0.000000     0.000000            0.0  4.438887e-09    0.000000   \n",
       "3             0.000000     0.000000            0.0  8.333333e-03    0.025000   \n",
       "4             0.000000     0.000000            0.0  4.438874e-09    0.000000   \n",
       "...                ...          ...            ...           ...         ...   \n",
       "14597098      0.008549     0.012878            0.0  1.292872e-06    0.000005   \n",
       "14597099      0.000000     0.000000            0.0  8.134883e-07    0.000000   \n",
       "14597100      0.000000     0.000000            1.0  1.953125e-03    0.000000   \n",
       "14597101      0.000000     0.000000            0.0  1.666667e-01    0.000000   \n",
       "14597102      0.000000     0.000000            0.0  2.272727e-02    0.000000   \n",
       "\n",
       "          RST Flag Cnt  PSH Flag Cnt  ACK Flag Cnt  Init Fwd Win Byts  \\\n",
       "0                  0.0           0.0           0.0           0.000000   \n",
       "1                  0.0           0.0           0.0           0.000000   \n",
       "2                  0.0           0.0           0.0           0.000000   \n",
       "3                  0.0           1.0           0.0           0.898087   \n",
       "4                  0.0           0.0           0.0           0.000000   \n",
       "...                ...           ...           ...                ...   \n",
       "14597098           1.0           1.0           0.0           0.125015   \n",
       "14597099           0.0           0.0           1.0           0.034164   \n",
       "14597100           0.0           0.0           1.0           0.966049   \n",
       "14597101           0.0           0.0           1.0           0.275742   \n",
       "14597102           0.0           0.0           1.0           0.000992   \n",
       "\n",
       "          Init Bwd Win Byts  Fwd Seg Size Min  Idle Min  Protocol_6  \\\n",
       "0                  0.000000          0.000000  0.551961           0   \n",
       "1                  0.000000          0.000000  0.551961           0   \n",
       "2                  0.000000          0.000000  0.551961           0   \n",
       "3                  0.000015          0.357143  0.000000           1   \n",
       "4                  0.000000          0.000000  0.551961           0   \n",
       "...                     ...               ...       ...         ...   \n",
       "14597098           0.002289          0.357143  0.000000           1   \n",
       "14597099           0.000000          0.357143  0.000000           1   \n",
       "14597100           0.000000          0.357143  0.000000           1   \n",
       "14597101           0.000000          0.357143  0.000000           1   \n",
       "14597102           0.000000          0.357143  0.000000           1   \n",
       "\n",
       "          Protocol_17  Label  \n",
       "0                   0      0  \n",
       "1                   0      0  \n",
       "2                   0      0  \n",
       "3                   0      0  \n",
       "4                   0      0  \n",
       "...               ...    ...  \n",
       "14597098            0      0  \n",
       "14597099            0      0  \n",
       "14597100            0      0  \n",
       "14597101            0      0  \n",
       "14597102            0      0  \n",
       "\n",
       "[14597103 rows x 23 columns]"
      ]
     },
     "execution_count": 2,
     "metadata": {},
     "output_type": "execute_result"
    }
   ],
   "source": [
    "df = pd.read_csv('../Data Preprocess/autoencoder-preprocesed-2.csv', sep=',', low_memory=False)\n",
    "\n",
    "num_cols = df.columns[:-3]\n",
    "df"
   ]
  },
  {
   "cell_type": "code",
   "execution_count": 3,
   "metadata": {},
   "outputs": [
    {
     "name": "stdout",
     "output_type": "stream",
     "text": [
      "<class 'pandas.core.frame.DataFrame'>\n",
      "RangeIndex: 14597103 entries, 0 to 14597102\n",
      "Data columns (total 23 columns):\n",
      " #   Column             Dtype  \n",
      "---  ------             -----  \n",
      " 0   Dst Port           float64\n",
      " 1   xhr                float64\n",
      " 2   Fwd Pkt Len Max    float64\n",
      " 3   Fwd Pkt Len Min    float64\n",
      " 4   Fwd Pkt Len Mean   float64\n",
      " 5   Bwd Pkt Len Min    float64\n",
      " 6   Bwd Pkt Len Mean   float64\n",
      " 7   Bwd IAT Tot        float64\n",
      " 8   Bwd IAT Mean       float64\n",
      " 9   Bwd IAT Max        float64\n",
      " 10  Fwd PSH Flags      float64\n",
      " 11  Fwd Pkts/s         float64\n",
      " 12  Bwd Pkts/s         float64\n",
      " 13  RST Flag Cnt       float64\n",
      " 14  PSH Flag Cnt       float64\n",
      " 15  ACK Flag Cnt       float64\n",
      " 16  Init Fwd Win Byts  float64\n",
      " 17  Init Bwd Win Byts  float64\n",
      " 18  Fwd Seg Size Min   float64\n",
      " 19  Idle Min           float64\n",
      " 20  Protocol_6         int64  \n",
      " 21  Protocol_17        int64  \n",
      " 22  Label              int64  \n",
      "dtypes: float64(20), int64(3)\n",
      "memory usage: 2.5 GB\n"
     ]
    }
   ],
   "source": [
    "df.info()"
   ]
  },
  {
   "cell_type": "code",
   "execution_count": 4,
   "metadata": {},
   "outputs": [
    {
     "data": {
      "text/html": [
       "<div>\n",
       "<style scoped>\n",
       "    .dataframe tbody tr th:only-of-type {\n",
       "        vertical-align: middle;\n",
       "    }\n",
       "\n",
       "    .dataframe tbody tr th {\n",
       "        vertical-align: top;\n",
       "    }\n",
       "\n",
       "    .dataframe thead th {\n",
       "        text-align: right;\n",
       "    }\n",
       "</style>\n",
       "<table border=\"1\" class=\"dataframe\">\n",
       "  <thead>\n",
       "    <tr style=\"text-align: right;\">\n",
       "      <th></th>\n",
       "      <th>Dst Port</th>\n",
       "      <th>xhr</th>\n",
       "      <th>Fwd Pkt Len Max</th>\n",
       "      <th>Fwd Pkt Len Min</th>\n",
       "      <th>Fwd Pkt Len Mean</th>\n",
       "      <th>Bwd Pkt Len Min</th>\n",
       "      <th>Bwd Pkt Len Mean</th>\n",
       "      <th>Bwd IAT Tot</th>\n",
       "      <th>Bwd IAT Mean</th>\n",
       "      <th>Bwd IAT Max</th>\n",
       "      <th>Fwd PSH Flags</th>\n",
       "      <th>Fwd Pkts/s</th>\n",
       "      <th>Bwd Pkts/s</th>\n",
       "      <th>RST Flag Cnt</th>\n",
       "      <th>PSH Flag Cnt</th>\n",
       "      <th>ACK Flag Cnt</th>\n",
       "      <th>Init Fwd Win Byts</th>\n",
       "      <th>Init Bwd Win Byts</th>\n",
       "      <th>Fwd Seg Size Min</th>\n",
       "      <th>Idle Min</th>\n",
       "      <th>Protocol_6</th>\n",
       "      <th>Protocol_17</th>\n",
       "      <th>Label</th>\n",
       "    </tr>\n",
       "  </thead>\n",
       "  <tbody>\n",
       "    <tr>\n",
       "      <th>count</th>\n",
       "      <td>1.459710e+07</td>\n",
       "      <td>1.459710e+07</td>\n",
       "      <td>1.459710e+07</td>\n",
       "      <td>1.459710e+07</td>\n",
       "      <td>1.459710e+07</td>\n",
       "      <td>1.459710e+07</td>\n",
       "      <td>1.459710e+07</td>\n",
       "      <td>1.459710e+07</td>\n",
       "      <td>1.459710e+07</td>\n",
       "      <td>1.459710e+07</td>\n",
       "      <td>1.459710e+07</td>\n",
       "      <td>1.459710e+07</td>\n",
       "      <td>1.459710e+07</td>\n",
       "      <td>1.459710e+07</td>\n",
       "      <td>1.459710e+07</td>\n",
       "      <td>1.459710e+07</td>\n",
       "      <td>1.459710e+07</td>\n",
       "      <td>1.459710e+07</td>\n",
       "      <td>1.459710e+07</td>\n",
       "      <td>1.459710e+07</td>\n",
       "      <td>1.459710e+07</td>\n",
       "      <td>1.459710e+07</td>\n",
       "      <td>1.459710e+07</td>\n",
       "    </tr>\n",
       "    <tr>\n",
       "      <th>mean</th>\n",
       "      <td>1.452465e-01</td>\n",
       "      <td>4.963900e-01</td>\n",
       "      <td>8.862667e-02</td>\n",
       "      <td>1.904522e-02</td>\n",
       "      <td>3.358335e-02</td>\n",
       "      <td>2.108649e-02</td>\n",
       "      <td>5.084941e-02</td>\n",
       "      <td>9.632938e-03</td>\n",
       "      <td>1.114897e-02</td>\n",
       "      <td>1.377870e-02</td>\n",
       "      <td>3.919470e-02</td>\n",
       "      <td>6.777235e-03</td>\n",
       "      <td>8.404827e-03</td>\n",
       "      <td>1.703621e-01</td>\n",
       "      <td>3.620142e-01</td>\n",
       "      <td>3.358283e-01</td>\n",
       "      <td>1.223910e-01</td>\n",
       "      <td>1.393174e-01</td>\n",
       "      <td>3.179708e-01</td>\n",
       "      <td>1.269802e-02</td>\n",
       "      <td>7.015154e-01</td>\n",
       "      <td>2.853078e-01</td>\n",
       "      <td>1.151827e+00</td>\n",
       "    </tr>\n",
       "    <tr>\n",
       "      <th>std</th>\n",
       "      <td>2.953016e-01</td>\n",
       "      <td>2.593562e-01</td>\n",
       "      <td>1.415278e-01</td>\n",
       "      <td>3.379479e-02</td>\n",
       "      <td>3.862349e-02</td>\n",
       "      <td>3.839118e-02</td>\n",
       "      <td>6.461306e-02</td>\n",
       "      <td>6.340811e-02</td>\n",
       "      <td>4.771296e-02</td>\n",
       "      <td>4.559953e-02</td>\n",
       "      <td>1.940579e-01</td>\n",
       "      <td>3.739129e-02</td>\n",
       "      <td>4.757323e-02</td>\n",
       "      <td>3.759506e-01</td>\n",
       "      <td>4.805829e-01</td>\n",
       "      <td>4.722792e-01</td>\n",
       "      <td>2.354339e-01</td>\n",
       "      <td>3.235936e-01</td>\n",
       "      <td>1.420988e-01</td>\n",
       "      <td>7.316006e-02</td>\n",
       "      <td>4.575932e-01</td>\n",
       "      <td>4.515610e-01</td>\n",
       "      <td>2.695378e+00</td>\n",
       "    </tr>\n",
       "    <tr>\n",
       "      <th>min</th>\n",
       "      <td>0.000000e+00</td>\n",
       "      <td>0.000000e+00</td>\n",
       "      <td>0.000000e+00</td>\n",
       "      <td>0.000000e+00</td>\n",
       "      <td>0.000000e+00</td>\n",
       "      <td>0.000000e+00</td>\n",
       "      <td>0.000000e+00</td>\n",
       "      <td>0.000000e+00</td>\n",
       "      <td>0.000000e+00</td>\n",
       "      <td>0.000000e+00</td>\n",
       "      <td>0.000000e+00</td>\n",
       "      <td>0.000000e+00</td>\n",
       "      <td>0.000000e+00</td>\n",
       "      <td>0.000000e+00</td>\n",
       "      <td>0.000000e+00</td>\n",
       "      <td>0.000000e+00</td>\n",
       "      <td>0.000000e+00</td>\n",
       "      <td>0.000000e+00</td>\n",
       "      <td>0.000000e+00</td>\n",
       "      <td>0.000000e+00</td>\n",
       "      <td>0.000000e+00</td>\n",
       "      <td>0.000000e+00</td>\n",
       "      <td>0.000000e+00</td>\n",
       "    </tr>\n",
       "    <tr>\n",
       "      <th>25%</th>\n",
       "      <td>8.087282e-04</td>\n",
       "      <td>2.588190e-01</td>\n",
       "      <td>0.000000e+00</td>\n",
       "      <td>0.000000e+00</td>\n",
       "      <td>0.000000e+00</td>\n",
       "      <td>0.000000e+00</td>\n",
       "      <td>0.000000e+00</td>\n",
       "      <td>0.000000e+00</td>\n",
       "      <td>0.000000e+00</td>\n",
       "      <td>0.000000e+00</td>\n",
       "      <td>0.000000e+00</td>\n",
       "      <td>7.546002e-07</td>\n",
       "      <td>0.000000e+00</td>\n",
       "      <td>0.000000e+00</td>\n",
       "      <td>0.000000e+00</td>\n",
       "      <td>0.000000e+00</td>\n",
       "      <td>0.000000e+00</td>\n",
       "      <td>0.000000e+00</td>\n",
       "      <td>1.428571e-01</td>\n",
       "      <td>0.000000e+00</td>\n",
       "      <td>0.000000e+00</td>\n",
       "      <td>0.000000e+00</td>\n",
       "      <td>0.000000e+00</td>\n",
       "    </tr>\n",
       "    <tr>\n",
       "      <th>50%</th>\n",
       "      <td>1.220722e-03</td>\n",
       "      <td>5.000000e-01</td>\n",
       "      <td>1.918347e-02</td>\n",
       "      <td>0.000000e+00</td>\n",
       "      <td>2.429823e-02</td>\n",
       "      <td>0.000000e+00</td>\n",
       "      <td>3.307921e-02</td>\n",
       "      <td>0.000000e+00</td>\n",
       "      <td>0.000000e+00</td>\n",
       "      <td>0.000000e+00</td>\n",
       "      <td>0.000000e+00</td>\n",
       "      <td>3.952569e-05</td>\n",
       "      <td>2.888951e-06</td>\n",
       "      <td>0.000000e+00</td>\n",
       "      <td>0.000000e+00</td>\n",
       "      <td>0.000000e+00</td>\n",
       "      <td>4.257202e-03</td>\n",
       "      <td>0.000000e+00</td>\n",
       "      <td>3.571429e-01</td>\n",
       "      <td>0.000000e+00</td>\n",
       "      <td>1.000000e+00</td>\n",
       "      <td>0.000000e+00</td>\n",
       "      <td>0.000000e+00</td>\n",
       "    </tr>\n",
       "    <tr>\n",
       "      <th>75%</th>\n",
       "      <td>5.171283e-02</td>\n",
       "      <td>7.071068e-01</td>\n",
       "      <td>7.919331e-02</td>\n",
       "      <td>5.128205e-02</td>\n",
       "      <td>4.180838e-02</td>\n",
       "      <td>4.102564e-02</td>\n",
       "      <td>7.537721e-02</td>\n",
       "      <td>4.942583e-04</td>\n",
       "      <td>1.493844e-03</td>\n",
       "      <td>1.487633e-03</td>\n",
       "      <td>0.000000e+00</td>\n",
       "      <td>5.868545e-04</td>\n",
       "      <td>5.040323e-04</td>\n",
       "      <td>0.000000e+00</td>\n",
       "      <td>1.000000e+00</td>\n",
       "      <td>1.000000e+00</td>\n",
       "      <td>1.250153e-01</td>\n",
       "      <td>3.448486e-03</td>\n",
       "      <td>3.571429e-01</td>\n",
       "      <td>0.000000e+00</td>\n",
       "      <td>1.000000e+00</td>\n",
       "      <td>1.000000e+00</td>\n",
       "      <td>0.000000e+00</td>\n",
       "    </tr>\n",
       "    <tr>\n",
       "      <th>max</th>\n",
       "      <td>1.000000e+00</td>\n",
       "      <td>1.000000e+00</td>\n",
       "      <td>1.000000e+00</td>\n",
       "      <td>1.000000e+00</td>\n",
       "      <td>1.000000e+00</td>\n",
       "      <td>1.000000e+00</td>\n",
       "      <td>1.000000e+00</td>\n",
       "      <td>1.000000e+00</td>\n",
       "      <td>1.000000e+00</td>\n",
       "      <td>1.000000e+00</td>\n",
       "      <td>1.000000e+00</td>\n",
       "      <td>1.000000e+00</td>\n",
       "      <td>1.000000e+00</td>\n",
       "      <td>1.000000e+00</td>\n",
       "      <td>1.000000e+00</td>\n",
       "      <td>1.000000e+00</td>\n",
       "      <td>1.000000e+00</td>\n",
       "      <td>1.000000e+00</td>\n",
       "      <td>1.000000e+00</td>\n",
       "      <td>1.000000e+00</td>\n",
       "      <td>1.000000e+00</td>\n",
       "      <td>1.000000e+00</td>\n",
       "      <td>1.400000e+01</td>\n",
       "    </tr>\n",
       "  </tbody>\n",
       "</table>\n",
       "</div>"
      ],
      "text/plain": [
       "           Dst Port           xhr  Fwd Pkt Len Max  Fwd Pkt Len Min  \\\n",
       "count  1.459710e+07  1.459710e+07     1.459710e+07     1.459710e+07   \n",
       "mean   1.452465e-01  4.963900e-01     8.862667e-02     1.904522e-02   \n",
       "std    2.953016e-01  2.593562e-01     1.415278e-01     3.379479e-02   \n",
       "min    0.000000e+00  0.000000e+00     0.000000e+00     0.000000e+00   \n",
       "25%    8.087282e-04  2.588190e-01     0.000000e+00     0.000000e+00   \n",
       "50%    1.220722e-03  5.000000e-01     1.918347e-02     0.000000e+00   \n",
       "75%    5.171283e-02  7.071068e-01     7.919331e-02     5.128205e-02   \n",
       "max    1.000000e+00  1.000000e+00     1.000000e+00     1.000000e+00   \n",
       "\n",
       "       Fwd Pkt Len Mean  Bwd Pkt Len Min  Bwd Pkt Len Mean   Bwd IAT Tot  \\\n",
       "count      1.459710e+07     1.459710e+07      1.459710e+07  1.459710e+07   \n",
       "mean       3.358335e-02     2.108649e-02      5.084941e-02  9.632938e-03   \n",
       "std        3.862349e-02     3.839118e-02      6.461306e-02  6.340811e-02   \n",
       "min        0.000000e+00     0.000000e+00      0.000000e+00  0.000000e+00   \n",
       "25%        0.000000e+00     0.000000e+00      0.000000e+00  0.000000e+00   \n",
       "50%        2.429823e-02     0.000000e+00      3.307921e-02  0.000000e+00   \n",
       "75%        4.180838e-02     4.102564e-02      7.537721e-02  4.942583e-04   \n",
       "max        1.000000e+00     1.000000e+00      1.000000e+00  1.000000e+00   \n",
       "\n",
       "       Bwd IAT Mean   Bwd IAT Max  Fwd PSH Flags    Fwd Pkts/s    Bwd Pkts/s  \\\n",
       "count  1.459710e+07  1.459710e+07   1.459710e+07  1.459710e+07  1.459710e+07   \n",
       "mean   1.114897e-02  1.377870e-02   3.919470e-02  6.777235e-03  8.404827e-03   \n",
       "std    4.771296e-02  4.559953e-02   1.940579e-01  3.739129e-02  4.757323e-02   \n",
       "min    0.000000e+00  0.000000e+00   0.000000e+00  0.000000e+00  0.000000e+00   \n",
       "25%    0.000000e+00  0.000000e+00   0.000000e+00  7.546002e-07  0.000000e+00   \n",
       "50%    0.000000e+00  0.000000e+00   0.000000e+00  3.952569e-05  2.888951e-06   \n",
       "75%    1.493844e-03  1.487633e-03   0.000000e+00  5.868545e-04  5.040323e-04   \n",
       "max    1.000000e+00  1.000000e+00   1.000000e+00  1.000000e+00  1.000000e+00   \n",
       "\n",
       "       RST Flag Cnt  PSH Flag Cnt  ACK Flag Cnt  Init Fwd Win Byts  \\\n",
       "count  1.459710e+07  1.459710e+07  1.459710e+07       1.459710e+07   \n",
       "mean   1.703621e-01  3.620142e-01  3.358283e-01       1.223910e-01   \n",
       "std    3.759506e-01  4.805829e-01  4.722792e-01       2.354339e-01   \n",
       "min    0.000000e+00  0.000000e+00  0.000000e+00       0.000000e+00   \n",
       "25%    0.000000e+00  0.000000e+00  0.000000e+00       0.000000e+00   \n",
       "50%    0.000000e+00  0.000000e+00  0.000000e+00       4.257202e-03   \n",
       "75%    0.000000e+00  1.000000e+00  1.000000e+00       1.250153e-01   \n",
       "max    1.000000e+00  1.000000e+00  1.000000e+00       1.000000e+00   \n",
       "\n",
       "       Init Bwd Win Byts  Fwd Seg Size Min      Idle Min    Protocol_6  \\\n",
       "count       1.459710e+07      1.459710e+07  1.459710e+07  1.459710e+07   \n",
       "mean        1.393174e-01      3.179708e-01  1.269802e-02  7.015154e-01   \n",
       "std         3.235936e-01      1.420988e-01  7.316006e-02  4.575932e-01   \n",
       "min         0.000000e+00      0.000000e+00  0.000000e+00  0.000000e+00   \n",
       "25%         0.000000e+00      1.428571e-01  0.000000e+00  0.000000e+00   \n",
       "50%         0.000000e+00      3.571429e-01  0.000000e+00  1.000000e+00   \n",
       "75%         3.448486e-03      3.571429e-01  0.000000e+00  1.000000e+00   \n",
       "max         1.000000e+00      1.000000e+00  1.000000e+00  1.000000e+00   \n",
       "\n",
       "        Protocol_17         Label  \n",
       "count  1.459710e+07  1.459710e+07  \n",
       "mean   2.853078e-01  1.151827e+00  \n",
       "std    4.515610e-01  2.695378e+00  \n",
       "min    0.000000e+00  0.000000e+00  \n",
       "25%    0.000000e+00  0.000000e+00  \n",
       "50%    0.000000e+00  0.000000e+00  \n",
       "75%    1.000000e+00  0.000000e+00  \n",
       "max    1.000000e+00  1.400000e+01  "
      ]
     },
     "execution_count": 4,
     "metadata": {},
     "output_type": "execute_result"
    }
   ],
   "source": [
    "df.describe()"
   ]
  },
  {
   "cell_type": "code",
   "execution_count": 5,
   "metadata": {},
   "outputs": [
    {
     "data": {
      "text/plain": [
       "Text(0.5, 1.0, 'Distribución del tráfico')"
      ]
     },
     "execution_count": 5,
     "metadata": {},
     "output_type": "execute_result"
    },
    {
     "data": {
      "image/png": "[encoded data removed]",
      "text/plain": [
       "<Figure size 432x288 with 1 Axes>"
      ]
     },
     "metadata": {
      "needs_background": "light"
     },
     "output_type": "display_data"
    }
   ],
   "source": [
    "df['Label'].value_counts().plot(kind='barh')\n",
    "plt.title('Distribución del tráfico')"
   ]
  },
  {
   "cell_type": "code",
   "execution_count": 6,
   "metadata": {},
   "outputs": [
    {
     "data": {
      "text/plain": [
       "array([0, 1, 5, 3, 6, 2, 4])"
      ]
     },
     "execution_count": 6,
     "metadata": {},
     "output_type": "execute_result"
    }
   ],
   "source": [
    "# 1 -> DoS\n",
    "# 2 -> DDoS\n",
    "# 3 -> Botnet\n",
    "# 4 -> Bruteforce\n",
    "# 5 -> Infiltration\n",
    "# 6 -> Web attack\n",
    "df.replace(to_replace=2, value=1, inplace=True)     # DoS attack\n",
    "df.replace(to_replace=3, value=1, inplace=True)     # DoS attack\n",
    "df.replace(to_replace=4, value=1, inplace=True)     # DoS attack\n",
    "df.replace(to_replace=5, value=2, inplace=True)     # DDoS+PortScan\n",
    "df.replace(to_replace=6, value=2, inplace=True)     # DDoS+PortScan\n",
    "df.replace(to_replace=7, value=2, inplace=True)     # DDoS+PortScan\n",
    "df.replace(to_replace=8, value=3, inplace=True)     # Botnet attack\n",
    "df.replace(to_replace=9, value=4, inplace=True)     # Bruteforce attack\n",
    "df.replace(to_replace=10, value=4, inplace=True)    # Bruteforce attack\n",
    "df.replace(to_replace=11, value=5, inplace=True)    # Infiltration attack\n",
    "df.replace(to_replace=12, value=6, inplace=True)    # Web attack\n",
    "df.replace(to_replace=13, value=6, inplace=True)    # Web attack\n",
    "df.replace(to_replace=14, value=6, inplace=True)    # Web attack\n",
    "df['Label'].unique()"
   ]
  },
  {
   "cell_type": "code",
   "execution_count": 7,
   "metadata": {},
   "outputs": [
    {
     "data": {
      "text/plain": [
       "Text(0.5, 1.0, 'Distribución del tráfico')"
      ]
     },
     "execution_count": 7,
     "metadata": {},
     "output_type": "execute_result"
    },
    {
     "data": {
      "image/png": "[encoded data removed]",
      "text/plain": [
       "<Figure size 432x288 with 1 Axes>"
      ]
     },
     "metadata": {
      "needs_background": "light"
     },
     "output_type": "display_data"
    }
   ],
   "source": [
    "df['Label'].value_counts().plot(kind='barh')\n",
    "plt.title('Distribución del tráfico')"
   ]
  },
  {
   "cell_type": "code",
   "execution_count": 8,
   "metadata": {},
   "outputs": [
    {
     "data": {
      "text/html": [
       "<div>\n",
       "<style scoped>\n",
       "    .dataframe tbody tr th:only-of-type {\n",
       "        vertical-align: middle;\n",
       "    }\n",
       "\n",
       "    .dataframe tbody tr th {\n",
       "        vertical-align: top;\n",
       "    }\n",
       "\n",
       "    .dataframe thead th {\n",
       "        text-align: right;\n",
       "    }\n",
       "</style>\n",
       "<table border=\"1\" class=\"dataframe\">\n",
       "  <thead>\n",
       "    <tr style=\"text-align: right;\">\n",
       "      <th></th>\n",
       "      <th>Dst Port</th>\n",
       "      <th>xhr</th>\n",
       "      <th>Fwd Pkt Len Max</th>\n",
       "      <th>Fwd Pkt Len Min</th>\n",
       "      <th>Fwd Pkt Len Mean</th>\n",
       "      <th>Bwd Pkt Len Min</th>\n",
       "      <th>Bwd Pkt Len Mean</th>\n",
       "      <th>Bwd IAT Tot</th>\n",
       "      <th>Bwd IAT Mean</th>\n",
       "      <th>Bwd IAT Max</th>\n",
       "      <th>Fwd PSH Flags</th>\n",
       "      <th>Fwd Pkts/s</th>\n",
       "      <th>Bwd Pkts/s</th>\n",
       "      <th>RST Flag Cnt</th>\n",
       "      <th>PSH Flag Cnt</th>\n",
       "      <th>ACK Flag Cnt</th>\n",
       "      <th>Init Fwd Win Byts</th>\n",
       "      <th>Init Bwd Win Byts</th>\n",
       "      <th>Fwd Seg Size Min</th>\n",
       "      <th>Idle Min</th>\n",
       "      <th>Protocol_6</th>\n",
       "      <th>Protocol_17</th>\n",
       "      <th>Label</th>\n",
       "    </tr>\n",
       "  </thead>\n",
       "  <tbody>\n",
       "    <tr>\n",
       "      <th>0</th>\n",
       "      <td>0.000000</td>\n",
       "      <td>0.866025</td>\n",
       "      <td>0.000000</td>\n",
       "      <td>0.0</td>\n",
       "      <td>0.000000</td>\n",
       "      <td>0.0</td>\n",
       "      <td>0.000000</td>\n",
       "      <td>0.000000</td>\n",
       "      <td>0.000000</td>\n",
       "      <td>0.000000</td>\n",
       "      <td>0.0</td>\n",
       "      <td>4.438890e-09</td>\n",
       "      <td>0.000000</td>\n",
       "      <td>0.0</td>\n",
       "      <td>0.0</td>\n",
       "      <td>0.0</td>\n",
       "      <td>0.000000</td>\n",
       "      <td>0.000000</td>\n",
       "      <td>0.000000</td>\n",
       "      <td>0.551961</td>\n",
       "      <td>0</td>\n",
       "      <td>0</td>\n",
       "      <td>0</td>\n",
       "    </tr>\n",
       "    <tr>\n",
       "      <th>1</th>\n",
       "      <td>0.000000</td>\n",
       "      <td>0.866025</td>\n",
       "      <td>0.000000</td>\n",
       "      <td>0.0</td>\n",
       "      <td>0.000000</td>\n",
       "      <td>0.0</td>\n",
       "      <td>0.000000</td>\n",
       "      <td>0.000000</td>\n",
       "      <td>0.000000</td>\n",
       "      <td>0.000000</td>\n",
       "      <td>0.0</td>\n",
       "      <td>4.438851e-09</td>\n",
       "      <td>0.000000</td>\n",
       "      <td>0.0</td>\n",
       "      <td>0.0</td>\n",
       "      <td>0.0</td>\n",
       "      <td>0.000000</td>\n",
       "      <td>0.000000</td>\n",
       "      <td>0.000000</td>\n",
       "      <td>0.551961</td>\n",
       "      <td>0</td>\n",
       "      <td>0</td>\n",
       "      <td>0</td>\n",
       "    </tr>\n",
       "    <tr>\n",
       "      <th>2</th>\n",
       "      <td>0.000000</td>\n",
       "      <td>0.866025</td>\n",
       "      <td>0.000000</td>\n",
       "      <td>0.0</td>\n",
       "      <td>0.000000</td>\n",
       "      <td>0.0</td>\n",
       "      <td>0.000000</td>\n",
       "      <td>0.000000</td>\n",
       "      <td>0.000000</td>\n",
       "      <td>0.000000</td>\n",
       "      <td>0.0</td>\n",
       "      <td>4.438887e-09</td>\n",
       "      <td>0.000000</td>\n",
       "      <td>0.0</td>\n",
       "      <td>0.0</td>\n",
       "      <td>0.0</td>\n",
       "      <td>0.000000</td>\n",
       "      <td>0.000000</td>\n",
       "      <td>0.000000</td>\n",
       "      <td>0.551961</td>\n",
       "      <td>0</td>\n",
       "      <td>0</td>\n",
       "      <td>0</td>\n",
       "    </tr>\n",
       "    <tr>\n",
       "      <th>3</th>\n",
       "      <td>0.000351</td>\n",
       "      <td>0.866025</td>\n",
       "      <td>0.000000</td>\n",
       "      <td>0.0</td>\n",
       "      <td>0.000000</td>\n",
       "      <td>0.0</td>\n",
       "      <td>0.000000</td>\n",
       "      <td>0.000000</td>\n",
       "      <td>0.000000</td>\n",
       "      <td>0.000000</td>\n",
       "      <td>0.0</td>\n",
       "      <td>8.333333e-03</td>\n",
       "      <td>0.025000</td>\n",
       "      <td>0.0</td>\n",
       "      <td>1.0</td>\n",
       "      <td>0.0</td>\n",
       "      <td>0.898087</td>\n",
       "      <td>0.000015</td>\n",
       "      <td>0.357143</td>\n",
       "      <td>0.000000</td>\n",
       "      <td>1</td>\n",
       "      <td>0</td>\n",
       "      <td>0</td>\n",
       "    </tr>\n",
       "    <tr>\n",
       "      <th>4</th>\n",
       "      <td>0.000000</td>\n",
       "      <td>0.866025</td>\n",
       "      <td>0.000000</td>\n",
       "      <td>0.0</td>\n",
       "      <td>0.000000</td>\n",
       "      <td>0.0</td>\n",
       "      <td>0.000000</td>\n",
       "      <td>0.000000</td>\n",
       "      <td>0.000000</td>\n",
       "      <td>0.000000</td>\n",
       "      <td>0.0</td>\n",
       "      <td>4.438874e-09</td>\n",
       "      <td>0.000000</td>\n",
       "      <td>0.0</td>\n",
       "      <td>0.0</td>\n",
       "      <td>0.0</td>\n",
       "      <td>0.000000</td>\n",
       "      <td>0.000000</td>\n",
       "      <td>0.000000</td>\n",
       "      <td>0.551961</td>\n",
       "      <td>0</td>\n",
       "      <td>0</td>\n",
       "      <td>0</td>\n",
       "    </tr>\n",
       "    <tr>\n",
       "      <th>...</th>\n",
       "      <td>...</td>\n",
       "      <td>...</td>\n",
       "      <td>...</td>\n",
       "      <td>...</td>\n",
       "      <td>...</td>\n",
       "      <td>...</td>\n",
       "      <td>...</td>\n",
       "      <td>...</td>\n",
       "      <td>...</td>\n",
       "      <td>...</td>\n",
       "      <td>...</td>\n",
       "      <td>...</td>\n",
       "      <td>...</td>\n",
       "      <td>...</td>\n",
       "      <td>...</td>\n",
       "      <td>...</td>\n",
       "      <td>...</td>\n",
       "      <td>...</td>\n",
       "      <td>...</td>\n",
       "      <td>...</td>\n",
       "      <td>...</td>\n",
       "      <td>...</td>\n",
       "      <td>...</td>\n",
       "    </tr>\n",
       "    <tr>\n",
       "      <th>14597098</th>\n",
       "      <td>0.001221</td>\n",
       "      <td>0.707107</td>\n",
       "      <td>0.079193</td>\n",
       "      <td>0.0</td>\n",
       "      <td>0.037257</td>\n",
       "      <td>0.0</td>\n",
       "      <td>0.066158</td>\n",
       "      <td>0.003221</td>\n",
       "      <td>0.008549</td>\n",
       "      <td>0.012878</td>\n",
       "      <td>0.0</td>\n",
       "      <td>1.292872e-06</td>\n",
       "      <td>0.000005</td>\n",
       "      <td>1.0</td>\n",
       "      <td>1.0</td>\n",
       "      <td>0.0</td>\n",
       "      <td>0.125015</td>\n",
       "      <td>0.002289</td>\n",
       "      <td>0.357143</td>\n",
       "      <td>0.000000</td>\n",
       "      <td>1</td>\n",
       "      <td>0</td>\n",
       "      <td>0</td>\n",
       "    </tr>\n",
       "    <tr>\n",
       "      <th>14597099</th>\n",
       "      <td>0.001221</td>\n",
       "      <td>0.707107</td>\n",
       "      <td>0.000000</td>\n",
       "      <td>0.0</td>\n",
       "      <td>0.000000</td>\n",
       "      <td>0.0</td>\n",
       "      <td>0.000000</td>\n",
       "      <td>0.000000</td>\n",
       "      <td>0.000000</td>\n",
       "      <td>0.000000</td>\n",
       "      <td>0.0</td>\n",
       "      <td>8.134883e-07</td>\n",
       "      <td>0.000000</td>\n",
       "      <td>0.0</td>\n",
       "      <td>0.0</td>\n",
       "      <td>1.0</td>\n",
       "      <td>0.034164</td>\n",
       "      <td>0.000000</td>\n",
       "      <td>0.357143</td>\n",
       "      <td>0.000000</td>\n",
       "      <td>1</td>\n",
       "      <td>0</td>\n",
       "      <td>0</td>\n",
       "    </tr>\n",
       "    <tr>\n",
       "      <th>14597100</th>\n",
       "      <td>0.006760</td>\n",
       "      <td>0.707107</td>\n",
       "      <td>0.022627</td>\n",
       "      <td>0.0</td>\n",
       "      <td>0.017819</td>\n",
       "      <td>0.0</td>\n",
       "      <td>0.000000</td>\n",
       "      <td>0.000000</td>\n",
       "      <td>0.000000</td>\n",
       "      <td>0.000000</td>\n",
       "      <td>1.0</td>\n",
       "      <td>1.953125e-03</td>\n",
       "      <td>0.000000</td>\n",
       "      <td>0.0</td>\n",
       "      <td>0.0</td>\n",
       "      <td>1.0</td>\n",
       "      <td>0.966049</td>\n",
       "      <td>0.000000</td>\n",
       "      <td>0.357143</td>\n",
       "      <td>0.000000</td>\n",
       "      <td>1</td>\n",
       "      <td>0</td>\n",
       "      <td>0</td>\n",
       "    </tr>\n",
       "    <tr>\n",
       "      <th>14597101</th>\n",
       "      <td>0.764782</td>\n",
       "      <td>0.707107</td>\n",
       "      <td>0.015248</td>\n",
       "      <td>0.0</td>\n",
       "      <td>0.007174</td>\n",
       "      <td>0.0</td>\n",
       "      <td>0.000000</td>\n",
       "      <td>0.000000</td>\n",
       "      <td>0.000000</td>\n",
       "      <td>0.000000</td>\n",
       "      <td>0.0</td>\n",
       "      <td>1.666667e-01</td>\n",
       "      <td>0.000000</td>\n",
       "      <td>0.0</td>\n",
       "      <td>0.0</td>\n",
       "      <td>1.0</td>\n",
       "      <td>0.275742</td>\n",
       "      <td>0.000000</td>\n",
       "      <td>0.357143</td>\n",
       "      <td>0.000000</td>\n",
       "      <td>1</td>\n",
       "      <td>0</td>\n",
       "      <td>0</td>\n",
       "    </tr>\n",
       "    <tr>\n",
       "      <th>14597102</th>\n",
       "      <td>0.764645</td>\n",
       "      <td>0.707107</td>\n",
       "      <td>0.015248</td>\n",
       "      <td>0.0</td>\n",
       "      <td>0.007174</td>\n",
       "      <td>0.0</td>\n",
       "      <td>0.000000</td>\n",
       "      <td>0.000000</td>\n",
       "      <td>0.000000</td>\n",
       "      <td>0.000000</td>\n",
       "      <td>0.0</td>\n",
       "      <td>2.272727e-02</td>\n",
       "      <td>0.000000</td>\n",
       "      <td>0.0</td>\n",
       "      <td>0.0</td>\n",
       "      <td>1.0</td>\n",
       "      <td>0.000992</td>\n",
       "      <td>0.000000</td>\n",
       "      <td>0.357143</td>\n",
       "      <td>0.000000</td>\n",
       "      <td>1</td>\n",
       "      <td>0</td>\n",
       "      <td>0</td>\n",
       "    </tr>\n",
       "  </tbody>\n",
       "</table>\n",
       "<p>14597103 rows × 23 columns</p>\n",
       "</div>"
      ],
      "text/plain": [
       "          Dst Port       xhr  Fwd Pkt Len Max  Fwd Pkt Len Min  \\\n",
       "0         0.000000  0.866025         0.000000              0.0   \n",
       "1         0.000000  0.866025         0.000000              0.0   \n",
       "2         0.000000  0.866025         0.000000              0.0   \n",
       "3         0.000351  0.866025         0.000000              0.0   \n",
       "4         0.000000  0.866025         0.000000              0.0   \n",
       "...            ...       ...              ...              ...   \n",
       "14597098  0.001221  0.707107         0.079193              0.0   \n",
       "14597099  0.001221  0.707107         0.000000              0.0   \n",
       "14597100  0.006760  0.707107         0.022627              0.0   \n",
       "14597101  0.764782  0.707107         0.015248              0.0   \n",
       "14597102  0.764645  0.707107         0.015248              0.0   \n",
       "\n",
       "          Fwd Pkt Len Mean  Bwd Pkt Len Min  Bwd Pkt Len Mean  Bwd IAT Tot  \\\n",
       "0                 0.000000              0.0          0.000000     0.000000   \n",
       "1                 0.000000              0.0          0.000000     0.000000   \n",
       "2                 0.000000              0.0          0.000000     0.000000   \n",
       "3                 0.000000              0.0          0.000000     0.000000   \n",
       "4                 0.000000              0.0          0.000000     0.000000   \n",
       "...                    ...              ...               ...          ...   \n",
       "14597098          0.037257              0.0          0.066158     0.003221   \n",
       "14597099          0.000000              0.0          0.000000     0.000000   \n",
       "14597100          0.017819              0.0          0.000000     0.000000   \n",
       "14597101          0.007174              0.0          0.000000     0.000000   \n",
       "14597102          0.007174              0.0          0.000000     0.000000   \n",
       "\n",
       "          Bwd IAT Mean  Bwd IAT Max  Fwd PSH Flags    Fwd Pkts/s  Bwd Pkts/s  \\\n",
       "0             0.000000     0.000000            0.0  4.438890e-09    0.000000   \n",
       "1             0.000000     0.000000            0.0  4.438851e-09    0.000000   \n",
       "2             0.000000     0.000000            0.0  4.438887e-09    0.000000   \n",
       "3             0.000000     0.000000            0.0  8.333333e-03    0.025000   \n",
       "4             0.000000     0.000000            0.0  4.438874e-09    0.000000   \n",
       "...                ...          ...            ...           ...         ...   \n",
       "14597098      0.008549     0.012878            0.0  1.292872e-06    0.000005   \n",
       "14597099      0.000000     0.000000            0.0  8.134883e-07    0.000000   \n",
       "14597100      0.000000     0.000000            1.0  1.953125e-03    0.000000   \n",
       "14597101      0.000000     0.000000            0.0  1.666667e-01    0.000000   \n",
       "14597102      0.000000     0.000000            0.0  2.272727e-02    0.000000   \n",
       "\n",
       "          RST Flag Cnt  PSH Flag Cnt  ACK Flag Cnt  Init Fwd Win Byts  \\\n",
       "0                  0.0           0.0           0.0           0.000000   \n",
       "1                  0.0           0.0           0.0           0.000000   \n",
       "2                  0.0           0.0           0.0           0.000000   \n",
       "3                  0.0           1.0           0.0           0.898087   \n",
       "4                  0.0           0.0           0.0           0.000000   \n",
       "...                ...           ...           ...                ...   \n",
       "14597098           1.0           1.0           0.0           0.125015   \n",
       "14597099           0.0           0.0           1.0           0.034164   \n",
       "14597100           0.0           0.0           1.0           0.966049   \n",
       "14597101           0.0           0.0           1.0           0.275742   \n",
       "14597102           0.0           0.0           1.0           0.000992   \n",
       "\n",
       "          Init Bwd Win Byts  Fwd Seg Size Min  Idle Min  Protocol_6  \\\n",
       "0                  0.000000          0.000000  0.551961           0   \n",
       "1                  0.000000          0.000000  0.551961           0   \n",
       "2                  0.000000          0.000000  0.551961           0   \n",
       "3                  0.000015          0.357143  0.000000           1   \n",
       "4                  0.000000          0.000000  0.551961           0   \n",
       "...                     ...               ...       ...         ...   \n",
       "14597098           0.002289          0.357143  0.000000           1   \n",
       "14597099           0.000000          0.357143  0.000000           1   \n",
       "14597100           0.000000          0.357143  0.000000           1   \n",
       "14597101           0.000000          0.357143  0.000000           1   \n",
       "14597102           0.000000          0.357143  0.000000           1   \n",
       "\n",
       "          Protocol_17  Label  \n",
       "0                   0      0  \n",
       "1                   0      0  \n",
       "2                   0      0  \n",
       "3                   0      0  \n",
       "4                   0      0  \n",
       "...               ...    ...  \n",
       "14597098            0      0  \n",
       "14597099            0      0  \n",
       "14597100            0      0  \n",
       "14597101            0      0  \n",
       "14597102            0      0  \n",
       "\n",
       "[14597103 rows x 23 columns]"
      ]
     },
     "execution_count": 8,
     "metadata": {},
     "output_type": "execute_result"
    }
   ],
   "source": [
    "df"
   ]
  },
  {
   "cell_type": "markdown",
   "metadata": {},
   "source": [
    "## Tratamiento del conjunto de datos"
   ]
  },
  {
   "cell_type": "markdown",
   "metadata": {},
   "source": [
    "Se eliminan atributos que son irrelevantes a priori."
   ]
  },
  {
   "cell_type": "code",
   "execution_count": 9,
   "metadata": {},
   "outputs": [
    {
     "data": {
      "text/plain": [
       "Text(0.5, 1.0, 'Correlación respecto a target')"
      ]
     },
     "execution_count": 9,
     "metadata": {},
     "output_type": "execute_result"
    },
    {
     "data": {
      "image/png": "[encoded data removed]",
      "text/plain": [
       "<Figure size 720x720 with 2 Axes>"
      ]
     },
     "metadata": {
      "needs_background": "light"
     },
     "output_type": "display_data"
    }
   ],
   "source": [
    "corr = df.corr()\n",
    "\n",
    "kot = corr\n",
    "plt.figure(figsize=(10,10))\n",
    "#figure.tight_layout(pad=3.5, rect=[0, 0.03, 1, 0.95])\n",
    "sns.heatmap(kot[['Label']], cmap='coolwarm', annot=True, vmin=-1).set_title('Correlación respecto a target', fontsize=20)"
   ]
  },
  {
   "cell_type": "code",
   "execution_count": 10,
   "metadata": {},
   "outputs": [],
   "source": [
    "kot = df.corr()\n",
    "drop_cols = []\n",
    "i = -1\n",
    "for corr in kot['Label']:\n",
    "    i+=1\n",
    "    if abs(corr) < 0.15:\n",
    "        drop_cols.append(df.columns[i])"
   ]
  },
  {
   "cell_type": "code",
   "execution_count": 11,
   "metadata": {},
   "outputs": [],
   "source": [
    "df.drop(drop_cols, axis=1, inplace=True)"
   ]
  },
  {
   "cell_type": "code",
   "execution_count": 12,
   "metadata": {},
   "outputs": [
    {
     "data": {
      "text/plain": [
       "Text(0.5, 1.0, 'Correlación respecto a target')"
      ]
     },
     "execution_count": 12,
     "metadata": {},
     "output_type": "execute_result"
    },
    {
     "data": {
      "image/png": "[encoded data removed]",
      "text/plain": [
       "<Figure size 720x720 with 2 Axes>"
      ]
     },
     "metadata": {
      "needs_background": "light"
     },
     "output_type": "display_data"
    }
   ],
   "source": [
    "corr = df.corr()\n",
    "\n",
    "kot = corr\n",
    "plt.figure(figsize=(10,10))\n",
    "#figure.tight_layout(pad=3.5, rect=[0, 0.03, 1, 0.95])\n",
    "sns.heatmap(kot[['Label']], cmap='coolwarm', annot=True, vmin=-1).set_title('Correlación respecto a target', fontsize=20)"
   ]
  },
  {
   "cell_type": "markdown",
   "metadata": {},
   "source": [
    "## Partición de conjuntos normales y anómalos\n",
    "\n",
    "Se entrenará el autoencoder utilizando sólo los flujos normales, que en este conjunto de datos están etiquetados como 0. Deben separarse los flujos normales de los anómalos."
   ]
  },
  {
   "cell_type": "code",
   "execution_count": 13,
   "metadata": {},
   "outputs": [],
   "source": [
    "y = df.pop('Label')\n",
    "X = df.values"
   ]
  },
  {
   "cell_type": "code",
   "execution_count": 14,
   "metadata": {},
   "outputs": [],
   "source": [
    "# Partición del conjunto de datos\n",
    "X_train, X_test, y_train, y_test = train_test_split(X, y, test_size=0.3, random_state=100)"
   ]
  },
  {
   "cell_type": "code",
   "execution_count": 15,
   "metadata": {},
   "outputs": [],
   "source": [
    "def count_values(array):\n",
    "    y = np.bincount(array)\n",
    "    ii = np.nonzero(y)[0]\n",
    "    return np.vstack((ii,y[ii])).T"
   ]
  },
  {
   "cell_type": "code",
   "execution_count": 16,
   "metadata": {},
   "outputs": [
    {
     "data": {
      "text/plain": [
       "array([[      0, 8321233],\n",
       "       [      1,  444327],\n",
       "       [      2,  885080],\n",
       "       [      3,  200526],\n",
       "       [      4,  266748],\n",
       "       [      5,   99400],\n",
       "       [      6,     658]])"
      ]
     },
     "execution_count": 16,
     "metadata": {},
     "output_type": "execute_result"
    }
   ],
   "source": [
    "count_values(y_train)"
   ]
  },
  {
   "cell_type": "code",
   "execution_count": 17,
   "metadata": {},
   "outputs": [
    {
     "data": {
      "text/plain": [
       "array([[      0, 3567467],\n",
       "       [      1,  190047],\n",
       "       [      2,  378823],\n",
       "       [      3,   85642],\n",
       "       [      4,  114201],\n",
       "       [      5,   42681],\n",
       "       [      6,     270]])"
      ]
     },
     "execution_count": 17,
     "metadata": {},
     "output_type": "execute_result"
    }
   ],
   "source": [
    "count_values(y_test)"
   ]
  },
  {
   "cell_type": "code",
   "execution_count": 18,
   "metadata": {},
   "outputs": [],
   "source": [
    "train_data = tf.cast(X_train, tf.float32)\n",
    "test_data = tf.cast(X_test, tf.float32)"
   ]
  },
  {
   "cell_type": "code",
   "execution_count": 19,
   "metadata": {},
   "outputs": [],
   "source": [
    "train_labels = tf.cast(y_train, tf.int16)\n",
    "test_labels = tf.cast(y_test, tf.int16)"
   ]
  },
  {
   "cell_type": "code",
   "execution_count": 20,
   "metadata": {},
   "outputs": [],
   "source": [
    "# Flujos normales\n",
    "normal_train_data = X_train[np.where(train_labels == 0)]\n",
    "normal_test_data = X_test[np.where(test_labels == 0)]"
   ]
  },
  {
   "cell_type": "code",
   "execution_count": 21,
   "metadata": {},
   "outputs": [],
   "source": [
    "clfIF = IsolationForest(n_estimators=100, max_samples='auto', contamination='auto', max_features=1.0, n_jobs=-1)\n",
    "clfIF.fit(pd.DataFrame(normal_train_data))\n",
    "pred_train = clfIF.predict(pd.DataFrame(normal_train_data))"
   ]
  },
  {
   "cell_type": "code",
   "execution_count": 22,
   "metadata": {},
   "outputs": [
    {
     "name": "stdout",
     "output_type": "stream",
     "text": [
      " 1    6870897\n",
      "-1    1450336\n",
      "Name: anomaly, dtype: int64\n"
     ]
    }
   ],
   "source": [
    "normal = pd.DataFrame(normal_train_data)\n",
    "normal['anomaly'] = pred_train\n",
    "outliers = normal.loc[normal['anomaly']==-1]\n",
    "outlier_index = list(outliers.index)\n",
    "print(normal['anomaly'].value_counts())\n",
    "normal.drop(['anomaly'], axis=1, inplace=True)"
   ]
  },
  {
   "cell_type": "code",
   "execution_count": 23,
   "metadata": {},
   "outputs": [
    {
     "data": {
      "text/html": [
       "<div>\n",
       "<style scoped>\n",
       "    .dataframe tbody tr th:only-of-type {\n",
       "        vertical-align: middle;\n",
       "    }\n",
       "\n",
       "    .dataframe tbody tr th {\n",
       "        vertical-align: top;\n",
       "    }\n",
       "\n",
       "    .dataframe thead th {\n",
       "        text-align: right;\n",
       "    }\n",
       "</style>\n",
       "<table border=\"1\" class=\"dataframe\">\n",
       "  <thead>\n",
       "    <tr style=\"text-align: right;\">\n",
       "      <th></th>\n",
       "      <th>0</th>\n",
       "      <th>1</th>\n",
       "      <th>2</th>\n",
       "      <th>3</th>\n",
       "      <th>4</th>\n",
       "      <th>5</th>\n",
       "      <th>6</th>\n",
       "      <th>7</th>\n",
       "      <th>8</th>\n",
       "      <th>9</th>\n",
       "    </tr>\n",
       "  </thead>\n",
       "  <tbody>\n",
       "    <tr>\n",
       "      <th>count</th>\n",
       "      <td>6.870897e+06</td>\n",
       "      <td>6.870897e+06</td>\n",
       "      <td>6.870897e+06</td>\n",
       "      <td>6.870897e+06</td>\n",
       "      <td>6.870897e+06</td>\n",
       "      <td>6.870897e+06</td>\n",
       "      <td>6.870897e+06</td>\n",
       "      <td>6.870897e+06</td>\n",
       "      <td>6.870897e+06</td>\n",
       "      <td>6.870897e+06</td>\n",
       "    </tr>\n",
       "    <tr>\n",
       "      <th>mean</th>\n",
       "      <td>1.257543e-01</td>\n",
       "      <td>2.305680e-02</td>\n",
       "      <td>3.247973e-02</td>\n",
       "      <td>2.510226e-02</td>\n",
       "      <td>1.149465e-03</td>\n",
       "      <td>4.817729e-02</td>\n",
       "      <td>1.701336e-01</td>\n",
       "      <td>2.798167e-01</td>\n",
       "      <td>6.339944e-01</td>\n",
       "      <td>3.660056e-01</td>\n",
       "    </tr>\n",
       "    <tr>\n",
       "      <th>std</th>\n",
       "      <td>2.770491e-01</td>\n",
       "      <td>3.087340e-02</td>\n",
       "      <td>3.048386e-02</td>\n",
       "      <td>3.670625e-02</td>\n",
       "      <td>3.967966e-03</td>\n",
       "      <td>6.630814e-02</td>\n",
       "      <td>3.599827e-01</td>\n",
       "      <td>1.049173e-01</td>\n",
       "      <td>4.817111e-01</td>\n",
       "      <td>4.817111e-01</td>\n",
       "    </tr>\n",
       "    <tr>\n",
       "      <th>min</th>\n",
       "      <td>1.525902e-05</td>\n",
       "      <td>0.000000e+00</td>\n",
       "      <td>0.000000e+00</td>\n",
       "      <td>0.000000e+00</td>\n",
       "      <td>0.000000e+00</td>\n",
       "      <td>0.000000e+00</td>\n",
       "      <td>0.000000e+00</td>\n",
       "      <td>1.428571e-01</td>\n",
       "      <td>0.000000e+00</td>\n",
       "      <td>0.000000e+00</td>\n",
       "    </tr>\n",
       "    <tr>\n",
       "      <th>25%</th>\n",
       "      <td>8.087282e-04</td>\n",
       "      <td>0.000000e+00</td>\n",
       "      <td>7.173763e-03</td>\n",
       "      <td>0.000000e+00</td>\n",
       "      <td>5.122820e-07</td>\n",
       "      <td>0.000000e+00</td>\n",
       "      <td>0.000000e+00</td>\n",
       "      <td>1.428571e-01</td>\n",
       "      <td>0.000000e+00</td>\n",
       "      <td>0.000000e+00</td>\n",
       "    </tr>\n",
       "    <tr>\n",
       "      <th>50%</th>\n",
       "      <td>1.220722e-03</td>\n",
       "      <td>0.000000e+00</td>\n",
       "      <td>2.638093e-02</td>\n",
       "      <td>0.000000e+00</td>\n",
       "      <td>5.218782e-06</td>\n",
       "      <td>3.921509e-03</td>\n",
       "      <td>0.000000e+00</td>\n",
       "      <td>3.571429e-01</td>\n",
       "      <td>1.000000e+00</td>\n",
       "      <td>0.000000e+00</td>\n",
       "    </tr>\n",
       "    <tr>\n",
       "      <th>75%</th>\n",
       "      <td>5.171283e-02</td>\n",
       "      <td>5.769231e-02</td>\n",
       "      <td>3.725728e-02</td>\n",
       "      <td>4.908425e-02</td>\n",
       "      <td>5.050505e-04</td>\n",
       "      <td>1.250153e-01</td>\n",
       "      <td>3.906250e-03</td>\n",
       "      <td>3.571429e-01</td>\n",
       "      <td>1.000000e+00</td>\n",
       "      <td>1.000000e+00</td>\n",
       "    </tr>\n",
       "    <tr>\n",
       "      <th>max</th>\n",
       "      <td>1.000000e+00</td>\n",
       "      <td>1.266026e-01</td>\n",
       "      <td>1.603683e-01</td>\n",
       "      <td>5.904762e-01</td>\n",
       "      <td>4.166667e-02</td>\n",
       "      <td>9.844513e-01</td>\n",
       "      <td>1.000000e+00</td>\n",
       "      <td>1.000000e+00</td>\n",
       "      <td>1.000000e+00</td>\n",
       "      <td>1.000000e+00</td>\n",
       "    </tr>\n",
       "  </tbody>\n",
       "</table>\n",
       "</div>"
      ],
      "text/plain": [
       "                  0             1             2             3             4  \\\n",
       "count  6.870897e+06  6.870897e+06  6.870897e+06  6.870897e+06  6.870897e+06   \n",
       "mean   1.257543e-01  2.305680e-02  3.247973e-02  2.510226e-02  1.149465e-03   \n",
       "std    2.770491e-01  3.087340e-02  3.048386e-02  3.670625e-02  3.967966e-03   \n",
       "min    1.525902e-05  0.000000e+00  0.000000e+00  0.000000e+00  0.000000e+00   \n",
       "25%    8.087282e-04  0.000000e+00  7.173763e-03  0.000000e+00  5.122820e-07   \n",
       "50%    1.220722e-03  0.000000e+00  2.638093e-02  0.000000e+00  5.218782e-06   \n",
       "75%    5.171283e-02  5.769231e-02  3.725728e-02  4.908425e-02  5.050505e-04   \n",
       "max    1.000000e+00  1.266026e-01  1.603683e-01  5.904762e-01  4.166667e-02   \n",
       "\n",
       "                  5             6             7             8             9  \n",
       "count  6.870897e+06  6.870897e+06  6.870897e+06  6.870897e+06  6.870897e+06  \n",
       "mean   4.817729e-02  1.701336e-01  2.798167e-01  6.339944e-01  3.660056e-01  \n",
       "std    6.630814e-02  3.599827e-01  1.049173e-01  4.817111e-01  4.817111e-01  \n",
       "min    0.000000e+00  0.000000e+00  1.428571e-01  0.000000e+00  0.000000e+00  \n",
       "25%    0.000000e+00  0.000000e+00  1.428571e-01  0.000000e+00  0.000000e+00  \n",
       "50%    3.921509e-03  0.000000e+00  3.571429e-01  1.000000e+00  0.000000e+00  \n",
       "75%    1.250153e-01  3.906250e-03  3.571429e-01  1.000000e+00  1.000000e+00  \n",
       "max    9.844513e-01  1.000000e+00  1.000000e+00  1.000000e+00  1.000000e+00  "
      ]
     },
     "execution_count": 23,
     "metadata": {},
     "output_type": "execute_result"
    }
   ],
   "source": [
    "normal = normal.iloc[normal.index.difference(outlier_index)]\n",
    "normal.reset_index(drop=True, inplace = True)\n",
    "normal.describe()"
   ]
  },
  {
   "cell_type": "code",
   "execution_count": 24,
   "metadata": {},
   "outputs": [],
   "source": [
    "X_train = normal.values"
   ]
  },
  {
   "cell_type": "code",
   "execution_count": 25,
   "metadata": {},
   "outputs": [
    {
     "data": {
      "text/plain": [
       "(6870897, 10)"
      ]
     },
     "execution_count": 25,
     "metadata": {},
     "output_type": "execute_result"
    }
   ],
   "source": [
    "X_train.shape"
   ]
  },
  {
   "cell_type": "code",
   "execution_count": 26,
   "metadata": {},
   "outputs": [
    {
     "data": {
      "text/plain": [
       "84"
      ]
     },
     "execution_count": 26,
     "metadata": {},
     "output_type": "execute_result"
    }
   ],
   "source": [
    "del(df, clfIF, pred_train, outliers, outlier_index)\n",
    "gc.collect()"
   ]
  },
  {
   "cell_type": "markdown",
   "metadata": {},
   "source": [
    "Flujo de red normal."
   ]
  },
  {
   "cell_type": "code",
   "execution_count": 27,
   "metadata": {},
   "outputs": [
    {
     "data": {
      "image/png": "[encoded data removed]",
      "text/plain": [
       "<Figure size 432x288 with 1 Axes>"
      ]
     },
     "metadata": {
      "needs_background": "light"
     },
     "output_type": "display_data"
    }
   ],
   "source": [
    "plt.grid()\n",
    "plt.plot(np.arange(X_train.shape[1]), normal_train_data[0])\n",
    "plt.title(\"Flujo normal\")\n",
    "plt.show()"
   ]
  },
  {
   "cell_type": "markdown",
   "metadata": {},
   "source": [
    "Flujo de red anómalo."
   ]
  },
  {
   "cell_type": "code",
   "execution_count": 28,
   "metadata": {},
   "outputs": [],
   "source": [
    "dos_data = X_test[np.where(test_labels == 1)]"
   ]
  },
  {
   "cell_type": "code",
   "execution_count": 29,
   "metadata": {},
   "outputs": [
    {
     "data": {
      "image/png": "[encoded data removed]",
      "text/plain": [
       "<Figure size 432x288 with 1 Axes>"
      ]
     },
     "metadata": {
      "needs_background": "light"
     },
     "output_type": "display_data"
    }
   ],
   "source": [
    "plt.grid()\n",
    "plt.plot(np.arange(X_train.shape[1]), dos_data[0])\n",
    "plt.title(\"Flujo anómalo\")\n",
    "plt.show()"
   ]
  },
  {
   "cell_type": "code",
   "execution_count": 30,
   "metadata": {},
   "outputs": [
    {
     "data": {
      "text/plain": [
       "5920"
      ]
     },
     "execution_count": 30,
     "metadata": {},
     "output_type": "execute_result"
    }
   ],
   "source": [
    "del(dos_data)\n",
    "gc.collect()"
   ]
  },
  {
   "cell_type": "markdown",
   "metadata": {},
   "source": [
    "## Construyendo el modelo"
   ]
  },
  {
   "cell_type": "code",
   "execution_count": 31,
   "metadata": {},
   "outputs": [],
   "source": [
    "class AnomalyDetector(Model):\n",
    "    \n",
    "    def __init__(self):\n",
    "        super(AnomalyDetector, self).__init__()\n",
    "        self.encoder = tf.keras.Sequential([\n",
    "            layers.Dense(X_train.shape[1]*2, activation=\"relu\"),\n",
    "            layers.Dense(X_train.shape[1], activation=\"relu\"),\n",
    "            layers.Dense(X_train.shape[1]/2, activation=\"relu\"),\n",
    "            layers.Dense(3, activation=\"relu\")\n",
    "        ])\n",
    "        self.decoder = tf.keras.Sequential([\n",
    "            layers.Dense(5, activation=\"relu\"),\n",
    "            layers.Dense(X_train.shape[1], activation=\"sigmoid\")\n",
    "        ])\n",
    "    \n",
    "    def call(self, x):\n",
    "        encoded = self.encoder(x)\n",
    "        decoded = self.decoder(encoded)\n",
    "        return decoded\n",
    "    \n",
    "    def pred(self, data, threshold):\n",
    "        reconstructions = self(data)\n",
    "        loss = tf.keras.losses.mae(reconstructions, data)\n",
    "        return tf.math.less(threshold, loss)\n",
    "\n",
    "    def print_stats(self, predictions, labels):\n",
    "        labels = np.where(labels > 0, 1, labels)\n",
    "        labels = labels.astype(bool)\n",
    "        print(\"Accuracy = {}\".format(accuracy_score(labels, preds)))\n",
    "        print(\"Precision = {}\".format(precision_score(labels, preds)))\n",
    "        print(\"Recall = {}\".format(recall_score(labels, preds)))"
   ]
  },
  {
   "cell_type": "code",
   "execution_count": 32,
   "metadata": {},
   "outputs": [],
   "source": [
    "autoencoder = AnomalyDetector()\n",
    "autoencoder.compile(optimizer='adam', loss='mae')"
   ]
  },
  {
   "cell_type": "markdown",
   "metadata": {},
   "source": [
    "Obsérvese que el *autoencoder* se entrena utilizando sólo los flujos normales, pero se evalúa utilizando el conjunto de pruebas completo."
   ]
  },
  {
   "cell_type": "code",
   "execution_count": 33,
   "metadata": {},
   "outputs": [
    {
     "name": "stdout",
     "output_type": "stream",
     "text": [
      "Epoch 1/500\n",
      "16253/16253 [==============================] - 43s 3ms/step - loss: 0.0570 - val_loss: 0.0470\n",
      "Epoch 2/500\n",
      "16253/16253 [==============================] - 42s 3ms/step - loss: 0.0355 - val_loss: 0.0366\n",
      "Epoch 3/500\n",
      "16253/16253 [==============================] - 41s 3ms/step - loss: 0.0344 - val_loss: 0.0361\n",
      "Epoch 4/500\n",
      "16253/16253 [==============================] - 41s 2ms/step - loss: 0.0341 - val_loss: 0.0358\n",
      "Epoch 5/500\n",
      "16253/16253 [==============================] - 40s 2ms/step - loss: 0.0339 - val_loss: 0.0358\n",
      "Epoch 6/500\n",
      "16253/16253 [==============================] - 41s 3ms/step - loss: 0.0337 - val_loss: 0.0358\n",
      "Epoch 7/500\n",
      "16253/16253 [==============================] - 41s 2ms/step - loss: 0.0336 - val_loss: 0.0357\n",
      "Epoch 8/500\n",
      "16253/16253 [==============================] - 41s 3ms/step - loss: 0.0336 - val_loss: 0.0354\n",
      "Epoch 9/500\n",
      "16253/16253 [==============================] - 40s 2ms/step - loss: 0.0335 - val_loss: 0.0355\n",
      "Epoch 10/500\n",
      "16253/16253 [==============================] - 41s 3ms/step - loss: 0.0334 - val_loss: 0.0357\n",
      "Epoch 11/500\n",
      "16253/16253 [==============================] - 43s 3ms/step - loss: 0.0334 - val_loss: 0.0353\n",
      "Epoch 12/500\n",
      "16253/16253 [==============================] - 43s 3ms/step - loss: 0.0334 - val_loss: 0.0353\n",
      "Epoch 13/500\n",
      "16253/16253 [==============================] - 42s 3ms/step - loss: 0.0333 - val_loss: 0.0352\n",
      "Epoch 14/500\n",
      "16253/16253 [==============================] - 42s 3ms/step - loss: 0.0333 - val_loss: 0.0353\n",
      "Epoch 15/500\n",
      "16253/16253 [==============================] - 40s 2ms/step - loss: 0.0333 - val_loss: 0.0352\n",
      "Epoch 16/500\n",
      "16253/16253 [==============================] - 40s 2ms/step - loss: 0.0332 - val_loss: 0.0351\n",
      "Epoch 17/500\n",
      "16253/16253 [==============================] - 41s 3ms/step - loss: 0.0331 - val_loss: 0.0347\n",
      "Epoch 18/500\n",
      "16253/16253 [==============================] - 42s 3ms/step - loss: 0.0330 - val_loss: 0.0347\n",
      "Epoch 19/500\n",
      "16253/16253 [==============================] - 41s 2ms/step - loss: 0.0330 - val_loss: 0.0346\n",
      "Epoch 20/500\n",
      "16253/16253 [==============================] - 41s 3ms/step - loss: 0.0329 - val_loss: 0.0349\n",
      "Epoch 21/500\n",
      "16253/16253 [==============================] - 42s 3ms/step - loss: 0.0329 - val_loss: 0.0347\n",
      "Epoch 22/500\n",
      "16253/16253 [==============================] - 42s 3ms/step - loss: 0.0329 - val_loss: 0.0349\n",
      "Epoch 23/500\n",
      "16253/16253 [==============================] - 40s 2ms/step - loss: 0.0329 - val_loss: 0.0347\n",
      "Epoch 24/500\n",
      "16253/16253 [==============================] - 40s 2ms/step - loss: 0.0329 - val_loss: 0.0346\n",
      "Epoch 25/500\n",
      "16253/16253 [==============================] - 40s 2ms/step - loss: 0.0329 - val_loss: 0.0350\n",
      "Epoch 26/500\n",
      "16253/16253 [==============================] - 39s 2ms/step - loss: 0.0329 - val_loss: 0.0346\n",
      "Epoch 27/500\n",
      "16253/16253 [==============================] - 40s 2ms/step - loss: 0.0329 - val_loss: 0.0346\n",
      "Epoch 28/500\n",
      "16253/16253 [==============================] - 41s 2ms/step - loss: 0.0328 - val_loss: 0.0345\n",
      "Epoch 29/500\n",
      "16253/16253 [==============================] - 41s 3ms/step - loss: 0.0328 - val_loss: 0.0349\n",
      "Epoch 30/500\n",
      "16253/16253 [==============================] - 42s 3ms/step - loss: 0.0328 - val_loss: 0.0348\n",
      "Epoch 31/500\n",
      "16253/16253 [==============================] - 41s 3ms/step - loss: 0.0328 - val_loss: 0.0345\n",
      "Epoch 32/500\n",
      "16253/16253 [==============================] - 40s 2ms/step - loss: 0.0328 - val_loss: 0.0344\n",
      "Epoch 33/500\n",
      "16253/16253 [==============================] - 41s 3ms/step - loss: 0.0328 - val_loss: 0.0349\n",
      "Epoch 34/500\n",
      "16253/16253 [==============================] - 41s 3ms/step - loss: 0.0328 - val_loss: 0.0345\n",
      "Epoch 35/500\n",
      "16253/16253 [==============================] - 41s 3ms/step - loss: 0.0327 - val_loss: 0.0345\n",
      "Epoch 36/500\n",
      "16253/16253 [==============================] - 40s 2ms/step - loss: 0.0327 - val_loss: 0.0345\n",
      "Epoch 37/500\n",
      "16253/16253 [==============================] - 41s 3ms/step - loss: 0.0327 - val_loss: 0.0343\n",
      "Epoch 38/500\n",
      "16253/16253 [==============================] - 41s 3ms/step - loss: 0.0327 - val_loss: 0.0343\n",
      "Epoch 39/500\n",
      "16253/16253 [==============================] - 41s 3ms/step - loss: 0.0327 - val_loss: 0.0345\n",
      "Epoch 40/500\n",
      "16253/16253 [==============================] - 41s 3ms/step - loss: 0.0327 - val_loss: 0.0346\n",
      "Epoch 41/500\n",
      "16253/16253 [==============================] - 41s 3ms/step - loss: 0.0327 - val_loss: 0.0345\n",
      "Epoch 42/500\n",
      "16253/16253 [==============================] - 41s 3ms/step - loss: 0.0327 - val_loss: 0.0343\n",
      "Epoch 43/500\n",
      "16253/16253 [==============================] - 42s 3ms/step - loss: 0.0327 - val_loss: 0.0343\n",
      "Epoch 44/500\n",
      "16253/16253 [==============================] - 41s 3ms/step - loss: 0.0327 - val_loss: 0.0344\n",
      "Epoch 45/500\n",
      "16253/16253 [==============================] - 41s 3ms/step - loss: 0.0327 - val_loss: 0.0344\n",
      "Epoch 46/500\n",
      "16253/16253 [==============================] - 40s 2ms/step - loss: 0.0327 - val_loss: 0.0344\n",
      "Epoch 47/500\n",
      "16253/16253 [==============================] - 40s 2ms/step - loss: 0.0327 - val_loss: 0.0345\n",
      "Epoch 48/500\n",
      "16253/16253 [==============================] - 41s 3ms/step - loss: 0.0326 - val_loss: 0.0342\n",
      "Epoch 49/500\n",
      "16253/16253 [==============================] - 41s 3ms/step - loss: 0.0326 - val_loss: 0.0346\n",
      "Epoch 50/500\n",
      "16253/16253 [==============================] - 42s 3ms/step - loss: 0.0326 - val_loss: 0.0342\n",
      "Epoch 51/500\n",
      "16253/16253 [==============================] - 40s 2ms/step - loss: 0.0326 - val_loss: 0.0342\n",
      "Epoch 52/500\n",
      "16253/16253 [==============================] - 40s 2ms/step - loss: 0.0326 - val_loss: 0.0343\n",
      "Epoch 53/500\n",
      "16253/16253 [==============================] - 41s 3ms/step - loss: 0.0326 - val_loss: 0.0346\n",
      "Epoch 54/500\n",
      "16253/16253 [==============================] - 40s 2ms/step - loss: 0.0326 - val_loss: 0.0345\n",
      "Epoch 55/500\n",
      "16253/16253 [==============================] - 42s 3ms/step - loss: 0.0326 - val_loss: 0.0343\n",
      "Epoch 56/500\n",
      "16253/16253 [==============================] - 41s 3ms/step - loss: 0.0326 - val_loss: 0.0343\n",
      "Epoch 57/500\n",
      "16253/16253 [==============================] - 41s 3ms/step - loss: 0.0326 - val_loss: 0.0343\n",
      "Epoch 58/500\n",
      "16253/16253 [==============================] - 41s 3ms/step - loss: 0.0326 - val_loss: 0.0344\n",
      "Epoch 59/500\n",
      "16253/16253 [==============================] - 41s 3ms/step - loss: 0.0326 - val_loss: 0.0342\n",
      "Epoch 60/500\n",
      "16253/16253 [==============================] - 41s 3ms/step - loss: 0.0326 - val_loss: 0.0342\n",
      "Epoch 61/500\n",
      "16253/16253 [==============================] - 41s 3ms/step - loss: 0.0326 - val_loss: 0.0343\n",
      "Epoch 62/500\n",
      "16253/16253 [==============================] - 40s 2ms/step - loss: 0.0326 - val_loss: 0.0343\n",
      "Epoch 63/500\n",
      "16253/16253 [==============================] - 41s 3ms/step - loss: 0.0326 - val_loss: 0.0344\n",
      "Epoch 64/500\n",
      "16253/16253 [==============================] - 41s 3ms/step - loss: 0.0326 - val_loss: 0.0342\n",
      "Epoch 65/500\n",
      "16253/16253 [==============================] - 41s 3ms/step - loss: 0.0326 - val_loss: 0.0342\n",
      "Epoch 66/500\n",
      "16253/16253 [==============================] - 41s 3ms/step - loss: 0.0326 - val_loss: 0.0347\n",
      "Epoch 67/500\n",
      "16253/16253 [==============================] - 40s 2ms/step - loss: 0.0326 - val_loss: 0.0342\n",
      "Epoch 68/500\n",
      "16253/16253 [==============================] - 40s 2ms/step - loss: 0.0326 - val_loss: 0.0342\n",
      "Epoch 69/500\n",
      "16253/16253 [==============================] - 41s 3ms/step - loss: 0.0326 - val_loss: 0.0350\n",
      "Epoch 70/500\n",
      "16253/16253 [==============================] - 41s 3ms/step - loss: 0.0326 - val_loss: 0.0345\n",
      "Epoch 71/500\n",
      "16253/16253 [==============================] - 41s 3ms/step - loss: 0.0326 - val_loss: 0.0342\n",
      "Epoch 72/500\n",
      "16253/16253 [==============================] - 42s 3ms/step - loss: 0.0326 - val_loss: 0.0347\n",
      "Epoch 73/500\n",
      "16253/16253 [==============================] - 41s 3ms/step - loss: 0.0326 - val_loss: 0.0342\n",
      "Epoch 74/500\n",
      "16253/16253 [==============================] - 41s 3ms/step - loss: 0.0326 - val_loss: 0.0342\n",
      "Epoch 75/500\n",
      "16253/16253 [==============================] - 40s 2ms/step - loss: 0.0326 - val_loss: 0.0342\n",
      "Epoch 76/500\n",
      "16253/16253 [==============================] - 41s 3ms/step - loss: 0.0326 - val_loss: 0.0343\n",
      "Epoch 77/500\n",
      "16253/16253 [==============================] - 41s 3ms/step - loss: 0.0326 - val_loss: 0.0342\n",
      "Epoch 78/500\n",
      "16253/16253 [==============================] - 40s 2ms/step - loss: 0.0326 - val_loss: 0.0342\n",
      "Epoch 79/500\n",
      "16253/16253 [==============================] - 41s 3ms/step - loss: 0.0326 - val_loss: 0.0341\n",
      "Epoch 80/500\n",
      "16253/16253 [==============================] - 41s 3ms/step - loss: 0.0326 - val_loss: 0.0341\n",
      "Epoch 81/500\n",
      "16253/16253 [==============================] - 41s 3ms/step - loss: 0.0326 - val_loss: 0.0343\n",
      "Epoch 82/500\n",
      "16253/16253 [==============================] - 41s 3ms/step - loss: 0.0326 - val_loss: 0.0343\n",
      "Epoch 83/500\n",
      "16253/16253 [==============================] - 41s 3ms/step - loss: 0.0326 - val_loss: 0.0344\n",
      "Epoch 84/500\n",
      "16253/16253 [==============================] - 42s 3ms/step - loss: 0.0326 - val_loss: 0.0342\n",
      "Epoch 85/500\n",
      "16253/16253 [==============================] - 40s 2ms/step - loss: 0.0326 - val_loss: 0.0343\n",
      "Epoch 86/500\n",
      "16253/16253 [==============================] - 41s 3ms/step - loss: 0.0326 - val_loss: 0.0342\n",
      "Epoch 87/500\n",
      "16253/16253 [==============================] - 41s 3ms/step - loss: 0.0326 - val_loss: 0.0341\n",
      "Epoch 88/500\n",
      "16253/16253 [==============================] - 43s 3ms/step - loss: 0.0326 - val_loss: 0.0341\n",
      "Epoch 89/500\n",
      "16253/16253 [==============================] - 41s 3ms/step - loss: 0.0325 - val_loss: 0.0347\n",
      "Epoch 90/500\n",
      "16253/16253 [==============================] - 42s 3ms/step - loss: 0.0325 - val_loss: 0.0341\n",
      "Epoch 91/500\n",
      "16253/16253 [==============================] - 41s 3ms/step - loss: 0.0325 - val_loss: 0.0341\n",
      "Epoch 92/500\n",
      "16253/16253 [==============================] - 41s 2ms/step - loss: 0.0325 - val_loss: 0.0342\n",
      "Epoch 93/500\n",
      "16253/16253 [==============================] - 40s 2ms/step - loss: 0.0325 - val_loss: 0.0342\n",
      "Epoch 94/500\n",
      "16253/16253 [==============================] - 41s 2ms/step - loss: 0.0325 - val_loss: 0.0344\n",
      "Epoch 95/500\n",
      "16253/16253 [==============================] - 41s 2ms/step - loss: 0.0325 - val_loss: 0.0341\n",
      "Epoch 96/500\n",
      "16253/16253 [==============================] - 41s 3ms/step - loss: 0.0325 - val_loss: 0.0343\n",
      "Epoch 97/500\n",
      "16253/16253 [==============================] - 40s 2ms/step - loss: 0.0325 - val_loss: 0.0341\n",
      "Epoch 98/500\n",
      "16253/16253 [==============================] - 42s 3ms/step - loss: 0.0325 - val_loss: 0.0341\n",
      "Epoch 99/500\n",
      "16253/16253 [==============================] - 40s 2ms/step - loss: 0.0325 - val_loss: 0.0348\n",
      "Epoch 100/500\n",
      "16253/16253 [==============================] - 40s 2ms/step - loss: 0.0325 - val_loss: 0.0342\n",
      "Epoch 101/500\n",
      "16253/16253 [==============================] - 40s 2ms/step - loss: 0.0325 - val_loss: 0.0344\n",
      "Epoch 102/500\n",
      "16253/16253 [==============================] - 39s 2ms/step - loss: 0.0325 - val_loss: 0.0346\n",
      "Epoch 103/500\n",
      "16253/16253 [==============================] - 39s 2ms/step - loss: 0.0325 - val_loss: 0.0341\n",
      "Epoch 104/500\n",
      "16253/16253 [==============================] - 41s 2ms/step - loss: 0.0325 - val_loss: 0.0342\n",
      "Epoch 105/500\n",
      "16253/16253 [==============================] - 41s 3ms/step - loss: 0.0325 - val_loss: 0.0340\n",
      "Epoch 106/500\n",
      "16253/16253 [==============================] - 40s 2ms/step - loss: 0.0325 - val_loss: 0.0341\n",
      "Epoch 107/500\n",
      "16253/16253 [==============================] - 40s 2ms/step - loss: 0.0325 - val_loss: 0.0340\n",
      "Epoch 108/500\n",
      "16253/16253 [==============================] - 40s 2ms/step - loss: 0.0325 - val_loss: 0.0342\n",
      "Epoch 109/500\n",
      "16253/16253 [==============================] - 41s 3ms/step - loss: 0.0325 - val_loss: 0.0347\n",
      "Epoch 110/500\n",
      "16253/16253 [==============================] - 40s 2ms/step - loss: 0.0325 - val_loss: 0.0342\n",
      "Epoch 111/500\n",
      "16253/16253 [==============================] - 40s 2ms/step - loss: 0.0325 - val_loss: 0.0342\n",
      "Epoch 112/500\n",
      "16253/16253 [==============================] - 40s 2ms/step - loss: 0.0325 - val_loss: 0.0341\n",
      "Epoch 113/500\n",
      "16253/16253 [==============================] - 41s 3ms/step - loss: 0.0325 - val_loss: 0.0343\n",
      "Epoch 114/500\n",
      "16253/16253 [==============================] - 41s 3ms/step - loss: 0.0325 - val_loss: 0.0343\n",
      "Epoch 118/500\n",
      "16253/16253 [==============================] - 40s 2ms/step - loss: 0.0325 - val_loss: 0.0342\n",
      "Epoch 119/500\n",
      "16253/16253 [==============================] - 41s 3ms/step - loss: 0.0325 - val_loss: 0.0341\n",
      "Epoch 120/500\n",
      "16253/16253 [==============================] - 41s 3ms/step - loss: 0.0325 - val_loss: 0.0346\n",
      "Epoch 121/500\n",
      "16253/16253 [==============================] - 42s 3ms/step - loss: 0.0325 - val_loss: 0.0342\n",
      "Epoch 122/500\n",
      " 6760/16253 [===========>..................] - ETA: 18s - loss: 0.0325"
     ]
    },
    {
     "name": "stderr",
     "output_type": "stream",
     "text": [
      "IOPub message rate exceeded.\n",
      "The notebook server will temporarily stop sending output\n",
      "to the client in order to avoid crashing it.\n",
      "To change this limit, set the config variable\n",
      "`--NotebookApp.iopub_msg_rate_limit`.\n",
      "\n",
      "Current values:\n",
      "NotebookApp.iopub_msg_rate_limit=1000.0 (msgs/sec)\n",
      "NotebookApp.rate_limit_window=3.0 (secs)\n",
      "\n"
     ]
    },
    {
     "name": "stdout",
     "output_type": "stream",
     "text": [
      "16253/16253 [==============================] - 41s 3ms/step - loss: 0.0325 - val_loss: 0.0342\n",
      "Epoch 138/500\n",
      "16253/16253 [==============================] - 41s 3ms/step - loss: 0.0325 - val_loss: 0.0341\n",
      "Epoch 139/500\n",
      "16253/16253 [==============================] - 42s 3ms/step - loss: 0.0325 - val_loss: 0.0341\n",
      "Epoch 140/500\n",
      "16253/16253 [==============================] - 41s 3ms/step - loss: 0.0325 - val_loss: 0.0345\n",
      "Epoch 141/500\n",
      "16253/16253 [==============================] - 41s 3ms/step - loss: 0.0325 - val_loss: 0.0343\n",
      "Epoch 142/500\n",
      "  695/16253 [>.............................] - ETA: 30s - loss: 0.0326"
     ]
    },
    {
     "name": "stderr",
     "output_type": "stream",
     "text": [
      "IOPub message rate exceeded.\n",
      "The notebook server will temporarily stop sending output\n",
      "to the client in order to avoid crashing it.\n",
      "To change this limit, set the config variable\n",
      "`--NotebookApp.iopub_msg_rate_limit`.\n",
      "\n",
      "Current values:\n",
      "NotebookApp.iopub_msg_rate_limit=1000.0 (msgs/sec)\n",
      "NotebookApp.rate_limit_window=3.0 (secs)\n",
      "\n"
     ]
    },
    {
     "name": "stdout",
     "output_type": "stream",
     "text": [
      "16253/16253 [==============================] - 40s 2ms/step - loss: 0.0324 - val_loss: 0.0340\n",
      "Epoch 156/500\n",
      "14715/16253 [==========================>...] - ETA: 3s - loss: 0.0324"
     ]
    },
    {
     "name": "stderr",
     "output_type": "stream",
     "text": [
      "IOPub message rate exceeded.\n",
      "The notebook server will temporarily stop sending output\n",
      "to the client in order to avoid crashing it.\n",
      "To change this limit, set the config variable\n",
      "`--NotebookApp.iopub_msg_rate_limit`.\n",
      "\n",
      "Current values:\n",
      "NotebookApp.iopub_msg_rate_limit=1000.0 (msgs/sec)\n",
      "NotebookApp.rate_limit_window=3.0 (secs)\n",
      "\n"
     ]
    },
    {
     "name": "stdout",
     "output_type": "stream",
     "text": [
      "16253/16253 [==============================] - 41s 3ms/step - loss: 0.0324 - val_loss: 0.0340\n",
      "Epoch 159/500\n",
      "16253/16253 [==============================] - 41s 3ms/step - loss: 0.0324 - val_loss: 0.0340\n",
      "Epoch 160/500\n",
      "16253/16253 [==============================] - 41s 3ms/step - loss: 0.0324 - val_loss: 0.0341\n",
      "Epoch 161/500\n",
      " 7298/16253 [============>.................] - ETA: 17s - loss: 0.0324"
     ]
    },
    {
     "name": "stderr",
     "output_type": "stream",
     "text": [
      "IOPub message rate exceeded.\n",
      "The notebook server will temporarily stop sending output\n",
      "to the client in order to avoid crashing it.\n",
      "To change this limit, set the config variable\n",
      "`--NotebookApp.iopub_msg_rate_limit`.\n",
      "\n",
      "Current values:\n",
      "NotebookApp.iopub_msg_rate_limit=1000.0 (msgs/sec)\n",
      "NotebookApp.rate_limit_window=3.0 (secs)\n",
      "\n"
     ]
    },
    {
     "name": "stdout",
     "output_type": "stream",
     "text": [
      "16253/16253 [==============================] - 41s 3ms/step - loss: 0.0324 - val_loss: 0.0342\n",
      "Epoch 175/500\n",
      "16253/16253 [==============================] - 41s 3ms/step - loss: 0.0324 - val_loss: 0.0340\n",
      "Epoch 176/500\n",
      " 7821/16253 [=============>................] - ETA: 16s - loss: 0.0324"
     ]
    },
    {
     "name": "stderr",
     "output_type": "stream",
     "text": [
      "IOPub message rate exceeded.\n",
      "The notebook server will temporarily stop sending output\n",
      "to the client in order to avoid crashing it.\n",
      "To change this limit, set the config variable\n",
      "`--NotebookApp.iopub_msg_rate_limit`.\n",
      "\n",
      "Current values:\n",
      "NotebookApp.iopub_msg_rate_limit=1000.0 (msgs/sec)\n",
      "NotebookApp.rate_limit_window=3.0 (secs)\n",
      "\n"
     ]
    },
    {
     "name": "stdout",
     "output_type": "stream",
     "text": [
      "16253/16253 [==============================] - 41s 3ms/step - loss: 0.0324 - val_loss: 0.0340\n",
      "Epoch 178/500\n",
      "16253/16253 [==============================] - 41s 3ms/step - loss: 0.0324 - val_loss: 0.0339\n",
      "Epoch 179/500\n",
      "16253/16253 [==============================] - 42s 3ms/step - loss: 0.0324 - val_loss: 0.0340\n",
      "Epoch 180/500\n",
      "16253/16253 [==============================] - 41s 3ms/step - loss: 0.0324 - val_loss: 0.0341\n",
      "Epoch 181/500\n",
      "  614/16253 [>.............................] - ETA: 29s - loss: 0.0324"
     ]
    },
    {
     "name": "stderr",
     "output_type": "stream",
     "text": [
      "IOPub message rate exceeded.\n",
      "The notebook server will temporarily stop sending output\n",
      "to the client in order to avoid crashing it.\n",
      "To change this limit, set the config variable\n",
      "`--NotebookApp.iopub_msg_rate_limit`.\n",
      "\n",
      "Current values:\n",
      "NotebookApp.iopub_msg_rate_limit=1000.0 (msgs/sec)\n",
      "NotebookApp.rate_limit_window=3.0 (secs)\n",
      "\n"
     ]
    },
    {
     "name": "stdout",
     "output_type": "stream",
     "text": [
      "16253/16253 [==============================] - 41s 3ms/step - loss: 0.0324 - val_loss: 0.0341\n",
      "Epoch 193/500\n",
      "16253/16253 [==============================] - 42s 3ms/step - loss: 0.0324 - val_loss: 0.0340\n",
      "Epoch 194/500\n",
      " 1728/16253 [==>...........................] - ETA: 29s - loss: 0.0324"
     ]
    },
    {
     "name": "stderr",
     "output_type": "stream",
     "text": [
      "IOPub message rate exceeded.\n",
      "The notebook server will temporarily stop sending output\n",
      "to the client in order to avoid crashing it.\n",
      "To change this limit, set the config variable\n",
      "`--NotebookApp.iopub_msg_rate_limit`.\n",
      "\n",
      "Current values:\n",
      "NotebookApp.iopub_msg_rate_limit=1000.0 (msgs/sec)\n",
      "NotebookApp.rate_limit_window=3.0 (secs)\n",
      "\n"
     ]
    },
    {
     "name": "stdout",
     "output_type": "stream",
     "text": [
      "16253/16253 [==============================] - 41s 3ms/step - loss: 0.0324 - val_loss: 0.0342\n",
      "Epoch 196/500\n",
      "16253/16253 [==============================] - 42s 3ms/step - loss: 0.0324 - val_loss: 0.0341\n",
      "Epoch 197/500\n",
      " 3014/16253 [====>.........................] - ETA: 27s - loss: 0.0324"
     ]
    },
    {
     "name": "stderr",
     "output_type": "stream",
     "text": [
      "IOPub message rate exceeded.\n",
      "The notebook server will temporarily stop sending output\n",
      "to the client in order to avoid crashing it.\n",
      "To change this limit, set the config variable\n",
      "`--NotebookApp.iopub_msg_rate_limit`.\n",
      "\n",
      "Current values:\n",
      "NotebookApp.iopub_msg_rate_limit=1000.0 (msgs/sec)\n",
      "NotebookApp.rate_limit_window=3.0 (secs)\n",
      "\n"
     ]
    },
    {
     "name": "stdout",
     "output_type": "stream",
     "text": [
      "16253/16253 [==============================] - 42s 3ms/step - loss: 0.0324 - val_loss: 0.0342\n",
      "Epoch 199/500\n",
      "16253/16253 [==============================] - 41s 3ms/step - loss: 0.0324 - val_loss: 0.0340\n",
      "Epoch 200/500\n",
      " 3407/16253 [=====>........................] - ETA: 24s - loss: 0.0324"
     ]
    },
    {
     "name": "stderr",
     "output_type": "stream",
     "text": [
      "IOPub message rate exceeded.\n",
      "The notebook server will temporarily stop sending output\n",
      "to the client in order to avoid crashing it.\n",
      "To change this limit, set the config variable\n",
      "`--NotebookApp.iopub_msg_rate_limit`.\n",
      "\n",
      "Current values:\n",
      "NotebookApp.iopub_msg_rate_limit=1000.0 (msgs/sec)\n",
      "NotebookApp.rate_limit_window=3.0 (secs)\n",
      "\n"
     ]
    },
    {
     "name": "stdout",
     "output_type": "stream",
     "text": [
      "16253/16253 [==============================] - 41s 3ms/step - loss: 0.0324 - val_loss: 0.0339\n",
      "Epoch 212/500\n",
      "16253/16253 [==============================] - 42s 3ms/step - loss: 0.0324 - val_loss: 0.0339\n",
      "Epoch 213/500\n",
      " 8178/16253 [==============>...............] - ETA: 16s - loss: 0.0324"
     ]
    },
    {
     "name": "stderr",
     "output_type": "stream",
     "text": [
      "IOPub message rate exceeded.\n",
      "The notebook server will temporarily stop sending output\n",
      "to the client in order to avoid crashing it.\n",
      "To change this limit, set the config variable\n",
      "`--NotebookApp.iopub_msg_rate_limit`.\n",
      "\n",
      "Current values:\n",
      "NotebookApp.iopub_msg_rate_limit=1000.0 (msgs/sec)\n",
      "NotebookApp.rate_limit_window=3.0 (secs)\n",
      "\n"
     ]
    },
    {
     "name": "stdout",
     "output_type": "stream",
     "text": [
      "16253/16253 [==============================] - 41s 3ms/step - loss: 0.0324 - val_loss: 0.0339\n",
      "Epoch 215/500\n",
      "16253/16253 [==============================] - 42s 3ms/step - loss: 0.0324 - val_loss: 0.0342\n",
      "Epoch 216/500\n",
      " 9762/16253 [=================>............] - ETA: 13s - loss: 0.0323"
     ]
    },
    {
     "name": "stderr",
     "output_type": "stream",
     "text": [
      "IOPub message rate exceeded.\n",
      "The notebook server will temporarily stop sending output\n",
      "to the client in order to avoid crashing it.\n",
      "To change this limit, set the config variable\n",
      "`--NotebookApp.iopub_msg_rate_limit`.\n",
      "\n",
      "Current values:\n",
      "NotebookApp.iopub_msg_rate_limit=1000.0 (msgs/sec)\n",
      "NotebookApp.rate_limit_window=3.0 (secs)\n",
      "\n"
     ]
    },
    {
     "name": "stdout",
     "output_type": "stream",
     "text": [
      "16253/16253 [==============================] - 42s 3ms/step - loss: 0.0323 - val_loss: 0.0340\n",
      "Epoch 218/500\n",
      "16253/16253 [==============================] - 41s 3ms/step - loss: 0.0323 - val_loss: 0.0342\n",
      "Epoch 219/500\n",
      " 6579/16253 [===========>..................] - ETA: 19s - loss: 0.0323"
     ]
    },
    {
     "name": "stderr",
     "output_type": "stream",
     "text": [
      "IOPub message rate exceeded.\n",
      "The notebook server will temporarily stop sending output\n",
      "to the client in order to avoid crashing it.\n",
      "To change this limit, set the config variable\n",
      "`--NotebookApp.iopub_msg_rate_limit`.\n",
      "\n",
      "Current values:\n",
      "NotebookApp.iopub_msg_rate_limit=1000.0 (msgs/sec)\n",
      "NotebookApp.rate_limit_window=3.0 (secs)\n",
      "\n"
     ]
    },
    {
     "name": "stdout",
     "output_type": "stream",
     "text": [
      "16253/16253 [==============================] - 42s 3ms/step - loss: 0.0323 - val_loss: 0.0342\n",
      "Epoch 231/500\n",
      "16253/16253 [==============================] - 40s 2ms/step - loss: 0.0323 - val_loss: 0.0343\n",
      "Epoch 232/500\n",
      "13910/16253 [========================>.....] - ETA: 4s - loss: 0.0323"
     ]
    },
    {
     "name": "stderr",
     "output_type": "stream",
     "text": [
      "IOPub message rate exceeded.\n",
      "The notebook server will temporarily stop sending output\n",
      "to the client in order to avoid crashing it.\n",
      "To change this limit, set the config variable\n",
      "`--NotebookApp.iopub_msg_rate_limit`.\n",
      "\n",
      "Current values:\n",
      "NotebookApp.iopub_msg_rate_limit=1000.0 (msgs/sec)\n",
      "NotebookApp.rate_limit_window=3.0 (secs)\n",
      "\n"
     ]
    },
    {
     "name": "stdout",
     "output_type": "stream",
     "text": [
      "16253/16253 [==============================] - 41s 3ms/step - loss: 0.0323 - val_loss: 0.0340\n",
      "Epoch 235/500\n",
      "16253/16253 [==============================] - 40s 2ms/step - loss: 0.0323 - val_loss: 0.0340\n",
      "Epoch 236/500\n",
      "12727/16253 [======================>.......] - ETA: 6s - loss: 0.0323"
     ]
    },
    {
     "name": "stderr",
     "output_type": "stream",
     "text": [
      "IOPub message rate exceeded.\n",
      "The notebook server will temporarily stop sending output\n",
      "to the client in order to avoid crashing it.\n",
      "To change this limit, set the config variable\n",
      "`--NotebookApp.iopub_msg_rate_limit`.\n",
      "\n",
      "Current values:\n",
      "NotebookApp.iopub_msg_rate_limit=1000.0 (msgs/sec)\n",
      "NotebookApp.rate_limit_window=3.0 (secs)\n",
      "\n"
     ]
    },
    {
     "name": "stdout",
     "output_type": "stream",
     "text": [
      "16253/16253 [==============================] - 41s 3ms/step - loss: 0.0323 - val_loss: 0.0338\n",
      "Epoch 249/500\n",
      "16253/16253 [==============================] - 40s 2ms/step - loss: 0.0323 - val_loss: 0.0341\n",
      "Epoch 250/500\n",
      " 4086/16253 [======>.......................] - ETA: 23s - loss: 0.0323"
     ]
    },
    {
     "name": "stderr",
     "output_type": "stream",
     "text": [
      "IOPub message rate exceeded.\n",
      "The notebook server will temporarily stop sending output\n",
      "to the client in order to avoid crashing it.\n",
      "To change this limit, set the config variable\n",
      "`--NotebookApp.iopub_msg_rate_limit`.\n",
      "\n",
      "Current values:\n",
      "NotebookApp.iopub_msg_rate_limit=1000.0 (msgs/sec)\n",
      "NotebookApp.rate_limit_window=3.0 (secs)\n",
      "\n"
     ]
    },
    {
     "name": "stdout",
     "output_type": "stream",
     "text": [
      "16253/16253 [==============================] - 40s 2ms/step - loss: 0.0323 - val_loss: 0.0338\n",
      "Epoch 253/500\n",
      "16253/16253 [==============================] - 40s 2ms/step - loss: 0.0323 - val_loss: 0.0340\n",
      "Epoch 254/500\n",
      "16253/16253 [==============================] - 41s 3ms/step - loss: 0.0323 - val_loss: 0.0342\n",
      "Epoch 255/500\n",
      " 7255/16253 [============>.................] - ETA: 18s - loss: 0.0323"
     ]
    },
    {
     "name": "stderr",
     "output_type": "stream",
     "text": [
      "IOPub message rate exceeded.\n",
      "The notebook server will temporarily stop sending output\n",
      "to the client in order to avoid crashing it.\n",
      "To change this limit, set the config variable\n",
      "`--NotebookApp.iopub_msg_rate_limit`.\n",
      "\n",
      "Current values:\n",
      "NotebookApp.iopub_msg_rate_limit=1000.0 (msgs/sec)\n",
      "NotebookApp.rate_limit_window=3.0 (secs)\n",
      "\n"
     ]
    },
    {
     "name": "stdout",
     "output_type": "stream",
     "text": [
      "16253/16253 [==============================] - 41s 3ms/step - loss: 0.0323 - val_loss: 0.0338\n",
      "Epoch 266/500\n",
      "16253/16253 [==============================] - 42s 3ms/step - loss: 0.0323 - val_loss: 0.0338\n",
      "Epoch 267/500\n",
      "15993/16253 [============================>.] - ETA: 0s - loss: 0.0323"
     ]
    },
    {
     "name": "stderr",
     "output_type": "stream",
     "text": [
      "IOPub message rate exceeded.\n",
      "The notebook server will temporarily stop sending output\n",
      "to the client in order to avoid crashing it.\n",
      "To change this limit, set the config variable\n",
      "`--NotebookApp.iopub_msg_rate_limit`.\n",
      "\n",
      "Current values:\n",
      "NotebookApp.iopub_msg_rate_limit=1000.0 (msgs/sec)\n",
      "NotebookApp.rate_limit_window=3.0 (secs)\n",
      "\n"
     ]
    },
    {
     "name": "stdout",
     "output_type": "stream",
     "text": [
      "16253/16253 [==============================] - 41s 3ms/step - loss: 0.0323 - val_loss: 0.0339\n",
      "Epoch 271/500\n",
      "16253/16253 [==============================] - 42s 3ms/step - loss: 0.0323 - val_loss: 0.0340\n",
      "Epoch 272/500\n",
      "16253/16253 [==============================] - 41s 3ms/step - loss: 0.0323 - val_loss: 0.0342\n",
      "Epoch 273/500\n",
      " 4678/16253 [=======>......................] - ETA: 23s - loss: 0.0323"
     ]
    },
    {
     "name": "stderr",
     "output_type": "stream",
     "text": [
      "IOPub message rate exceeded.\n",
      "The notebook server will temporarily stop sending output\n",
      "to the client in order to avoid crashing it.\n",
      "To change this limit, set the config variable\n",
      "`--NotebookApp.iopub_msg_rate_limit`.\n",
      "\n",
      "Current values:\n",
      "NotebookApp.iopub_msg_rate_limit=1000.0 (msgs/sec)\n",
      "NotebookApp.rate_limit_window=3.0 (secs)\n",
      "\n"
     ]
    },
    {
     "name": "stdout",
     "output_type": "stream",
     "text": [
      "16253/16253 [==============================] - 42s 3ms/step - loss: 0.0323 - val_loss: 0.0338\n",
      "Epoch 285/500\n",
      "16253/16253 [==============================] - 42s 3ms/step - loss: 0.0323 - val_loss: 0.0340\n",
      "Epoch 286/500\n",
      " 7472/16253 [============>.................] - ETA: 17s - loss: 0.0323"
     ]
    },
    {
     "name": "stderr",
     "output_type": "stream",
     "text": [
      "IOPub message rate exceeded.\n",
      "The notebook server will temporarily stop sending output\n",
      "to the client in order to avoid crashing it.\n",
      "To change this limit, set the config variable\n",
      "`--NotebookApp.iopub_msg_rate_limit`.\n",
      "\n",
      "Current values:\n",
      "NotebookApp.iopub_msg_rate_limit=1000.0 (msgs/sec)\n",
      "NotebookApp.rate_limit_window=3.0 (secs)\n",
      "\n"
     ]
    },
    {
     "name": "stdout",
     "output_type": "stream",
     "text": [
      "16253/16253 [==============================] - 41s 3ms/step - loss: 0.0323 - val_loss: 0.0339\n",
      "Epoch 290/500\n",
      "16253/16253 [==============================] - 42s 3ms/step - loss: 0.0323 - val_loss: 0.0339\n",
      "Epoch 291/500\n",
      "12979/16253 [======================>.......] - ETA: 6s - loss: 0.0323"
     ]
    },
    {
     "name": "stderr",
     "output_type": "stream",
     "text": [
      "IOPub message rate exceeded.\n",
      "The notebook server will temporarily stop sending output\n",
      "to the client in order to avoid crashing it.\n",
      "To change this limit, set the config variable\n",
      "`--NotebookApp.iopub_msg_rate_limit`.\n",
      "\n",
      "Current values:\n",
      "NotebookApp.iopub_msg_rate_limit=1000.0 (msgs/sec)\n",
      "NotebookApp.rate_limit_window=3.0 (secs)\n",
      "\n"
     ]
    },
    {
     "name": "stdout",
     "output_type": "stream",
     "text": [
      "16253/16253 [==============================] - 41s 3ms/step - loss: 0.0323 - val_loss: 0.0339\n",
      "Epoch 303/500\n",
      "16253/16253 [==============================] - 42s 3ms/step - loss: 0.0323 - val_loss: 0.0340\n",
      "Epoch 304/500\n",
      "16253/16253 [==============================] - 42s 3ms/step - loss: 0.0323 - val_loss: 0.0338\n",
      "Epoch 305/500\n",
      " 1030/16253 [>.............................] - ETA: 28s - loss: 0.0322"
     ]
    },
    {
     "name": "stderr",
     "output_type": "stream",
     "text": [
      "IOPub message rate exceeded.\n",
      "The notebook server will temporarily stop sending output\n",
      "to the client in order to avoid crashing it.\n",
      "To change this limit, set the config variable\n",
      "`--NotebookApp.iopub_msg_rate_limit`.\n",
      "\n",
      "Current values:\n",
      "NotebookApp.iopub_msg_rate_limit=1000.0 (msgs/sec)\n",
      "NotebookApp.rate_limit_window=3.0 (secs)\n",
      "\n"
     ]
    },
    {
     "name": "stdout",
     "output_type": "stream",
     "text": [
      "16253/16253 [==============================] - 42s 3ms/step - loss: 0.0323 - val_loss: 0.0339\n",
      "Epoch 308/500\n",
      "16253/16253 [==============================] - 42s 3ms/step - loss: 0.0323 - val_loss: 0.0343\n",
      "Epoch 309/500\n",
      "16253/16253 [==============================] - 42s 3ms/step - loss: 0.0323 - val_loss: 0.0339\n",
      "Epoch 310/500\n",
      " 4376/16253 [=======>......................] - ETA: 23s - loss: 0.0322"
     ]
    },
    {
     "name": "stderr",
     "output_type": "stream",
     "text": [
      "IOPub message rate exceeded.\n",
      "The notebook server will temporarily stop sending output\n",
      "to the client in order to avoid crashing it.\n",
      "To change this limit, set the config variable\n",
      "`--NotebookApp.iopub_msg_rate_limit`.\n",
      "\n",
      "Current values:\n",
      "NotebookApp.iopub_msg_rate_limit=1000.0 (msgs/sec)\n",
      "NotebookApp.rate_limit_window=3.0 (secs)\n",
      "\n"
     ]
    },
    {
     "name": "stdout",
     "output_type": "stream",
     "text": [
      "16253/16253 [==============================] - 43s 3ms/step - loss: 0.0323 - val_loss: 0.0338\n",
      "Epoch 313/500\n",
      "16253/16253 [==============================] - 43s 3ms/step - loss: 0.0323 - val_loss: 0.0340\n",
      "Epoch 314/500\n",
      "16253/16253 [==============================] - 42s 3ms/step - loss: 0.0323 - val_loss: 0.0338\n",
      "Epoch 315/500\n",
      "16253/16253 [==============================] - 42s 3ms/step - loss: 0.0323 - val_loss: 0.0338\n",
      "Epoch 316/500\n",
      "16253/16253 [==============================] - 42s 3ms/step - loss: 0.0323 - val_loss: 0.0338\n",
      "Epoch 317/500\n",
      "16253/16253 [==============================] - 42s 3ms/step - loss: 0.0323 - val_loss: 0.0341\n",
      "Epoch 318/500\n",
      "16253/16253 [==============================] - 42s 3ms/step - loss: 0.0323 - val_loss: 0.0340\n",
      "Epoch 319/500\n",
      "16253/16253 [==============================] - 41s 3ms/step - loss: 0.0323 - val_loss: 0.0342\n",
      "Epoch 320/500\n",
      "16253/16253 [==============================] - 42s 3ms/step - loss: 0.0323 - val_loss: 0.0339\n",
      "Epoch 321/500\n",
      "16253/16253 [==============================] - 41s 3ms/step - loss: 0.0323 - val_loss: 0.0338\n",
      "Epoch 322/500\n",
      "16253/16253 [==============================] - 40s 2ms/step - loss: 0.0323 - val_loss: 0.0340\n",
      "Epoch 323/500\n",
      "16253/16253 [==============================] - 41s 3ms/step - loss: 0.0323 - val_loss: 0.0338\n",
      "Epoch 324/500\n",
      "16253/16253 [==============================] - 42s 3ms/step - loss: 0.0323 - val_loss: 0.0340\n",
      "Epoch 325/500\n",
      "16253/16253 [==============================] - 42s 3ms/step - loss: 0.0323 - val_loss: 0.0339\n",
      "Epoch 326/500\n",
      "16253/16253 [==============================] - 41s 3ms/step - loss: 0.0323 - val_loss: 0.0339\n",
      "Epoch 327/500\n",
      "16253/16253 [==============================] - 42s 3ms/step - loss: 0.0323 - val_loss: 0.0342\n",
      "Epoch 328/500\n",
      "16253/16253 [==============================] - 41s 3ms/step - loss: 0.0323 - val_loss: 0.0342\n",
      "Epoch 329/500\n",
      "16253/16253 [==============================] - 41s 3ms/step - loss: 0.0323 - val_loss: 0.0339\n",
      "Epoch 330/500\n",
      "16253/16253 [==============================] - 41s 3ms/step - loss: 0.0323 - val_loss: 0.0338\n",
      "Epoch 331/500\n",
      "16253/16253 [==============================] - 41s 3ms/step - loss: 0.0323 - val_loss: 0.0340\n",
      "Epoch 332/500\n",
      "16253/16253 [==============================] - 40s 2ms/step - loss: 0.0323 - val_loss: 0.0339\n",
      "Epoch 333/500\n",
      "16253/16253 [==============================] - 40s 2ms/step - loss: 0.0323 - val_loss: 0.0338\n",
      "Epoch 334/500\n",
      "16253/16253 [==============================] - 42s 3ms/step - loss: 0.0323 - val_loss: 0.0338\n",
      "Epoch 335/500\n",
      "16253/16253 [==============================] - 41s 3ms/step - loss: 0.0323 - val_loss: 0.0338\n",
      "Epoch 336/500\n",
      "16253/16253 [==============================] - 41s 3ms/step - loss: 0.0323 - val_loss: 0.0340\n",
      "Epoch 337/500\n",
      "16253/16253 [==============================] - 41s 3ms/step - loss: 0.0323 - val_loss: 0.0338\n",
      "Epoch 338/500\n",
      "16253/16253 [==============================] - 40s 2ms/step - loss: 0.0323 - val_loss: 0.0343\n",
      "Epoch 339/500\n",
      "16253/16253 [==============================] - 41s 3ms/step - loss: 0.0323 - val_loss: 0.0341\n",
      "Epoch 340/500\n",
      "16253/16253 [==============================] - 41s 3ms/step - loss: 0.0323 - val_loss: 0.0338\n",
      "Epoch 341/500\n",
      "16253/16253 [==============================] - 41s 2ms/step - loss: 0.0323 - val_loss: 0.0342\n",
      "Epoch 342/500\n",
      "16253/16253 [==============================] - 42s 3ms/step - loss: 0.0323 - val_loss: 0.0343\n",
      "Epoch 343/500\n",
      "16253/16253 [==============================] - 41s 3ms/step - loss: 0.0323 - val_loss: 0.0340\n",
      "Epoch 344/500\n",
      "16253/16253 [==============================] - 41s 3ms/step - loss: 0.0323 - val_loss: 0.0339\n",
      "Epoch 345/500\n",
      "16253/16253 [==============================] - 40s 2ms/step - loss: 0.0323 - val_loss: 0.0338\n",
      "Epoch 346/500\n",
      "16253/16253 [==============================] - 42s 3ms/step - loss: 0.0323 - val_loss: 0.0341\n",
      "Epoch 347/500\n",
      "16253/16253 [==============================] - 42s 3ms/step - loss: 0.0323 - val_loss: 0.0343\n",
      "Epoch 348/500\n",
      "16253/16253 [==============================] - 41s 3ms/step - loss: 0.0323 - val_loss: 0.0343\n",
      "Epoch 349/500\n",
      "16253/16253 [==============================] - 42s 3ms/step - loss: 0.0323 - val_loss: 0.0339\n",
      "Epoch 350/500\n",
      "16253/16253 [==============================] - 42s 3ms/step - loss: 0.0323 - val_loss: 0.0339\n",
      "Epoch 351/500\n",
      "16253/16253 [==============================] - 41s 3ms/step - loss: 0.0323 - val_loss: 0.0339\n",
      "Epoch 352/500\n",
      "16253/16253 [==============================] - 43s 3ms/step - loss: 0.0323 - val_loss: 0.0339\n",
      "Epoch 353/500\n",
      "16253/16253 [==============================] - 43s 3ms/step - loss: 0.0323 - val_loss: 0.0338\n",
      "Epoch 354/500\n",
      "16253/16253 [==============================] - 42s 3ms/step - loss: 0.0323 - val_loss: 0.0338\n",
      "Epoch 355/500\n",
      "16253/16253 [==============================] - 42s 3ms/step - loss: 0.0323 - val_loss: 0.0342\n",
      "Epoch 356/500\n",
      "16253/16253 [==============================] - 42s 3ms/step - loss: 0.0322 - val_loss: 0.0338\n",
      "Epoch 357/500\n",
      "16253/16253 [==============================] - 41s 3ms/step - loss: 0.0323 - val_loss: 0.0338\n",
      "Epoch 358/500\n",
      "16253/16253 [==============================] - 41s 3ms/step - loss: 0.0323 - val_loss: 0.0342\n",
      "Epoch 359/500\n",
      "16253/16253 [==============================] - 41s 3ms/step - loss: 0.0323 - val_loss: 0.0338\n",
      "Epoch 360/500\n",
      "16253/16253 [==============================] - 40s 2ms/step - loss: 0.0323 - val_loss: 0.0339\n",
      "Epoch 361/500\n",
      "16253/16253 [==============================] - 41s 3ms/step - loss: 0.0322 - val_loss: 0.0340\n",
      "Epoch 362/500\n",
      "16253/16253 [==============================] - 41s 3ms/step - loss: 0.0323 - val_loss: 0.0338\n",
      "Epoch 363/500\n",
      "16253/16253 [==============================] - 40s 2ms/step - loss: 0.0323 - val_loss: 0.0337\n",
      "Epoch 364/500\n",
      "16253/16253 [==============================] - 41s 3ms/step - loss: 0.0323 - val_loss: 0.0338\n",
      "Epoch 365/500\n",
      "16253/16253 [==============================] - 41s 3ms/step - loss: 0.0323 - val_loss: 0.0345\n",
      "Epoch 366/500\n",
      "16253/16253 [==============================] - 42s 3ms/step - loss: 0.0323 - val_loss: 0.0340\n",
      "Epoch 367/500\n",
      "16253/16253 [==============================] - 41s 3ms/step - loss: 0.0322 - val_loss: 0.0339\n",
      "Epoch 368/500\n",
      "16253/16253 [==============================] - 41s 3ms/step - loss: 0.0322 - val_loss: 0.0338\n",
      "Epoch 369/500\n",
      "16253/16253 [==============================] - 41s 3ms/step - loss: 0.0322 - val_loss: 0.0339\n",
      "Epoch 370/500\n",
      "16253/16253 [==============================] - 42s 3ms/step - loss: 0.0322 - val_loss: 0.0341\n",
      "Epoch 371/500\n",
      "16253/16253 [==============================] - 42s 3ms/step - loss: 0.0322 - val_loss: 0.0340\n",
      "Epoch 372/500\n",
      "16253/16253 [==============================] - 41s 3ms/step - loss: 0.0322 - val_loss: 0.0338\n",
      "Epoch 373/500\n",
      "16253/16253 [==============================] - 42s 3ms/step - loss: 0.0322 - val_loss: 0.0343\n",
      "Epoch 374/500\n",
      "16253/16253 [==============================] - 41s 3ms/step - loss: 0.0322 - val_loss: 0.0337\n",
      "Epoch 375/500\n",
      "16253/16253 [==============================] - 41s 3ms/step - loss: 0.0322 - val_loss: 0.0340\n",
      "Epoch 376/500\n",
      "16253/16253 [==============================] - 42s 3ms/step - loss: 0.0322 - val_loss: 0.0338\n",
      "Epoch 377/500\n",
      "16253/16253 [==============================] - 41s 3ms/step - loss: 0.0322 - val_loss: 0.0338\n",
      "Epoch 378/500\n",
      "16253/16253 [==============================] - 42s 3ms/step - loss: 0.0322 - val_loss: 0.0338\n",
      "Epoch 379/500\n",
      "16253/16253 [==============================] - 42s 3ms/step - loss: 0.0322 - val_loss: 0.0340\n",
      "Epoch 380/500\n",
      "16253/16253 [==============================] - 41s 3ms/step - loss: 0.0322 - val_loss: 0.0339\n",
      "Epoch 381/500\n",
      "16253/16253 [==============================] - 42s 3ms/step - loss: 0.0322 - val_loss: 0.0342\n",
      "Epoch 382/500\n",
      "16253/16253 [==============================] - 41s 3ms/step - loss: 0.0322 - val_loss: 0.0340\n",
      "Epoch 383/500\n",
      "16253/16253 [==============================] - 42s 3ms/step - loss: 0.0322 - val_loss: 0.0338\n",
      "Epoch 384/500\n",
      "16253/16253 [==============================] - 42s 3ms/step - loss: 0.0322 - val_loss: 0.0338\n",
      "Epoch 385/500\n",
      "16253/16253 [==============================] - 41s 3ms/step - loss: 0.0322 - val_loss: 0.0338\n",
      "Epoch 386/500\n",
      "16253/16253 [==============================] - 42s 3ms/step - loss: 0.0322 - val_loss: 0.0339\n",
      "Epoch 387/500\n",
      "16253/16253 [==============================] - 42s 3ms/step - loss: 0.0322 - val_loss: 0.0338\n"
     ]
    },
    {
     "name": "stdout",
     "output_type": "stream",
     "text": [
      "Epoch 388/500\n",
      "16253/16253 [==============================] - 42s 3ms/step - loss: 0.0322 - val_loss: 0.0338\n",
      "Epoch 389/500\n",
      "16253/16253 [==============================] - 41s 3ms/step - loss: 0.0322 - val_loss: 0.0340\n",
      "Epoch 390/500\n",
      "16253/16253 [==============================] - 41s 3ms/step - loss: 0.0322 - val_loss: 0.0340\n",
      "Epoch 391/500\n",
      "16253/16253 [==============================] - 41s 2ms/step - loss: 0.0322 - val_loss: 0.0342\n",
      "Epoch 392/500\n",
      "16253/16253 [==============================] - 40s 2ms/step - loss: 0.0322 - val_loss: 0.0338\n",
      "Epoch 393/500\n",
      "16253/16253 [==============================] - 41s 3ms/step - loss: 0.0322 - val_loss: 0.0339\n",
      "Epoch 394/500\n",
      "16253/16253 [==============================] - 41s 3ms/step - loss: 0.0322 - val_loss: 0.0341\n",
      "Epoch 395/500\n",
      "16253/16253 [==============================] - 42s 3ms/step - loss: 0.0322 - val_loss: 0.0339\n",
      "Epoch 396/500\n",
      "16253/16253 [==============================] - 41s 3ms/step - loss: 0.0322 - val_loss: 0.0340\n",
      "Epoch 397/500\n",
      "16253/16253 [==============================] - 41s 3ms/step - loss: 0.0322 - val_loss: 0.0339\n",
      "Epoch 398/500\n",
      "16253/16253 [==============================] - 42s 3ms/step - loss: 0.0322 - val_loss: 0.0338\n",
      "Epoch 399/500\n",
      "16253/16253 [==============================] - 41s 3ms/step - loss: 0.0322 - val_loss: 0.0338\n",
      "Epoch 400/500\n",
      "16253/16253 [==============================] - 41s 3ms/step - loss: 0.0322 - val_loss: 0.0337\n",
      "Epoch 401/500\n",
      "16253/16253 [==============================] - 42s 3ms/step - loss: 0.0322 - val_loss: 0.0342\n",
      "Epoch 402/500\n",
      "16253/16253 [==============================] - 42s 3ms/step - loss: 0.0322 - val_loss: 0.0341\n",
      "Epoch 403/500\n",
      "16253/16253 [==============================] - 41s 3ms/step - loss: 0.0322 - val_loss: 0.0337\n",
      "Epoch 404/500\n",
      "16253/16253 [==============================] - 41s 3ms/step - loss: 0.0322 - val_loss: 0.0339\n",
      "Epoch 405/500\n",
      "16253/16253 [==============================] - 42s 3ms/step - loss: 0.0322 - val_loss: 0.0339\n",
      "Epoch 406/500\n",
      "16253/16253 [==============================] - 42s 3ms/step - loss: 0.0322 - val_loss: 0.0339\n",
      "Epoch 407/500\n",
      "16253/16253 [==============================] - 42s 3ms/step - loss: 0.0322 - val_loss: 0.0340\n",
      "Epoch 408/500\n",
      "16253/16253 [==============================] - 41s 3ms/step - loss: 0.0322 - val_loss: 0.0337\n",
      "Epoch 409/500\n",
      "16253/16253 [==============================] - 41s 3ms/step - loss: 0.0322 - val_loss: 0.0339\n",
      "Epoch 410/500\n",
      "16253/16253 [==============================] - 41s 3ms/step - loss: 0.0322 - val_loss: 0.0337\n",
      "Epoch 411/500\n",
      "16253/16253 [==============================] - 41s 3ms/step - loss: 0.0322 - val_loss: 0.0343\n",
      "Epoch 412/500\n",
      "16253/16253 [==============================] - 42s 3ms/step - loss: 0.0322 - val_loss: 0.0343\n",
      "Epoch 413/500\n",
      "16253/16253 [==============================] - 41s 3ms/step - loss: 0.0322 - val_loss: 0.0341\n",
      "Epoch 414/500\n",
      "16253/16253 [==============================] - 41s 3ms/step - loss: 0.0322 - val_loss: 0.0340\n",
      "Epoch 415/500\n",
      "16253/16253 [==============================] - 41s 3ms/step - loss: 0.0322 - val_loss: 0.0338\n",
      "Epoch 416/500\n",
      "16253/16253 [==============================] - 42s 3ms/step - loss: 0.0322 - val_loss: 0.0337\n",
      "Epoch 417/500\n",
      "16253/16253 [==============================] - 41s 2ms/step - loss: 0.0322 - val_loss: 0.0341\n",
      "Epoch 418/500\n",
      "16253/16253 [==============================] - 41s 3ms/step - loss: 0.0322 - val_loss: 0.0338\n",
      "Epoch 419/500\n",
      "16253/16253 [==============================] - 42s 3ms/step - loss: 0.0322 - val_loss: 0.0339\n",
      "Epoch 420/500\n",
      "16253/16253 [==============================] - 41s 3ms/step - loss: 0.0322 - val_loss: 0.0337\n",
      "Epoch 421/500\n",
      "16253/16253 [==============================] - 42s 3ms/step - loss: 0.0322 - val_loss: 0.0337\n",
      "Epoch 422/500\n",
      "16253/16253 [==============================] - 41s 3ms/step - loss: 0.0322 - val_loss: 0.0340\n",
      "Epoch 423/500\n",
      "16253/16253 [==============================] - 42s 3ms/step - loss: 0.0322 - val_loss: 0.0338\n",
      "Epoch 424/500\n",
      "16253/16253 [==============================] - 42s 3ms/step - loss: 0.0322 - val_loss: 0.0337\n",
      "Epoch 425/500\n",
      "16253/16253 [==============================] - 41s 3ms/step - loss: 0.0322 - val_loss: 0.0341\n",
      "Epoch 426/500\n",
      "16253/16253 [==============================] - 42s 3ms/step - loss: 0.0322 - val_loss: 0.0339\n",
      "Epoch 427/500\n",
      "16253/16253 [==============================] - 41s 3ms/step - loss: 0.0322 - val_loss: 0.0340\n",
      "Epoch 428/500\n",
      "16253/16253 [==============================] - 42s 3ms/step - loss: 0.0322 - val_loss: 0.0341\n",
      "Epoch 429/500\n",
      "16253/16253 [==============================] - 41s 3ms/step - loss: 0.0322 - val_loss: 0.0339\n",
      "Epoch 430/500\n",
      "16253/16253 [==============================] - 41s 3ms/step - loss: 0.0322 - val_loss: 0.0338\n",
      "Epoch 431/500\n",
      "16253/16253 [==============================] - 41s 3ms/step - loss: 0.0322 - val_loss: 0.0339\n",
      "Epoch 432/500\n",
      "16253/16253 [==============================] - 42s 3ms/step - loss: 0.0322 - val_loss: 0.0339\n",
      "Epoch 433/500\n",
      "16253/16253 [==============================] - 41s 3ms/step - loss: 0.0322 - val_loss: 0.0338\n",
      "Epoch 434/500\n",
      "16253/16253 [==============================] - 42s 3ms/step - loss: 0.0322 - val_loss: 0.0341\n",
      "Epoch 435/500\n",
      "16253/16253 [==============================] - 43s 3ms/step - loss: 0.0322 - val_loss: 0.0338\n",
      "Epoch 436/500\n",
      "16253/16253 [==============================] - 43s 3ms/step - loss: 0.0322 - val_loss: 0.0342\n",
      "Epoch 437/500\n",
      "16253/16253 [==============================] - 41s 3ms/step - loss: 0.0322 - val_loss: 0.0339\n",
      "Epoch 438/500\n",
      "16253/16253 [==============================] - 41s 3ms/step - loss: 0.0322 - val_loss: 0.0338\n",
      "Epoch 439/500\n",
      "16253/16253 [==============================] - 42s 3ms/step - loss: 0.0322 - val_loss: 0.0337\n",
      "Epoch 440/500\n",
      "16253/16253 [==============================] - 42s 3ms/step - loss: 0.0322 - val_loss: 0.0339\n",
      "Epoch 441/500\n",
      "16253/16253 [==============================] - 41s 3ms/step - loss: 0.0322 - val_loss: 0.0337\n",
      "Epoch 442/500\n",
      "16253/16253 [==============================] - 42s 3ms/step - loss: 0.0322 - val_loss: 0.0339\n",
      "Epoch 443/500\n",
      "16253/16253 [==============================] - 42s 3ms/step - loss: 0.0322 - val_loss: 0.0341\n",
      "Epoch 444/500\n",
      "16253/16253 [==============================] - 42s 3ms/step - loss: 0.0322 - val_loss: 0.0337\n",
      "Epoch 445/500\n",
      "16253/16253 [==============================] - 41s 3ms/step - loss: 0.0322 - val_loss: 0.0339\n",
      "Epoch 446/500\n",
      "16253/16253 [==============================] - 41s 2ms/step - loss: 0.0322 - val_loss: 0.0341\n",
      "Epoch 447/500\n",
      "16253/16253 [==============================] - 41s 3ms/step - loss: 0.0322 - val_loss: 0.0342\n",
      "Epoch 448/500\n",
      "16253/16253 [==============================] - 41s 3ms/step - loss: 0.0322 - val_loss: 0.0338\n",
      "Epoch 449/500\n",
      "16253/16253 [==============================] - 41s 3ms/step - loss: 0.0322 - val_loss: 0.0337\n",
      "Epoch 450/500\n",
      "16253/16253 [==============================] - 41s 3ms/step - loss: 0.0322 - val_loss: 0.0340\n",
      "Epoch 451/500\n",
      "16253/16253 [==============================] - 41s 3ms/step - loss: 0.0322 - val_loss: 0.0337\n",
      "Epoch 452/500\n",
      "16253/16253 [==============================] - 42s 3ms/step - loss: 0.0322 - val_loss: 0.0338\n",
      "Epoch 453/500\n",
      "16253/16253 [==============================] - 41s 3ms/step - loss: 0.0322 - val_loss: 0.0339\n",
      "Epoch 454/500\n",
      "16253/16253 [==============================] - 41s 3ms/step - loss: 0.0322 - val_loss: 0.0342\n",
      "Epoch 455/500\n",
      "16253/16253 [==============================] - 41s 3ms/step - loss: 0.0322 - val_loss: 0.0338\n",
      "Epoch 456/500\n",
      "16253/16253 [==============================] - 41s 3ms/step - loss: 0.0322 - val_loss: 0.0338\n",
      "Epoch 457/500\n",
      "16253/16253 [==============================] - 42s 3ms/step - loss: 0.0322 - val_loss: 0.0339\n",
      "Epoch 458/500\n",
      "16253/16253 [==============================] - 42s 3ms/step - loss: 0.0322 - val_loss: 0.0339\n",
      "Epoch 459/500\n",
      "16253/16253 [==============================] - 41s 3ms/step - loss: 0.0322 - val_loss: 0.0339\n",
      "Epoch 460/500\n",
      "16253/16253 [==============================] - 41s 3ms/step - loss: 0.0322 - val_loss: 0.0338\n",
      "Epoch 461/500\n",
      "16253/16253 [==============================] - 42s 3ms/step - loss: 0.0322 - val_loss: 0.0338\n",
      "Epoch 462/500\n",
      "16253/16253 [==============================] - 41s 3ms/step - loss: 0.0322 - val_loss: 0.0339\n",
      "Epoch 463/500\n",
      "16253/16253 [==============================] - 41s 3ms/step - loss: 0.0322 - val_loss: 0.0339\n"
     ]
    },
    {
     "name": "stdout",
     "output_type": "stream",
     "text": [
      "Epoch 464/500\n",
      "16253/16253 [==============================] - 41s 3ms/step - loss: 0.0322 - val_loss: 0.0341\n",
      "Epoch 465/500\n",
      "16253/16253 [==============================] - 41s 3ms/step - loss: 0.0322 - val_loss: 0.0337\n",
      "Epoch 466/500\n",
      "16253/16253 [==============================] - 42s 3ms/step - loss: 0.0322 - val_loss: 0.0338\n",
      "Epoch 467/500\n",
      "16253/16253 [==============================] - 41s 3ms/step - loss: 0.0322 - val_loss: 0.0337\n",
      "Epoch 468/500\n",
      "16253/16253 [==============================] - 41s 3ms/step - loss: 0.0322 - val_loss: 0.0339\n",
      "Epoch 469/500\n",
      "16253/16253 [==============================] - 41s 2ms/step - loss: 0.0322 - val_loss: 0.0337\n",
      "Epoch 470/500\n",
      "16253/16253 [==============================] - 41s 3ms/step - loss: 0.0322 - val_loss: 0.0341\n",
      "Epoch 471/500\n",
      "16253/16253 [==============================] - 41s 3ms/step - loss: 0.0322 - val_loss: 0.0344\n",
      "Epoch 472/500\n",
      "16253/16253 [==============================] - 41s 3ms/step - loss: 0.0322 - val_loss: 0.0338\n",
      "Epoch 473/500\n",
      "16253/16253 [==============================] - 42s 3ms/step - loss: 0.0322 - val_loss: 0.0342\n",
      "Epoch 474/500\n",
      "16253/16253 [==============================] - 41s 3ms/step - loss: 0.0322 - val_loss: 0.0340\n",
      "Epoch 475/500\n",
      "16253/16253 [==============================] - 41s 3ms/step - loss: 0.0322 - val_loss: 0.0338\n",
      "Epoch 476/500\n",
      "16253/16253 [==============================] - 42s 3ms/step - loss: 0.0322 - val_loss: 0.0338\n",
      "Epoch 477/500\n",
      "16253/16253 [==============================] - 41s 3ms/step - loss: 0.0322 - val_loss: 0.0338\n",
      "Epoch 478/500\n",
      "16253/16253 [==============================] - 41s 3ms/step - loss: 0.0322 - val_loss: 0.0340\n",
      "Epoch 479/500\n",
      "16253/16253 [==============================] - 41s 3ms/step - loss: 0.0322 - val_loss: 0.0338\n",
      "Epoch 480/500\n",
      "16253/16253 [==============================] - 42s 3ms/step - loss: 0.0322 - val_loss: 0.0340\n",
      "Epoch 481/500\n",
      "16253/16253 [==============================] - 42s 3ms/step - loss: 0.0322 - val_loss: 0.0337\n",
      "Epoch 482/500\n",
      "16253/16253 [==============================] - 41s 3ms/step - loss: 0.0322 - val_loss: 0.0338\n",
      "Epoch 483/500\n",
      "16253/16253 [==============================] - 41s 3ms/step - loss: 0.0322 - val_loss: 0.0345\n",
      "Epoch 484/500\n",
      "16253/16253 [==============================] - 42s 3ms/step - loss: 0.0322 - val_loss: 0.0345\n",
      "Epoch 485/500\n",
      "16253/16253 [==============================] - 43s 3ms/step - loss: 0.0322 - val_loss: 0.0340\n",
      "Epoch 489/500\n",
      "16253/16253 [==============================] - 42s 3ms/step - loss: 0.0322 - val_loss: 0.0344\n",
      "Epoch 490/500\n",
      "16253/16253 [==============================] - 43s 3ms/step - loss: 0.0322 - val_loss: 0.0337\n",
      "Epoch 491/500\n",
      "16253/16253 [==============================] - 41s 3ms/step - loss: 0.0322 - val_loss: 0.0337\n",
      "Epoch 492/500\n",
      "16253/16253 [==============================] - 41s 3ms/step - loss: 0.0322 - val_loss: 0.0339\n",
      "Epoch 493/500\n",
      "  589/16253 [>.............................] - ETA: 29s - loss: 0.0322"
     ]
    },
    {
     "name": "stderr",
     "output_type": "stream",
     "text": [
      "IOPub message rate exceeded.\n",
      "The notebook server will temporarily stop sending output\n",
      "to the client in order to avoid crashing it.\n",
      "To change this limit, set the config variable\n",
      "`--NotebookApp.iopub_msg_rate_limit`.\n",
      "\n",
      "Current values:\n",
      "NotebookApp.iopub_msg_rate_limit=1000.0 (msgs/sec)\n",
      "NotebookApp.rate_limit_window=3.0 (secs)\n",
      "\n"
     ]
    }
   ],
   "source": [
    "history = autoencoder.fit(normal_train_data, normal_train_data, \n",
    "          epochs=500, \n",
    "          batch_size=512,\n",
    "          validation_data=(test_data, test_data),\n",
    "          shuffle=True)"
   ]
  },
  {
   "cell_type": "code",
   "execution_count": 34,
   "metadata": {},
   "outputs": [
    {
     "data": {
      "text/plain": [
       "<matplotlib.legend.Legend at 0x7f6f882e5a50>"
      ]
     },
     "execution_count": 34,
     "metadata": {},
     "output_type": "execute_result"
    },
    {
     "data": {
      "image/png": "[encoded data removed]",
      "text/plain": [
       "<Figure size 432x288 with 1 Axes>"
      ]
     },
     "metadata": {
      "needs_background": "light"
     },
     "output_type": "display_data"
    }
   ],
   "source": [
    "plt.plot(history.history['loss'], label=\"Training Loss\")\n",
    "plt.plot(history.history['val_loss'], label='Validation Loss')\n",
    "plt.legend()"
   ]
  },
  {
   "cell_type": "markdown",
   "metadata": {},
   "source": [
    "## Interpretación de resultados\n",
    "\n",
    "Posteriormente se podrá clasificar un flujo como anómalo si el error de reconstrucción es mayor que una desviación estándar de los ejemplos de entrenamiento normales. En primer lugar, vamos a trazar un flujo normal del conjunto de entrenamiento, la reconstrucción después de ser codificado y decodificado por el *autoencoder*, y el error de reconstrucción."
   ]
  },
  {
   "cell_type": "code",
   "execution_count": 35,
   "metadata": {},
   "outputs": [
    {
     "data": {
      "image/png": "[encoded data removed]",
      "text/plain": [
       "<Figure size 432x288 with 1 Axes>"
      ]
     },
     "metadata": {
      "needs_background": "light"
     },
     "output_type": "display_data"
    }
   ],
   "source": [
    "encoded_flows = autoencoder.encoder(normal_test_data).numpy()\n",
    "decoded_flows = autoencoder.decoder(encoded_flows).numpy()\n",
    "\n",
    "plt.plot(normal_test_data[0], 'b')\n",
    "plt.plot(decoded_flows[0], 'r')\n",
    "plt.fill_between(np.arange(X_train.shape[1]), decoded_flows[0], normal_test_data[0], color='lightcoral')\n",
    "plt.legend(labels=[\"Input\", \"Reconstruction\", \"Error\"])\n",
    "plt.show()"
   ]
  },
  {
   "cell_type": "markdown",
   "metadata": {},
   "source": [
    "Ahora trazamos un gráfico similar, esta vez para un ejemplo de un flujo anómalo."
   ]
  },
  {
   "cell_type": "code",
   "execution_count": 36,
   "metadata": {},
   "outputs": [
    {
     "data": {
      "image/png": "[encoded data removed]",
      "text/plain": [
       "<Figure size 432x288 with 1 Axes>"
      ]
     },
     "metadata": {
      "needs_background": "light"
     },
     "output_type": "display_data"
    }
   ],
   "source": [
    "anomalous_test_data = X_test[np.where(test_labels > 0)]\n",
    "encoded_flows = autoencoder.encoder(anomalous_test_data).numpy()\n",
    "decoded_flows = autoencoder.decoder(encoded_flows).numpy()\n",
    "\n",
    "plt.plot(anomalous_test_data[0], 'b')\n",
    "plt.plot(decoded_flows[0], 'r')\n",
    "plt.fill_between(np.arange(X_train.shape[1]), decoded_flows[0], anomalous_test_data[0], color='lightcoral')\n",
    "plt.legend(labels=[\"Input\", \"Reconstruction\", \"Error\"])\n",
    "plt.show()"
   ]
  },
  {
   "cell_type": "markdown",
   "metadata": {},
   "source": [
    "## Detección de anomalías\n",
    "\n",
    "Las anomalías son detectadas calculando si la pérdida de reconstrucción es mayor que un umbral fijo. Se calculará el error medio de los ejemplos normales del conjunto de entrenamiento, y después se clasificarán los futuros ejemplos como anómalos si el error de reconstrucción es superior a una desviación estándar del conjunto de entrenamiento."
   ]
  },
  {
   "cell_type": "code",
   "execution_count": 37,
   "metadata": {},
   "outputs": [
    {
     "name": "stdout",
     "output_type": "stream",
     "text": [
      "111484/111484 [==============================] - 113s 1ms/step\n"
     ]
    },
    {
     "data": {
      "image/png": "[encoded data removed]",
      "text/plain": [
       "<Figure size 432x288 with 1 Axes>"
      ]
     },
     "metadata": {
      "needs_background": "light"
     },
     "output_type": "display_data"
    }
   ],
   "source": [
    "reconstructions = autoencoder.predict(normal_test_data)\n",
    "train_loss = tf.keras.losses.mae(reconstructions, normal_test_data)\n",
    "\n",
    "plt.hist(train_loss[None,:], bins=50)\n",
    "plt.xlabel(\"Normal flows loss\")\n",
    "plt.ylabel(\"Number of examples\")\n",
    "plt.show()"
   ]
  },
  {
   "cell_type": "code",
   "execution_count": 38,
   "metadata": {},
   "outputs": [],
   "source": [
    "th = 0.018"
   ]
  },
  {
   "cell_type": "code",
   "execution_count": 39,
   "metadata": {},
   "outputs": [
    {
     "name": "stdout",
     "output_type": "stream",
     "text": [
      "Threshold: 0.08092648195718755\n"
     ]
    }
   ],
   "source": [
    "threshold = np.mean(train_loss) + np.std(train_loss)\n",
    "print(\"Threshold: \" + str(threshold))"
   ]
  },
  {
   "cell_type": "code",
   "execution_count": 40,
   "metadata": {},
   "outputs": [
    {
     "name": "stdout",
     "output_type": "stream",
     "text": [
      "5939/5939 [==============================] - 6s 1000us/step\n"
     ]
    },
    {
     "data": {
      "image/png": "[encoded data removed]",
      "text/plain": [
       "<Figure size 432x288 with 1 Axes>"
      ]
     },
     "metadata": {
      "needs_background": "light"
     },
     "output_type": "display_data"
    },
    {
     "name": "stdout",
     "output_type": "stream",
     "text": [
      "Anomalies detected: 99.79636616205465 %.\n"
     ]
    }
   ],
   "source": [
    "reconstructions = autoencoder.predict(X_test[np.where(test_labels == 1)])\n",
    "test_loss = tf.keras.losses.mae(reconstructions, X_test[np.where(test_labels == 1)[0]])\n",
    "\n",
    "plt.hist(test_loss[None, :], bins=50)\n",
    "plt.xlabel(\"DoS flows loss\")\n",
    "plt.ylabel(\"No of examples\")\n",
    "plt.show()\n",
    "\n",
    "print(\"Anomalies detected: \" + str((len(np.where(test_loss.numpy() > th)[0]) / len(test_loss.numpy())) * 100), \"%.\")"
   ]
  },
  {
   "cell_type": "code",
   "execution_count": 41,
   "metadata": {},
   "outputs": [
    {
     "name": "stdout",
     "output_type": "stream",
     "text": [
      "11839/11839 [==============================] - 12s 1ms/step\n"
     ]
    },
    {
     "data": {
      "image/png": "[encoded data removed]",
      "text/plain": [
       "<Figure size 432x288 with 1 Axes>"
      ]
     },
     "metadata": {
      "needs_background": "light"
     },
     "output_type": "display_data"
    },
    {
     "name": "stdout",
     "output_type": "stream",
     "text": [
      "Anomalies detected: 54.2174049622119 %.\n"
     ]
    }
   ],
   "source": [
    "reconstructions = autoencoder.predict(X_test[np.where(test_labels == 2)])\n",
    "test_loss = tf.keras.losses.mae(reconstructions, X_test[np.where(test_labels == 2)])\n",
    "\n",
    "plt.hist(test_loss[None, :], bins=50)\n",
    "plt.xlabel(\"DDoS flows loss\")\n",
    "plt.ylabel(\"No of examples\")\n",
    "plt.show()\n",
    "\n",
    "print(\"Anomalies detected: \" + str((len(np.where(test_loss.numpy() > th)[0]) / len(test_loss.numpy())) * 100), \"%.\")"
   ]
  },
  {
   "cell_type": "code",
   "execution_count": 42,
   "metadata": {},
   "outputs": [
    {
     "name": "stdout",
     "output_type": "stream",
     "text": [
      "2677/2677 [==============================] - 3s 999us/step\n"
     ]
    },
    {
     "data": {
      "image/png": "[encoded data removed]",
      "text/plain": [
       "<Figure size 432x288 with 1 Axes>"
      ]
     },
     "metadata": {
      "needs_background": "light"
     },
     "output_type": "display_data"
    },
    {
     "name": "stdout",
     "output_type": "stream",
     "text": [
      "Anomalies detected: 49.534107096985124 %.\n"
     ]
    }
   ],
   "source": [
    "reconstructions = autoencoder.predict(X_test[np.where(test_labels == 3)])\n",
    "test_loss = tf.keras.losses.mae(reconstructions, X_test[np.where(test_labels == 3)])\n",
    "\n",
    "plt.hist(test_loss[None, :], bins=50)\n",
    "plt.xlabel(\"Botnet flows loss\")\n",
    "plt.ylabel(\"No of examples\")\n",
    "plt.show()\n",
    "\n",
    "print(\"Anomalies detected: \" + str((len(np.where(test_loss.numpy() > th)[0]) / len(test_loss.numpy())) * 100), \"%.\")"
   ]
  },
  {
   "cell_type": "code",
   "execution_count": 43,
   "metadata": {},
   "outputs": [
    {
     "name": "stdout",
     "output_type": "stream",
     "text": [
      "3569/3569 [==============================] - 4s 975us/step\n"
     ]
    },
    {
     "data": {
      "image/png": "[encoded data removed]",
      "text/plain": [
       "<Figure size 432x288 with 1 Axes>"
      ]
     },
     "metadata": {
      "needs_background": "light"
     },
     "output_type": "display_data"
    },
    {
     "name": "stdout",
     "output_type": "stream",
     "text": [
      "Anomalies detected: 100.0 %.\n"
     ]
    }
   ],
   "source": [
    "reconstructions = autoencoder.predict(X_test[np.where(test_labels == 4)])\n",
    "test_loss = tf.keras.losses.mae(reconstructions, X_test[np.where(test_labels == 4)])\n",
    "\n",
    "plt.hist(test_loss[None, :], bins=50)\n",
    "plt.xlabel(\"Brute Force flows loss\")\n",
    "plt.ylabel(\"No of examples\")\n",
    "plt.show()\n",
    "\n",
    "print(\"Anomalies detected: \" + str((len(np.where(test_loss.numpy() > th)[0]) / len(test_loss.numpy())) * 100), \"%.\")"
   ]
  },
  {
   "cell_type": "code",
   "execution_count": 44,
   "metadata": {},
   "outputs": [
    {
     "name": "stdout",
     "output_type": "stream",
     "text": [
      "1334/1334 [==============================] - 1s 1ms/step\n"
     ]
    },
    {
     "data": {
      "image/png": "[encoded data removed]",
      "text/plain": [
       "<Figure size 432x288 with 1 Axes>"
      ]
     },
     "metadata": {
      "needs_background": "light"
     },
     "output_type": "display_data"
    },
    {
     "name": "stdout",
     "output_type": "stream",
     "text": [
      "Anomalies detected: 27.614160867833466 %.\n"
     ]
    }
   ],
   "source": [
    "reconstructions = autoencoder.predict(X_test[np.where(test_labels == 5)])\n",
    "test_loss = tf.keras.losses.mae(reconstructions, X_test[np.where(test_labels == 5)])\n",
    "\n",
    "plt.hist(test_loss[None, :], bins=50)\n",
    "plt.xlabel(\"Infilteration flows loss\")\n",
    "plt.ylabel(\"No of examples\")\n",
    "plt.show()\n",
    "\n",
    "print(\"Anomalies detected: \" + str((len(np.where(test_loss.numpy() > th)[0]) / len(test_loss.numpy())) * 100), \"%.\")"
   ]
  },
  {
   "cell_type": "code",
   "execution_count": 45,
   "metadata": {},
   "outputs": [
    {
     "name": "stdout",
     "output_type": "stream",
     "text": [
      "9/9 [==============================] - 0s 960us/step\n"
     ]
    },
    {
     "data": {
      "image/png": "[encoded data removed]",
      "text/plain": [
       "<Figure size 432x288 with 1 Axes>"
      ]
     },
     "metadata": {
      "needs_background": "light"
     },
     "output_type": "display_data"
    },
    {
     "name": "stdout",
     "output_type": "stream",
     "text": [
      "Anomalies detected: 61.85185185185185 %.\n"
     ]
    }
   ],
   "source": [
    "reconstructions = autoencoder.predict(X_test[np.where(test_labels == 6)])\n",
    "test_loss = tf.keras.losses.mae(reconstructions, X_test[np.where(test_labels == 6)])\n",
    "\n",
    "plt.hist(test_loss[None, :], bins=50)\n",
    "plt.xlabel(\"Web flows loss\")\n",
    "plt.ylabel(\"No of examples\")\n",
    "plt.show()\n",
    "\n",
    "print(\"Anomalies detected: \" + str((len(np.where(test_loss.numpy() > th)[0]) / len(test_loss.numpy())) * 100), \"%.\")"
   ]
  },
  {
   "cell_type": "code",
   "execution_count": 46,
   "metadata": {},
   "outputs": [],
   "source": [
    "import itertools\n",
    "def plot_confusion_matrix(cm, title, classes=['normal', 'abnormal'], save=False, save_as='MyFigure.png', cmap=plt.cm.Blues):\n",
    "    cm = cm.astype('float') / cm.sum(axis=1)[:, np.newaxis]\n",
    "    plt.imshow(cm, interpolation='nearest', cmap=cmap)\n",
    "    plt.title(title)\n",
    "    plt.colorbar()\n",
    "    tick_marks = np.arange(len(classes))\n",
    "    plt.xticks(tick_marks, classes, rotation=90)\n",
    "    plt.yticks(tick_marks, classes)\n",
    "    \n",
    "    fmt = '.1%'\n",
    "    thresh = cm.max() / 2.\n",
    "    for i, j in itertools.product(range(cm.shape[0]), range(cm.shape[1])):\n",
    "        plt.text(j, i, format(cm[i, j], fmt), horizontalalignment='center', color='white' if cm[i,j] > thresh else 'black')\n",
    "    \n",
    "    plt.tight_layout()\n",
    "    plt.ylabel('True label')\n",
    "    plt.xlabel('Predicted label')\n",
    "    \n",
    "    if save:\n",
    "        plt.savefig(save_as, dpi=100)"
   ]
  },
  {
   "cell_type": "markdown",
   "metadata": {},
   "source": [
    "Deberemos elegir el valor de *threshold* que mejor creemos que separa las anomalías."
   ]
  },
  {
   "cell_type": "code",
   "execution_count": 48,
   "metadata": {},
   "outputs": [],
   "source": [
    "from sklearn.metrics import classification_report\n",
    "from sklearn.metrics import confusion_matrix\n",
    "from sklearn.metrics import roc_auc_score\n",
    "from sklearn.metrics import recall_score\n",
    "from sklearn.metrics import make_scorer\n",
    "from sklearn.metrics import accuracy_score"
   ]
  },
  {
   "cell_type": "code",
   "execution_count": 49,
   "metadata": {},
   "outputs": [
    {
     "name": "stdout",
     "output_type": "stream",
     "text": [
      "              precision    recall  f1-score   support\n",
      "\n",
      "           0       0.91      0.69      0.78   3567467\n",
      "           1       0.33      0.69      0.45    811664\n",
      "\n",
      "    accuracy                           0.69   4379131\n",
      "   macro avg       0.62      0.69      0.62   4379131\n",
      "weighted avg       0.80      0.69      0.72   4379131\n",
      "\n",
      "AUC: 69.0%\n"
     ]
    },
    {
     "data": {
      "image/png": "[encoded data removed]",
      "text/plain": [
       "<Figure size 432x288 with 2 Axes>"
      ]
     },
     "metadata": {
      "needs_background": "light"
     },
     "output_type": "display_data"
    }
   ],
   "source": [
    "labels = np.where(y_test > 0, 1, y_test)\n",
    "print(classification_report(labels, preds))\n",
    "print('AUC:','{:.1%}'.format(roc_auc_score(labels, preds)))\n",
    "cm = confusion_matrix(labels, preds)\n",
    "plot_confusion_matrix(cm, title='Autoencoder Confusion Matrix')"
   ]
  }
 ],
 "metadata": {
  "kernelspec": {
   "display_name": "Python 3",
   "language": "python",
   "name": "python3"
  },
  "language_info": {
   "codemirror_mode": {
    "name": "ipython",
    "version": 3
   },
   "file_extension": ".py",
   "mimetype": "text/x-python",
   "name": "python",
   "nbconvert_exporter": "python",
   "pygments_lexer": "ipython3",
   "version": "3.7.6"
  }
 },
 "nbformat": 4,
 "nbformat_minor": 4
}
