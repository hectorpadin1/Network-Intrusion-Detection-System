{
 "cells": [
  {
   "cell_type": "markdown",
   "metadata": {},
   "source": [
    "# *Random Forest*\n",
    "\n",
    "En este *Notebook* se evalua el modelo hiperparametrizado de RF.\n",
    "\n",
    "## Librerías necesarias"
   ]
  },
  {
   "cell_type": "code",
   "execution_count": 1,
   "metadata": {},
   "outputs": [],
   "source": [
    "import gc\n",
    "from os import getcwd\n",
    "import matplotlib.pyplot as plt\n",
    "import math\n",
    "import numpy as np\n",
    "import pandas as pd\n",
    "import gc\n",
    "import seaborn as sns\n",
    "from joblib import load\n",
    "\n",
    "from sklearn.metrics import classification_report\n",
    "from sklearn.metrics import confusion_matrix\n",
    "from sklearn.metrics import roc_auc_score\n",
    "from sklearn.metrics import recall_score\n",
    "from sklearn.metrics import make_scorer\n",
    "from sklearn.metrics import accuracy_score\n",
    "from sklearn.model_selection import cross_val_score\n",
    "from sklearn.model_selection import StratifiedKFold\n",
    "\n",
    "pd.set_option(\"display.max_columns\", 80)"
   ]
  },
  {
   "cell_type": "code",
   "execution_count": 5,
   "metadata": {},
   "outputs": [],
   "source": [
    "import itertools\n",
    "def plot_confusion_matrix(cm, title, classes=['normal', 'abnormal'], save=False, save_as='MyFigure.png', cmap=plt.cm.Blues):\n",
    "    cm = cm.astype('float') / cm.sum(axis=1)[:, np.newaxis]\n",
    "    plt.imshow(cm, interpolation='nearest', cmap=cmap)\n",
    "    plt.title(title)\n",
    "    plt.colorbar()\n",
    "    tick_marks = np.arange(len(classes))\n",
    "    plt.xticks(tick_marks, classes, rotation=90)\n",
    "    plt.yticks(tick_marks, classes)\n",
    "    \n",
    "    fmt = '.1%'\n",
    "    thresh = cm.max() / 2.\n",
    "    for i, j in itertools.product(range(cm.shape[0]), range(cm.shape[1])):\n",
    "        plt.text(j, i, format(cm[i, j], fmt), horizontalalignment='center', color='white' if cm[i,j] > thresh else 'black')\n",
    "    \n",
    "    plt.tight_layout()\n",
    "    plt.ylabel('True label')\n",
    "    plt.xlabel('Predicted label')\n",
    "    \n",
    "    if save:\n",
    "        plt.savefig(save_as, dpi=100)"
   ]
  },
  {
   "cell_type": "markdown",
   "metadata": {},
   "source": [
    "### Carga del modelo"
   ]
  },
  {
   "cell_type": "code",
   "execution_count": 2,
   "metadata": {},
   "outputs": [],
   "source": [
    "clf = load('/home/jovyan/My-Notebooks/Signature Detection/rf-hyper/RF.joblib')"
   ]
  },
  {
   "cell_type": "markdown",
   "metadata": {},
   "source": [
    "## Resultados"
   ]
  },
  {
   "cell_type": "code",
   "execution_count": 3,
   "metadata": {},
   "outputs": [],
   "source": [
    "df = pd.read_csv('../Data Preprocess/test-SD.csv', sep=',', low_memory=False)\n",
    "y_test = df.pop('Label')\n",
    "X_test = df.values"
   ]
  },
  {
   "cell_type": "code",
   "execution_count": 6,
   "metadata": {},
   "outputs": [
    {
     "name": "stdout",
     "output_type": "stream",
     "text": [
      "CPU times: user 2min 10s, sys: 10.9 s, total: 2min 21s\n",
      "Wall time: 2min 21s\n"
     ]
    }
   ],
   "source": [
    "%%time\n",
    "predictions = clf.predict(X_test)"
   ]
  },
  {
   "cell_type": "code",
   "execution_count": 7,
   "metadata": {},
   "outputs": [
    {
     "name": "stdout",
     "output_type": "stream",
     "text": [
      "              precision    recall  f1-score   support\n",
      "\n",
      "           0    0.99446   0.88364   0.93578   3567467\n",
      "           1    0.95271   0.99613   0.97394    190047\n",
      "           2    0.99996   0.99999   0.99997    378823\n",
      "           3    0.99558   0.99988   0.99773     85642\n",
      "           4    0.99290   0.91776   0.95385    114201\n",
      "           5    0.05726   0.58895   0.10437     42681\n",
      "           6    0.24029   0.98519   0.38635       270\n",
      "\n",
      "    accuracy                        0.89888   4379131\n",
      "   macro avg    0.74760   0.91022   0.76457   4379131\n",
      "weighted avg    0.98393   0.89888   0.93654   4379131\n",
      "\n"
     ]
    }
   ],
   "source": [
    "print(classification_report(y_test, predictions, digits=5))"
   ]
  },
  {
   "cell_type": "code",
   "execution_count": 8,
   "metadata": {},
   "outputs": [
    {
     "data": {
      "image/png": "[encoded data removed]",
      "text/plain": [
       "<Figure size 432x288 with 2 Axes>"
      ]
     },
     "metadata": {
      "needs_background": "light"
     },
     "output_type": "display_data"
    }
   ],
   "source": [
    "cm = confusion_matrix(y_test, predictions)\n",
    "plot_confusion_matrix(cm, title='RF Confusion Matrix', classes=['0', '1', '2', '3', '4', '5', '6'])"
   ]
  },
  {
   "cell_type": "code",
   "execution_count": 9,
   "metadata": {},
   "outputs": [
    {
     "name": "stdout",
     "output_type": "stream",
     "text": [
      "Precision on DoS attacks: 99.61325356359217%.\n"
     ]
    }
   ],
   "source": [
    "dos_data = X_test[np.where(y_test == 1)]\n",
    "preds = clf.predict(dos_data)\n",
    "\n",
    "print(\"Precision on DoS attacks: \" + str(len(np.where(preds == 1)[0]) / len(dos_data) * 100) + \"%.\")"
   ]
  },
  {
   "cell_type": "code",
   "execution_count": 10,
   "metadata": {},
   "outputs": [
    {
     "name": "stdout",
     "output_type": "stream",
     "text": [
      "Precision on DDoS attacks: 99.99868012237906%.\n"
     ]
    }
   ],
   "source": [
    "ddos_data = X_test[np.where(y_test == 2)]\n",
    "preds = clf.predict(ddos_data)\n",
    "\n",
    "print(\"Precision on DDoS attacks: \" + str(len(np.where(preds == 2)[0]) / len(ddos_data) * 100) + \"%.\")"
   ]
  },
  {
   "cell_type": "code",
   "execution_count": 11,
   "metadata": {},
   "outputs": [
    {
     "name": "stdout",
     "output_type": "stream",
     "text": [
      "Precision on Botnet attacks: 99.98832348613998%.\n"
     ]
    }
   ],
   "source": [
    "botnet_data = X_test[np.where(y_test == 3)]\n",
    "preds = clf.predict(botnet_data)\n",
    "\n",
    "print(\"Precision on Botnet attacks: \" + str(len(np.where(preds == 3)[0]) / len(botnet_data) * 100) + \"%.\")"
   ]
  },
  {
   "cell_type": "code",
   "execution_count": 12,
   "metadata": {},
   "outputs": [
    {
     "name": "stdout",
     "output_type": "stream",
     "text": [
      "Precision on Bruteforce attacks: 91.77590388875754%.\n"
     ]
    }
   ],
   "source": [
    "bruteforce_data = X_test[np.where(y_test == 4)]\n",
    "preds = clf.predict(bruteforce_data)\n",
    "\n",
    "print(\"Precision on Bruteforce attacks: \" + str(len(np.where(preds == 4)[0]) / len(bruteforce_data) * 100) + \"%.\")"
   ]
  },
  {
   "cell_type": "code",
   "execution_count": 13,
   "metadata": {},
   "outputs": [
    {
     "name": "stdout",
     "output_type": "stream",
     "text": [
      "Precision on Infiltration attacks: 58.89505869122091%.\n"
     ]
    }
   ],
   "source": [
    "infiltration_data = X_test[np.where(y_test == 5)]\n",
    "preds = clf.predict(infiltration_data)\n",
    "\n",
    "print(\"Precision on Infiltration attacks: \" + str(len(np.where(preds == 5)[0]) / len(infiltration_data) * 100) + \"%.\")"
   ]
  },
  {
   "cell_type": "code",
   "execution_count": 14,
   "metadata": {},
   "outputs": [
    {
     "name": "stdout",
     "output_type": "stream",
     "text": [
      "Precision on Web attacks: 98.51851851851852%.\n"
     ]
    }
   ],
   "source": [
    "web_data = X_test[np.where(y_test == 6)]\n",
    "preds = clf.predict(web_data)\n",
    "\n",
    "print(\"Precision on Web attacks: \" + str(len(np.where(preds == 6)[0]) / len(web_data) * 100) + \"%.\")"
   ]
  }
 ],
 "metadata": {
  "kernelspec": {
   "display_name": "Python 3",
   "language": "python",
   "name": "python3"
  },
  "language_info": {
   "codemirror_mode": {
    "name": "ipython",
    "version": 3
   },
   "file_extension": ".py",
   "mimetype": "text/x-python",
   "name": "python",
   "nbconvert_exporter": "python",
   "pygments_lexer": "ipython3",
   "version": "3.7.6"
  }
 },
 "nbformat": 4,
 "nbformat_minor": 4
}
