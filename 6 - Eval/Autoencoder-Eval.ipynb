{
 "cells": [
  {
   "cell_type": "markdown",
   "metadata": {},
   "source": [
    "# AE CIC-IDS-2017\n",
    "\n",
    "La última fase de la evaluación conlleva la evaluación de los modelos en dominios similares. Para ello, se utilizó el CIC-IDS-2017, el conjunto de datos predecesor del utilizado en  este proyecto. A continuación se muestran las\n",
    "métricas y el porcentaje de ataques detectados para la técnica de AE.\n",
    "\n",
    "## Librerías necesarias"
   ]
  },
  {
   "cell_type": "code",
   "execution_count": 1,
   "metadata": {},
   "outputs": [],
   "source": [
    "import gc\n",
    "from os import getcwd\n",
    "import matplotlib.pyplot as plt\n",
    "import math\n",
    "import numpy as np\n",
    "import pandas as pd\n",
    "import gc\n",
    "import tensorflow as tf\n",
    "import seaborn as sns\n",
    "\n",
    "from sklearn.ensemble import IsolationForest\n",
    "from sklearn.preprocessing import MinMaxScaler\n",
    "from imblearn.under_sampling import RandomUnderSampler\n",
    "from sklearn.metrics import accuracy_score, precision_score, recall_score\n",
    "from sklearn.model_selection import train_test_split\n",
    "from tensorflow.keras import layers, losses\n",
    "from tensorflow.keras.models import Model\n",
    "\n",
    "pd.set_option(\"display.max_columns\", 80)"
   ]
  },
  {
   "cell_type": "markdown",
   "metadata": {},
   "source": [
    "## Carga del conjunto de datos"
   ]
  },
  {
   "cell_type": "code",
   "execution_count": 2,
   "metadata": {},
   "outputs": [
    {
     "data": {
      "text/html": [
       "<div>\n",
       "<style scoped>\n",
       "    .dataframe tbody tr th:only-of-type {\n",
       "        vertical-align: middle;\n",
       "    }\n",
       "\n",
       "    .dataframe tbody tr th {\n",
       "        vertical-align: top;\n",
       "    }\n",
       "\n",
       "    .dataframe thead th {\n",
       "        text-align: right;\n",
       "    }\n",
       "</style>\n",
       "<table border=\"1\" class=\"dataframe\">\n",
       "  <thead>\n",
       "    <tr style=\"text-align: right;\">\n",
       "      <th></th>\n",
       "      <th>Destination Port</th>\n",
       "      <th>xhr</th>\n",
       "      <th>Fwd Packet Length Max</th>\n",
       "      <th>Fwd Packet Length Min</th>\n",
       "      <th>Fwd Packet Length Mean</th>\n",
       "      <th>Bwd Packet Length Min</th>\n",
       "      <th>Bwd Packet Length Mean</th>\n",
       "      <th>Bwd IAT Total</th>\n",
       "      <th>Bwd IAT Mean</th>\n",
       "      <th>Bwd IAT Max</th>\n",
       "      <th>Fwd PSH Flags</th>\n",
       "      <th>Fwd Packets/s</th>\n",
       "      <th>Bwd Packets/s</th>\n",
       "      <th>RST Flag Count</th>\n",
       "      <th>PSH Flag Count</th>\n",
       "      <th>ACK Flag Count</th>\n",
       "      <th>Init_Win_bytes_forward</th>\n",
       "      <th>Init_Win_bytes_backward</th>\n",
       "      <th>min_seg_size_forward</th>\n",
       "      <th>Idle Min</th>\n",
       "      <th>Protocol_6</th>\n",
       "      <th>Protocol_17</th>\n",
       "      <th>Label</th>\n",
       "    </tr>\n",
       "  </thead>\n",
       "  <tbody>\n",
       "    <tr>\n",
       "      <th>0</th>\n",
       "      <td>0.001343</td>\n",
       "      <td>0.0</td>\n",
       "      <td>0.008864</td>\n",
       "      <td>0.000000</td>\n",
       "      <td>0.010580</td>\n",
       "      <td>0.000000</td>\n",
       "      <td>0.015430</td>\n",
       "      <td>4.483333e-06</td>\n",
       "      <td>1.494444e-06</td>\n",
       "      <td>4.416667e-06</td>\n",
       "      <td>0.0</td>\n",
       "      <td>0.003646</td>\n",
       "      <td>3.125000e-03</td>\n",
       "      <td>0.0</td>\n",
       "      <td>1.0</td>\n",
       "      <td>0.0</td>\n",
       "      <td>0.125015</td>\n",
       "      <td>0.031342</td>\n",
       "      <td>1.0</td>\n",
       "      <td>0.0</td>\n",
       "      <td>1.0</td>\n",
       "      <td>0.0</td>\n",
       "      <td>0</td>\n",
       "    </tr>\n",
       "    <tr>\n",
       "      <th>1</th>\n",
       "      <td>0.001343</td>\n",
       "      <td>0.0</td>\n",
       "      <td>0.012087</td>\n",
       "      <td>0.000000</td>\n",
       "      <td>0.011222</td>\n",
       "      <td>0.000000</td>\n",
       "      <td>0.126886</td>\n",
       "      <td>6.383333e-06</td>\n",
       "      <td>2.127778e-06</td>\n",
       "      <td>6.316667e-06</td>\n",
       "      <td>0.0</td>\n",
       "      <td>0.003333</td>\n",
       "      <td>2.222222e-03</td>\n",
       "      <td>0.0</td>\n",
       "      <td>1.0</td>\n",
       "      <td>0.0</td>\n",
       "      <td>0.125015</td>\n",
       "      <td>0.031342</td>\n",
       "      <td>1.0</td>\n",
       "      <td>0.0</td>\n",
       "      <td>1.0</td>\n",
       "      <td>0.0</td>\n",
       "      <td>0</td>\n",
       "    </tr>\n",
       "    <tr>\n",
       "      <th>2</th>\n",
       "      <td>0.001343</td>\n",
       "      <td>0.0</td>\n",
       "      <td>0.055923</td>\n",
       "      <td>0.000000</td>\n",
       "      <td>0.066753</td>\n",
       "      <td>0.000000</td>\n",
       "      <td>0.121972</td>\n",
       "      <td>7.725000e-06</td>\n",
       "      <td>2.575000e-06</td>\n",
       "      <td>7.300000e-06</td>\n",
       "      <td>0.0</td>\n",
       "      <td>0.001936</td>\n",
       "      <td>1.659751e-03</td>\n",
       "      <td>0.0</td>\n",
       "      <td>1.0</td>\n",
       "      <td>0.0</td>\n",
       "      <td>0.125015</td>\n",
       "      <td>0.031342</td>\n",
       "      <td>1.0</td>\n",
       "      <td>0.0</td>\n",
       "      <td>1.0</td>\n",
       "      <td>0.0</td>\n",
       "      <td>0</td>\n",
       "    </tr>\n",
       "    <tr>\n",
       "      <th>3</th>\n",
       "      <td>0.001343</td>\n",
       "      <td>0.0</td>\n",
       "      <td>0.009106</td>\n",
       "      <td>0.000000</td>\n",
       "      <td>0.010869</td>\n",
       "      <td>0.000000</td>\n",
       "      <td>0.015947</td>\n",
       "      <td>3.850000e-06</td>\n",
       "      <td>1.283333e-06</td>\n",
       "      <td>3.433333e-06</td>\n",
       "      <td>0.0</td>\n",
       "      <td>0.004566</td>\n",
       "      <td>3.913894e-03</td>\n",
       "      <td>0.0</td>\n",
       "      <td>1.0</td>\n",
       "      <td>0.0</td>\n",
       "      <td>0.125015</td>\n",
       "      <td>0.031342</td>\n",
       "      <td>1.0</td>\n",
       "      <td>0.0</td>\n",
       "      <td>1.0</td>\n",
       "      <td>0.0</td>\n",
       "      <td>0</td>\n",
       "    </tr>\n",
       "    <tr>\n",
       "      <th>4</th>\n",
       "      <td>0.001343</td>\n",
       "      <td>0.0</td>\n",
       "      <td>0.012329</td>\n",
       "      <td>0.000000</td>\n",
       "      <td>0.011446</td>\n",
       "      <td>0.000000</td>\n",
       "      <td>0.126886</td>\n",
       "      <td>5.625000e-06</td>\n",
       "      <td>1.875000e-06</td>\n",
       "      <td>5.225000e-06</td>\n",
       "      <td>0.0</td>\n",
       "      <td>0.003881</td>\n",
       "      <td>2.587322e-03</td>\n",
       "      <td>0.0</td>\n",
       "      <td>1.0</td>\n",
       "      <td>0.0</td>\n",
       "      <td>0.125015</td>\n",
       "      <td>0.031342</td>\n",
       "      <td>1.0</td>\n",
       "      <td>0.0</td>\n",
       "      <td>1.0</td>\n",
       "      <td>0.0</td>\n",
       "      <td>0</td>\n",
       "    </tr>\n",
       "    <tr>\n",
       "      <th>...</th>\n",
       "      <td>...</td>\n",
       "      <td>...</td>\n",
       "      <td>...</td>\n",
       "      <td>...</td>\n",
       "      <td>...</td>\n",
       "      <td>...</td>\n",
       "      <td>...</td>\n",
       "      <td>...</td>\n",
       "      <td>...</td>\n",
       "      <td>...</td>\n",
       "      <td>...</td>\n",
       "      <td>...</td>\n",
       "      <td>...</td>\n",
       "      <td>...</td>\n",
       "      <td>...</td>\n",
       "      <td>...</td>\n",
       "      <td>...</td>\n",
       "      <td>...</td>\n",
       "      <td>...</td>\n",
       "      <td>...</td>\n",
       "      <td>...</td>\n",
       "      <td>...</td>\n",
       "      <td>...</td>\n",
       "    </tr>\n",
       "    <tr>\n",
       "      <th>2712394</th>\n",
       "      <td>0.000809</td>\n",
       "      <td>0.0</td>\n",
       "      <td>0.001128</td>\n",
       "      <td>0.012043</td>\n",
       "      <td>0.004713</td>\n",
       "      <td>0.026243</td>\n",
       "      <td>0.013102</td>\n",
       "      <td>2.500000e-08</td>\n",
       "      <td>2.500000e-08</td>\n",
       "      <td>2.500000e-08</td>\n",
       "      <td>0.0</td>\n",
       "      <td>0.000041</td>\n",
       "      <td>3.104144e-05</td>\n",
       "      <td>0.0</td>\n",
       "      <td>0.0</td>\n",
       "      <td>0.0</td>\n",
       "      <td>0.000000</td>\n",
       "      <td>0.000000</td>\n",
       "      <td>1.0</td>\n",
       "      <td>0.0</td>\n",
       "      <td>1.0</td>\n",
       "      <td>0.0</td>\n",
       "      <td>0</td>\n",
       "    </tr>\n",
       "    <tr>\n",
       "      <th>2712395</th>\n",
       "      <td>0.000809</td>\n",
       "      <td>0.0</td>\n",
       "      <td>0.001692</td>\n",
       "      <td>0.018065</td>\n",
       "      <td>0.007070</td>\n",
       "      <td>0.062500</td>\n",
       "      <td>0.031204</td>\n",
       "      <td>1.666667e-08</td>\n",
       "      <td>1.666667e-08</td>\n",
       "      <td>1.666667e-08</td>\n",
       "      <td>0.0</td>\n",
       "      <td>0.002058</td>\n",
       "      <td>3.086420e-03</td>\n",
       "      <td>0.0</td>\n",
       "      <td>0.0</td>\n",
       "      <td>0.0</td>\n",
       "      <td>0.000000</td>\n",
       "      <td>0.000000</td>\n",
       "      <td>1.0</td>\n",
       "      <td>0.0</td>\n",
       "      <td>1.0</td>\n",
       "      <td>0.0</td>\n",
       "      <td>0</td>\n",
       "    </tr>\n",
       "    <tr>\n",
       "      <th>2712396</th>\n",
       "      <td>0.885481</td>\n",
       "      <td>0.0</td>\n",
       "      <td>0.001249</td>\n",
       "      <td>0.000000</td>\n",
       "      <td>0.002609</td>\n",
       "      <td>0.002072</td>\n",
       "      <td>0.001034</td>\n",
       "      <td>0.000000e+00</td>\n",
       "      <td>0.000000e+00</td>\n",
       "      <td>0.000000e+00</td>\n",
       "      <td>1.0</td>\n",
       "      <td>0.008130</td>\n",
       "      <td>6.097561e-03</td>\n",
       "      <td>0.0</td>\n",
       "      <td>0.0</td>\n",
       "      <td>1.0</td>\n",
       "      <td>0.015366</td>\n",
       "      <td>0.000015</td>\n",
       "      <td>1.0</td>\n",
       "      <td>0.0</td>\n",
       "      <td>1.0</td>\n",
       "      <td>0.0</td>\n",
       "      <td>0</td>\n",
       "    </tr>\n",
       "    <tr>\n",
       "      <th>2712397</th>\n",
       "      <td>0.000809</td>\n",
       "      <td>0.0</td>\n",
       "      <td>0.001289</td>\n",
       "      <td>0.013763</td>\n",
       "      <td>0.005386</td>\n",
       "      <td>0.044199</td>\n",
       "      <td>0.022067</td>\n",
       "      <td>2.500000e-08</td>\n",
       "      <td>2.500000e-08</td>\n",
       "      <td>2.500000e-08</td>\n",
       "      <td>0.0</td>\n",
       "      <td>0.000002</td>\n",
       "      <td>9.536207e-07</td>\n",
       "      <td>0.0</td>\n",
       "      <td>0.0</td>\n",
       "      <td>0.0</td>\n",
       "      <td>0.000000</td>\n",
       "      <td>0.000000</td>\n",
       "      <td>1.0</td>\n",
       "      <td>0.0</td>\n",
       "      <td>1.0</td>\n",
       "      <td>0.0</td>\n",
       "      <td>0</td>\n",
       "    </tr>\n",
       "    <tr>\n",
       "      <th>2712398</th>\n",
       "      <td>0.000809</td>\n",
       "      <td>0.0</td>\n",
       "      <td>0.001894</td>\n",
       "      <td>0.020215</td>\n",
       "      <td>0.007911</td>\n",
       "      <td>0.039019</td>\n",
       "      <td>0.019481</td>\n",
       "      <td>4.000000e-07</td>\n",
       "      <td>4.000000e-07</td>\n",
       "      <td>4.000000e-07</td>\n",
       "      <td>0.0</td>\n",
       "      <td>0.000014</td>\n",
       "      <td>1.053308e-05</td>\n",
       "      <td>0.0</td>\n",
       "      <td>0.0</td>\n",
       "      <td>0.0</td>\n",
       "      <td>0.000000</td>\n",
       "      <td>0.000000</td>\n",
       "      <td>1.0</td>\n",
       "      <td>0.0</td>\n",
       "      <td>1.0</td>\n",
       "      <td>0.0</td>\n",
       "      <td>0</td>\n",
       "    </tr>\n",
       "  </tbody>\n",
       "</table>\n",
       "<p>2712399 rows × 23 columns</p>\n",
       "</div>"
      ],
      "text/plain": [
       "          Destination Port  xhr   Fwd Packet Length Max  \\\n",
       "0                 0.001343  0.0                0.008864   \n",
       "1                 0.001343  0.0                0.012087   \n",
       "2                 0.001343  0.0                0.055923   \n",
       "3                 0.001343  0.0                0.009106   \n",
       "4                 0.001343  0.0                0.012329   \n",
       "...                    ...  ...                     ...   \n",
       "2712394           0.000809  0.0                0.001128   \n",
       "2712395           0.000809  0.0                0.001692   \n",
       "2712396           0.885481  0.0                0.001249   \n",
       "2712397           0.000809  0.0                0.001289   \n",
       "2712398           0.000809  0.0                0.001894   \n",
       "\n",
       "          Fwd Packet Length Min   Fwd Packet Length Mean  \\\n",
       "0                      0.000000                 0.010580   \n",
       "1                      0.000000                 0.011222   \n",
       "2                      0.000000                 0.066753   \n",
       "3                      0.000000                 0.010869   \n",
       "4                      0.000000                 0.011446   \n",
       "...                         ...                      ...   \n",
       "2712394                0.012043                 0.004713   \n",
       "2712395                0.018065                 0.007070   \n",
       "2712396                0.000000                 0.002609   \n",
       "2712397                0.013763                 0.005386   \n",
       "2712398                0.020215                 0.007911   \n",
       "\n",
       "          Bwd Packet Length Min   Bwd Packet Length Mean  Bwd IAT Total  \\\n",
       "0                      0.000000                 0.015430   4.483333e-06   \n",
       "1                      0.000000                 0.126886   6.383333e-06   \n",
       "2                      0.000000                 0.121972   7.725000e-06   \n",
       "3                      0.000000                 0.015947   3.850000e-06   \n",
       "4                      0.000000                 0.126886   5.625000e-06   \n",
       "...                         ...                      ...            ...   \n",
       "2712394                0.026243                 0.013102   2.500000e-08   \n",
       "2712395                0.062500                 0.031204   1.666667e-08   \n",
       "2712396                0.002072                 0.001034   0.000000e+00   \n",
       "2712397                0.044199                 0.022067   2.500000e-08   \n",
       "2712398                0.039019                 0.019481   4.000000e-07   \n",
       "\n",
       "          Bwd IAT Mean   Bwd IAT Max  Fwd PSH Flags  Fwd Packets/s  \\\n",
       "0         1.494444e-06  4.416667e-06            0.0       0.003646   \n",
       "1         2.127778e-06  6.316667e-06            0.0       0.003333   \n",
       "2         2.575000e-06  7.300000e-06            0.0       0.001936   \n",
       "3         1.283333e-06  3.433333e-06            0.0       0.004566   \n",
       "4         1.875000e-06  5.225000e-06            0.0       0.003881   \n",
       "...                ...           ...            ...            ...   \n",
       "2712394   2.500000e-08  2.500000e-08            0.0       0.000041   \n",
       "2712395   1.666667e-08  1.666667e-08            0.0       0.002058   \n",
       "2712396   0.000000e+00  0.000000e+00            1.0       0.008130   \n",
       "2712397   2.500000e-08  2.500000e-08            0.0       0.000002   \n",
       "2712398   4.000000e-07  4.000000e-07            0.0       0.000014   \n",
       "\n",
       "          Bwd Packets/s   RST Flag Count   PSH Flag Count   ACK Flag Count  \\\n",
       "0          3.125000e-03              0.0              1.0              0.0   \n",
       "1          2.222222e-03              0.0              1.0              0.0   \n",
       "2          1.659751e-03              0.0              1.0              0.0   \n",
       "3          3.913894e-03              0.0              1.0              0.0   \n",
       "4          2.587322e-03              0.0              1.0              0.0   \n",
       "...                 ...              ...              ...              ...   \n",
       "2712394    3.104144e-05              0.0              0.0              0.0   \n",
       "2712395    3.086420e-03              0.0              0.0              0.0   \n",
       "2712396    6.097561e-03              0.0              0.0              1.0   \n",
       "2712397    9.536207e-07              0.0              0.0              0.0   \n",
       "2712398    1.053308e-05              0.0              0.0              0.0   \n",
       "\n",
       "         Init_Win_bytes_forward   Init_Win_bytes_backward  \\\n",
       "0                      0.125015                  0.031342   \n",
       "1                      0.125015                  0.031342   \n",
       "2                      0.125015                  0.031342   \n",
       "3                      0.125015                  0.031342   \n",
       "4                      0.125015                  0.031342   \n",
       "...                         ...                       ...   \n",
       "2712394                0.000000                  0.000000   \n",
       "2712395                0.000000                  0.000000   \n",
       "2712396                0.015366                  0.000015   \n",
       "2712397                0.000000                  0.000000   \n",
       "2712398                0.000000                  0.000000   \n",
       "\n",
       "          min_seg_size_forward   Idle Min  Protocol_6  Protocol_17   Label  \n",
       "0                          1.0        0.0         1.0          0.0       0  \n",
       "1                          1.0        0.0         1.0          0.0       0  \n",
       "2                          1.0        0.0         1.0          0.0       0  \n",
       "3                          1.0        0.0         1.0          0.0       0  \n",
       "4                          1.0        0.0         1.0          0.0       0  \n",
       "...                        ...        ...         ...          ...     ...  \n",
       "2712394                    1.0        0.0         1.0          0.0       0  \n",
       "2712395                    1.0        0.0         1.0          0.0       0  \n",
       "2712396                    1.0        0.0         1.0          0.0       0  \n",
       "2712397                    1.0        0.0         1.0          0.0       0  \n",
       "2712398                    1.0        0.0         1.0          0.0       0  \n",
       "\n",
       "[2712399 rows x 23 columns]"
      ]
     },
     "execution_count": 2,
     "metadata": {},
     "output_type": "execute_result"
    }
   ],
   "source": [
    "df = pd.read_csv('/home/jovyan/CIC-IDS-2017/CIC-IDS-2017.csv', sep=',', low_memory=False)\n",
    "\n",
    "df"
   ]
  },
  {
   "cell_type": "code",
   "execution_count": 3,
   "metadata": {},
   "outputs": [
    {
     "data": {
      "text/plain": [
       "Text(0.5, 1.0, 'Distribución del tráfico')"
      ]
     },
     "execution_count": 3,
     "metadata": {},
     "output_type": "execute_result"
    },
    {
     "data": {
      "image/png": "[encoded data removed]",
      "text/plain": [
       "<Figure size 432x288 with 1 Axes>"
      ]
     },
     "metadata": {
      "needs_background": "light"
     },
     "output_type": "display_data"
    }
   ],
   "source": [
    "df[' Label'].value_counts().plot(kind='barh')\n",
    "plt.title('Distribución del tráfico')"
   ]
  },
  {
   "cell_type": "markdown",
   "metadata": {},
   "source": [
    "## Tratamiento del conjunto de datos"
   ]
  },
  {
   "cell_type": "markdown",
   "metadata": {},
   "source": [
    "Se eliminan atributos que son irrelevantes a priori."
   ]
  },
  {
   "cell_type": "code",
   "execution_count": 4,
   "metadata": {},
   "outputs": [
    {
     "data": {
      "text/plain": [
       "Text(0.5, 1.0, 'Correlación respecto a target')"
      ]
     },
     "execution_count": 4,
     "metadata": {},
     "output_type": "execute_result"
    },
    {
     "data": {
      "image/png": "[encoded data removed]",
      "text/plain": [
       "<Figure size 720x720 with 2 Axes>"
      ]
     },
     "metadata": {
      "needs_background": "light"
     },
     "output_type": "display_data"
    }
   ],
   "source": [
    "corr = df.corr()\n",
    "\n",
    "plt.figure(figsize=(10,10))\n",
    "#figure.tight_layout(pad=3.5, rect=[0, 0.03, 1, 0.95])\n",
    "sns.heatmap(corr[[' Label']], cmap='coolwarm', annot=True, vmin=-1).set_title('Correlación respecto a target', fontsize=20)"
   ]
  },
  {
   "cell_type": "code",
   "execution_count": 5,
   "metadata": {},
   "outputs": [],
   "source": [
    "df.drop(['xhr', 'Protocol_6', 'Protocol_17'], axis=1, inplace=True)"
   ]
  },
  {
   "cell_type": "code",
   "execution_count": 6,
   "metadata": {},
   "outputs": [],
   "source": [
    "kot = df.corr()\n",
    "drop_cols = []\n",
    "i = -1\n",
    "for corr in kot[' Label']:\n",
    "    i+=1\n",
    "    if abs(corr) < 0.05:\n",
    "        drop_cols.append(df.columns[i])"
   ]
  },
  {
   "cell_type": "code",
   "execution_count": 7,
   "metadata": {},
   "outputs": [
    {
     "name": "stdout",
     "output_type": "stream",
     "text": [
      "['Bwd IAT Total', ' Bwd IAT Mean', ' Bwd IAT Max', 'Fwd PSH Flags', 'Fwd Packets/s', ' RST Flag Count', ' ACK Flag Count', ' min_seg_size_forward']\n"
     ]
    },
    {
     "data": {
      "text/plain": [
       "8"
      ]
     },
     "execution_count": 7,
     "metadata": {},
     "output_type": "execute_result"
    }
   ],
   "source": [
    "print(drop_cols)\n",
    "len(drop_cols)"
   ]
  },
  {
   "cell_type": "code",
   "execution_count": 8,
   "metadata": {},
   "outputs": [],
   "source": [
    "df.drop(drop_cols, axis=1, inplace=True)"
   ]
  },
  {
   "cell_type": "code",
   "execution_count": 9,
   "metadata": {},
   "outputs": [
    {
     "data": {
      "text/plain": [
       "Text(0.5, 1.0, 'Correlación respecto a target')"
      ]
     },
     "execution_count": 9,
     "metadata": {},
     "output_type": "execute_result"
    },
    {
     "data": {
      "image/png": "[encoded data removed]",
      "text/plain": [
       "<Figure size 720x720 with 2 Axes>"
      ]
     },
     "metadata": {
      "needs_background": "light"
     },
     "output_type": "display_data"
    }
   ],
   "source": [
    "corr = df.corr()\n",
    "\n",
    "plt.figure(figsize=(10,10))\n",
    "#figure.tight_layout(pad=3.5, rect=[0, 0.03, 1, 0.95])\n",
    "sns.heatmap(corr[[' Label']], cmap='coolwarm', annot=True, vmin=-1).set_title('Correlación respecto a target', fontsize=20)"
   ]
  },
  {
   "cell_type": "code",
   "execution_count": 10,
   "metadata": {},
   "outputs": [],
   "source": [
    "#cols = [' Destination Port', ' Fwd Packet Length Min', ' Fwd Packet Length Mean', ' Bwd Packet Length Min', ' Bwd Packets/s', 'Init_Win_bytes_forward', ' Init_Win_bytes_backward', ' min_seg_size_forward', 'Protocol_6', 'Protocol_17', ' Label']\n",
    "#df = df[cols]"
   ]
  },
  {
   "cell_type": "markdown",
   "metadata": {},
   "source": [
    "## Partición de conjuntos normales y anómalos\n",
    "\n",
    "Se entrenará el autoencoder utilizando sólo los flujos normales, que en este conjunto de datos están etiquetados como 0. Deben separarse los flujos normales de los anómalos."
   ]
  },
  {
   "cell_type": "code",
   "execution_count": 11,
   "metadata": {},
   "outputs": [],
   "source": [
    "y = df.pop(' Label')\n",
    "X = df.values"
   ]
  },
  {
   "cell_type": "code",
   "execution_count": 12,
   "metadata": {},
   "outputs": [],
   "source": [
    "# Partición del conjunto de datos\n",
    "X_train, X_test, y_train, y_test = train_test_split(X, y, test_size=0.3, random_state=100)"
   ]
  },
  {
   "cell_type": "code",
   "execution_count": 13,
   "metadata": {},
   "outputs": [],
   "source": [
    "def count_values(array):\n",
    "    y = np.bincount(array)\n",
    "    ii = np.nonzero(y)[0]\n",
    "    return np.vstack((ii,y[ii])).T"
   ]
  },
  {
   "cell_type": "code",
   "execution_count": 14,
   "metadata": {},
   "outputs": [
    {
     "data": {
      "text/plain": [
       "array([[      0, 1509769],\n",
       "       [      1,  265869],\n",
       "       [      2,  110999],\n",
       "       [      3,    1391],\n",
       "       [      4,    9738],\n",
       "       [      5,      27],\n",
       "       [      6,     886]])"
      ]
     },
     "execution_count": 14,
     "metadata": {},
     "output_type": "execute_result"
    }
   ],
   "source": [
    "count_values(y_train)"
   ]
  },
  {
   "cell_type": "code",
   "execution_count": 15,
   "metadata": {},
   "outputs": [
    {
     "data": {
      "text/plain": [
       "array([[     0, 647015],\n",
       "       [     1, 113868],\n",
       "       [     2,  47805],\n",
       "       [     3,    565],\n",
       "       [     4,   4094],\n",
       "       [     5,      9],\n",
       "       [     6,    364]])"
      ]
     },
     "execution_count": 15,
     "metadata": {},
     "output_type": "execute_result"
    }
   ],
   "source": [
    "count_values(y_test)"
   ]
  },
  {
   "cell_type": "code",
   "execution_count": 16,
   "metadata": {},
   "outputs": [],
   "source": [
    "test_data = tf.cast(X_test, tf.float32)"
   ]
  },
  {
   "cell_type": "code",
   "execution_count": 17,
   "metadata": {},
   "outputs": [],
   "source": [
    "test_labels = tf.cast(y_test, tf.int16)\n",
    "train_labels = tf.cast(y_train, tf.int16)"
   ]
  },
  {
   "cell_type": "code",
   "execution_count": 18,
   "metadata": {},
   "outputs": [],
   "source": [
    "normal_test_data = X_test[np.where(test_labels == 0)]\n",
    "normal_train_data = X_train[np.where(train_labels == 0)]\n",
    "anomalous_train_data = X_train[np.where(train_labels != 0)]"
   ]
  },
  {
   "cell_type": "code",
   "execution_count": 19,
   "metadata": {},
   "outputs": [],
   "source": [
    "clfIF = IsolationForest(n_estimators=100, max_samples='auto', contamination=0.35, max_features=1.0, n_jobs=-1)\n",
    "clfIF.fit(pd.DataFrame(normal_train_data))\n",
    "pred_train = clfIF.predict(pd.DataFrame(normal_train_data))"
   ]
  },
  {
   "cell_type": "code",
   "execution_count": 20,
   "metadata": {},
   "outputs": [
    {
     "name": "stdout",
     "output_type": "stream",
     "text": [
      " 1    981354\n",
      "-1    528415\n",
      "Name: anomaly, dtype: int64\n"
     ]
    }
   ],
   "source": [
    "normal = pd.DataFrame(normal_train_data)\n",
    "normal['Label'] = y_train\n",
    "normal['anomaly'] = pred_train\n",
    "outliers = normal.loc[normal['anomaly']==-1]\n",
    "outlier_index = list(outliers.index)\n",
    "print(normal['anomaly'].value_counts())\n",
    "normal.drop(['anomaly'], axis=1, inplace=True)"
   ]
  },
  {
   "cell_type": "code",
   "execution_count": 21,
   "metadata": {},
   "outputs": [
    {
     "data": {
      "text/html": [
       "<div>\n",
       "<style scoped>\n",
       "    .dataframe tbody tr th:only-of-type {\n",
       "        vertical-align: middle;\n",
       "    }\n",
       "\n",
       "    .dataframe tbody tr th {\n",
       "        vertical-align: top;\n",
       "    }\n",
       "\n",
       "    .dataframe thead th {\n",
       "        text-align: right;\n",
       "    }\n",
       "</style>\n",
       "<table border=\"1\" class=\"dataframe\">\n",
       "  <thead>\n",
       "    <tr style=\"text-align: right;\">\n",
       "      <th></th>\n",
       "      <th>0</th>\n",
       "      <th>1</th>\n",
       "      <th>2</th>\n",
       "      <th>3</th>\n",
       "      <th>4</th>\n",
       "      <th>5</th>\n",
       "      <th>6</th>\n",
       "      <th>7</th>\n",
       "      <th>8</th>\n",
       "      <th>9</th>\n",
       "      <th>10</th>\n",
       "      <th>Label</th>\n",
       "    </tr>\n",
       "  </thead>\n",
       "  <tbody>\n",
       "    <tr>\n",
       "      <th>count</th>\n",
       "      <td>981354.000000</td>\n",
       "      <td>981354.000000</td>\n",
       "      <td>981354.000000</td>\n",
       "      <td>981354.000000</td>\n",
       "      <td>981354.000000</td>\n",
       "      <td>981354.000000</td>\n",
       "      <td>9.813540e+05</td>\n",
       "      <td>981354.000000</td>\n",
       "      <td>981354.000000</td>\n",
       "      <td>981354.000000</td>\n",
       "      <td>981354.000000</td>\n",
       "      <td>686808.000000</td>\n",
       "    </tr>\n",
       "    <tr>\n",
       "      <th>mean</th>\n",
       "      <td>0.118874</td>\n",
       "      <td>0.002372</td>\n",
       "      <td>0.010799</td>\n",
       "      <td>0.005434</td>\n",
       "      <td>0.020585</td>\n",
       "      <td>0.016023</td>\n",
       "      <td>1.905791e-03</td>\n",
       "      <td>0.099033</td>\n",
       "      <td>0.026789</td>\n",
       "      <td>0.001201</td>\n",
       "      <td>0.004607</td>\n",
       "      <td>0.341088</td>\n",
       "    </tr>\n",
       "    <tr>\n",
       "      <th>std</th>\n",
       "      <td>0.274684</td>\n",
       "      <td>0.004141</td>\n",
       "      <td>0.008842</td>\n",
       "      <td>0.003902</td>\n",
       "      <td>0.019851</td>\n",
       "      <td>0.021828</td>\n",
       "      <td>3.602596e-03</td>\n",
       "      <td>0.298706</td>\n",
       "      <td>0.083729</td>\n",
       "      <td>0.005334</td>\n",
       "      <td>0.021333</td>\n",
       "      <td>0.760994</td>\n",
       "    </tr>\n",
       "    <tr>\n",
       "      <th>min</th>\n",
       "      <td>0.000000</td>\n",
       "      <td>0.000000</td>\n",
       "      <td>0.000000</td>\n",
       "      <td>0.000000</td>\n",
       "      <td>0.000000</td>\n",
       "      <td>0.000000</td>\n",
       "      <td>0.000000e+00</td>\n",
       "      <td>0.000000</td>\n",
       "      <td>0.000000</td>\n",
       "      <td>0.000000</td>\n",
       "      <td>0.000000</td>\n",
       "      <td>0.000000</td>\n",
       "    </tr>\n",
       "    <tr>\n",
       "      <th>25%</th>\n",
       "      <td>0.000809</td>\n",
       "      <td>0.000242</td>\n",
       "      <td>0.000000</td>\n",
       "      <td>0.001010</td>\n",
       "      <td>0.000000</td>\n",
       "      <td>0.000000</td>\n",
       "      <td>4.829325e-07</td>\n",
       "      <td>0.000000</td>\n",
       "      <td>0.000000</td>\n",
       "      <td>0.000000</td>\n",
       "      <td>0.000000</td>\n",
       "      <td>0.000000</td>\n",
       "    </tr>\n",
       "    <tr>\n",
       "      <th>50%</th>\n",
       "      <td>0.000809</td>\n",
       "      <td>0.001491</td>\n",
       "      <td>0.013763</td>\n",
       "      <td>0.005891</td>\n",
       "      <td>0.019682</td>\n",
       "      <td>0.012413</td>\n",
       "      <td>1.637559e-05</td>\n",
       "      <td>0.000000</td>\n",
       "      <td>0.000000</td>\n",
       "      <td>0.000000</td>\n",
       "      <td>0.000000</td>\n",
       "      <td>0.000000</td>\n",
       "    </tr>\n",
       "    <tr>\n",
       "      <th>75%</th>\n",
       "      <td>0.006760</td>\n",
       "      <td>0.001894</td>\n",
       "      <td>0.018495</td>\n",
       "      <td>0.007575</td>\n",
       "      <td>0.035912</td>\n",
       "      <td>0.020343</td>\n",
       "      <td>4.048583e-03</td>\n",
       "      <td>0.000000</td>\n",
       "      <td>0.003922</td>\n",
       "      <td>0.000000</td>\n",
       "      <td>0.000000</td>\n",
       "      <td>0.000000</td>\n",
       "    </tr>\n",
       "    <tr>\n",
       "      <th>max</th>\n",
       "      <td>0.999435</td>\n",
       "      <td>0.042345</td>\n",
       "      <td>0.032688</td>\n",
       "      <td>0.047524</td>\n",
       "      <td>0.077348</td>\n",
       "      <td>0.179226</td>\n",
       "      <td>8.333333e-02</td>\n",
       "      <td>1.000000</td>\n",
       "      <td>0.652359</td>\n",
       "      <td>0.274979</td>\n",
       "      <td>0.375833</td>\n",
       "      <td>6.000000</td>\n",
       "    </tr>\n",
       "  </tbody>\n",
       "</table>\n",
       "</div>"
      ],
      "text/plain": [
       "                   0              1              2              3  \\\n",
       "count  981354.000000  981354.000000  981354.000000  981354.000000   \n",
       "mean        0.118874       0.002372       0.010799       0.005434   \n",
       "std         0.274684       0.004141       0.008842       0.003902   \n",
       "min         0.000000       0.000000       0.000000       0.000000   \n",
       "25%         0.000809       0.000242       0.000000       0.001010   \n",
       "50%         0.000809       0.001491       0.013763       0.005891   \n",
       "75%         0.006760       0.001894       0.018495       0.007575   \n",
       "max         0.999435       0.042345       0.032688       0.047524   \n",
       "\n",
       "                   4              5             6              7  \\\n",
       "count  981354.000000  981354.000000  9.813540e+05  981354.000000   \n",
       "mean        0.020585       0.016023  1.905791e-03       0.099033   \n",
       "std         0.019851       0.021828  3.602596e-03       0.298706   \n",
       "min         0.000000       0.000000  0.000000e+00       0.000000   \n",
       "25%         0.000000       0.000000  4.829325e-07       0.000000   \n",
       "50%         0.019682       0.012413  1.637559e-05       0.000000   \n",
       "75%         0.035912       0.020343  4.048583e-03       0.000000   \n",
       "max         0.077348       0.179226  8.333333e-02       1.000000   \n",
       "\n",
       "                   8              9             10          Label  \n",
       "count  981354.000000  981354.000000  981354.000000  686808.000000  \n",
       "mean        0.026789       0.001201       0.004607       0.341088  \n",
       "std         0.083729       0.005334       0.021333       0.760994  \n",
       "min         0.000000       0.000000       0.000000       0.000000  \n",
       "25%         0.000000       0.000000       0.000000       0.000000  \n",
       "50%         0.000000       0.000000       0.000000       0.000000  \n",
       "75%         0.003922       0.000000       0.000000       0.000000  \n",
       "max         0.652359       0.274979       0.375833       6.000000  "
      ]
     },
     "execution_count": 21,
     "metadata": {},
     "output_type": "execute_result"
    }
   ],
   "source": [
    "normal = normal.iloc[normal.index.difference(outlier_index)]\n",
    "normal.reset_index(drop=True, inplace = True)\n",
    "normal.describe()"
   ]
  },
  {
   "cell_type": "code",
   "execution_count": 22,
   "metadata": {},
   "outputs": [],
   "source": [
    "y_train = normal.pop('Label')\n",
    "X_train = normal.values"
   ]
  },
  {
   "cell_type": "markdown",
   "metadata": {},
   "source": [
    "## Carga del modelo"
   ]
  },
  {
   "cell_type": "code",
   "execution_count": 23,
   "metadata": {},
   "outputs": [],
   "source": [
    "class AnomalyDetector(Model):\n",
    "    \n",
    "    def __init__(self):\n",
    "        super(AnomalyDetector, self).__init__()\n",
    "        self.encoder = tf.keras.Sequential([\n",
    "            layers.Dense(5, activation=\"relu\"),\n",
    "            layers.Dense(3, activation=\"relu\")\n",
    "        ])\n",
    "        self.decoder = tf.keras.Sequential([\n",
    "            layers.Dense(5, activation=\"relu\"),\n",
    "            layers.Dense(X_train.shape[1], activation=\"sigmoid\")\n",
    "        ])\n",
    "    \n",
    "    def call(self, x):\n",
    "        encoded = self.encoder(x)\n",
    "        decoded = self.decoder(encoded)\n",
    "        return decoded\n",
    "    \n",
    "    def pred(self, data, threshold):\n",
    "        reconstructions = self(data)\n",
    "        loss = tf.keras.losses.mae(reconstructions, data)\n",
    "        return tf.math.less(threshold, loss)\n",
    "\n",
    "    def print_stats(self, predictions, labels):\n",
    "        labels = np.where(labels > 0, 1, labels)\n",
    "        labels = labels.astype(bool)\n",
    "        print(\"Accuracy = {}\".format(accuracy_score(labels, preds)))\n",
    "        print(\"Precision = {}\".format(precision_score(labels, preds)))\n",
    "        print(\"Recall = {}\".format(recall_score(labels, preds)))"
   ]
  },
  {
   "cell_type": "code",
   "execution_count": 24,
   "metadata": {},
   "outputs": [],
   "source": [
    "autoencoder = AnomalyDetector()\n",
    "autoencoder.compile(optimizer='adam', loss='mae')"
   ]
  },
  {
   "cell_type": "code",
   "execution_count": 25,
   "metadata": {},
   "outputs": [
    {
     "name": "stdout",
     "output_type": "stream",
     "text": [
      "Epoch 1/20\n",
      "2949/2949 [==============================] - 7s 2ms/step - loss: 0.0864\n",
      "Epoch 2/20\n",
      "2949/2949 [==============================] - 6s 2ms/step - loss: 0.0568\n",
      "Epoch 3/20\n",
      "2949/2949 [==============================] - 6s 2ms/step - loss: 0.0516\n",
      "Epoch 4/20\n",
      "2949/2949 [==============================] - 6s 2ms/step - loss: 0.0441\n",
      "Epoch 5/20\n",
      "2949/2949 [==============================] - 6s 2ms/step - loss: 0.0438\n",
      "Epoch 6/20\n",
      "2949/2949 [==============================] - 6s 2ms/step - loss: 0.0438\n",
      "Epoch 7/20\n",
      "2949/2949 [==============================] - 6s 2ms/step - loss: 0.0437\n",
      "Epoch 8/20\n",
      "2949/2949 [==============================] - 6s 2ms/step - loss: 0.0437\n",
      "Epoch 9/20\n",
      "2949/2949 [==============================] - 6s 2ms/step - loss: 0.0437\n",
      "Epoch 10/20\n",
      "2949/2949 [==============================] - 6s 2ms/step - loss: 0.0435\n",
      "Epoch 11/20\n",
      "2949/2949 [==============================] - 6s 2ms/step - loss: 0.0434\n",
      "Epoch 12/20\n",
      "2949/2949 [==============================] - 6s 2ms/step - loss: 0.0433\n",
      "Epoch 13/20\n",
      "2949/2949 [==============================] - 6s 2ms/step - loss: 0.0431\n",
      "Epoch 14/20\n",
      "2949/2949 [==============================] - 6s 2ms/step - loss: 0.0428\n",
      "Epoch 15/20\n",
      "2949/2949 [==============================] - 6s 2ms/step - loss: 0.0428\n",
      "Epoch 16/20\n",
      "2949/2949 [==============================] - 6s 2ms/step - loss: 0.0428\n",
      "Epoch 17/20\n",
      "2949/2949 [==============================] - 6s 2ms/step - loss: 0.0428\n",
      "Epoch 18/20\n",
      "2949/2949 [==============================] - 6s 2ms/step - loss: 0.0428\n",
      "Epoch 19/20\n",
      "2949/2949 [==============================] - 6s 2ms/step - loss: 0.0428\n",
      "Epoch 20/20\n",
      "2949/2949 [==============================] - 7s 2ms/step - loss: 0.0428\n"
     ]
    }
   ],
   "source": [
    "stop_early = tf.keras.callbacks.EarlyStopping(monitor='loss', patience=5)\n",
    "history = autoencoder.fit(normal_train_data, normal_train_data, \n",
    "          epochs=20, \n",
    "          batch_size=512,\n",
    "          callbacks=[stop_early],\n",
    "          shuffle=True)"
   ]
  },
  {
   "cell_type": "markdown",
   "metadata": {},
   "source": [
    "## Detección de anomalías"
   ]
  },
  {
   "cell_type": "code",
   "execution_count": 28,
   "metadata": {},
   "outputs": [
    {
     "name": "stdout",
     "output_type": "stream",
     "text": [
      "20220/20220 [==============================] - 22s 1ms/step\n"
     ]
    },
    {
     "data": {
      "image/png": "[encoded data removed]",
      "text/plain": [
       "<Figure size 432x288 with 1 Axes>"
      ]
     },
     "metadata": {
      "needs_background": "light"
     },
     "output_type": "display_data"
    }
   ],
   "source": [
    "reconstructions = autoencoder.predict(normal_test_data)\n",
    "train_loss = tf.keras.losses.mae(reconstructions, normal_test_data)\n",
    "\n",
    "plt.hist(train_loss[None,:], bins=50)\n",
    "plt.xlabel(\"Normal flows loss\")\n",
    "plt.ylabel(\"Number of examples\")\n",
    "plt.show()"
   ]
  },
  {
   "cell_type": "code",
   "execution_count": 29,
   "metadata": {},
   "outputs": [
    {
     "name": "stdout",
     "output_type": "stream",
     "text": [
      "Normal detected: 69.89729758970039 %.\n"
     ]
    }
   ],
   "source": [
    "th = 0.05\n",
    "print(\"Normal detected: \" + str((len(np.where(train_loss.numpy() < th)[0]) / len(train_loss.numpy())) * 100), \"%.\")"
   ]
  },
  {
   "cell_type": "code",
   "execution_count": 30,
   "metadata": {},
   "outputs": [
    {
     "name": "stdout",
     "output_type": "stream",
     "text": [
      "Threshold: 0.10551599735890113\n"
     ]
    }
   ],
   "source": [
    "threshold = np.mean(train_loss) + np.std(train_loss)\n",
    "print(\"Threshold: \" + str(threshold))"
   ]
  },
  {
   "cell_type": "code",
   "execution_count": 31,
   "metadata": {},
   "outputs": [
    {
     "name": "stdout",
     "output_type": "stream",
     "text": [
      "5210/5210 [==============================] - 6s 1ms/step\n"
     ]
    },
    {
     "data": {
      "image/png": "[encoded data removed]",
      "text/plain": [
       "<Figure size 432x288 with 1 Axes>"
      ]
     },
     "metadata": {
      "needs_background": "light"
     },
     "output_type": "display_data"
    },
    {
     "name": "stdout",
     "output_type": "stream",
     "text": [
      "Anomalies detected: 73.81602231486758 %.\n"
     ]
    }
   ],
   "source": [
    "dos = X_test[np.where(test_labels != 0)]\n",
    "reconstructions = autoencoder.predict(dos)\n",
    "test_loss = tf.keras.losses.mae(reconstructions, dos)\n",
    "\n",
    "plt.hist(test_loss[None, :], bins=50)\n",
    "plt.xlabel(\"Anomalous flows loss\")\n",
    "plt.ylabel(\"No of examples\")\n",
    "plt.axvline(x = th, color = 'r', label = 'axvline - full height')\n",
    "plt.show()\n",
    "\n",
    "print(\"Anomalies detected: \" + str((len(np.where(test_loss.numpy() > th)[0]) / len(test_loss.numpy())) * 100), \"%.\")"
   ]
  },
  {
   "cell_type": "code",
   "execution_count": 32,
   "metadata": {},
   "outputs": [
    {
     "name": "stdout",
     "output_type": "stream",
     "text": [
      "3559/3559 [==============================] - 4s 1ms/step\n"
     ]
    },
    {
     "data": {
      "image/png": "[encoded data removed]",
      "text/plain": [
       "<Figure size 432x288 with 1 Axes>"
      ]
     },
     "metadata": {
      "needs_background": "light"
     },
     "output_type": "display_data"
    },
    {
     "name": "stdout",
     "output_type": "stream",
     "text": [
      "Anomalies detected: 63.675483893631224 %.\n"
     ]
    }
   ],
   "source": [
    "dos = X_test[np.where(test_labels == 1)]\n",
    "reconstructions = autoencoder.predict(dos)\n",
    "test_loss = tf.keras.losses.mae(reconstructions, dos)\n",
    "\n",
    "plt.hist(test_loss[None, :], bins=50)\n",
    "plt.xlabel(\"DoS flows loss\")\n",
    "plt.ylabel(\"No of examples\")\n",
    "plt.axvline(x = th, color = 'r', label = 'axvline - full height')\n",
    "plt.show()\n",
    "\n",
    "print(\"Anomalies detected: \" + str((len(np.where(test_loss.numpy() > th)[0]) / len(test_loss.numpy())) * 100), \"%.\")"
   ]
  },
  {
   "cell_type": "code",
   "execution_count": 33,
   "metadata": {},
   "outputs": [
    {
     "name": "stdout",
     "output_type": "stream",
     "text": [
      "1494/1494 [==============================] - 2s 1ms/step\n"
     ]
    },
    {
     "data": {
      "image/png": "[encoded data removed]",
      "text/plain": [
       "<Figure size 432x288 with 1 Axes>"
      ]
     },
     "metadata": {
      "needs_background": "light"
     },
     "output_type": "display_data"
    },
    {
     "name": "stdout",
     "output_type": "stream",
     "text": [
      "Anomalies detected: 99.95188787783704 %.\n"
     ]
    }
   ],
   "source": [
    "ddos = X_test[np.where(test_labels == 2)]\n",
    "reconstructions = autoencoder.predict(ddos)\n",
    "test_loss = tf.keras.losses.mae(reconstructions, ddos)\n",
    "\n",
    "plt.hist(test_loss[None, :], bins=50)\n",
    "plt.xlabel(\"DDoS flows loss\")\n",
    "plt.ylabel(\"No of examples\")\n",
    "plt.axvline(x = th, color = 'r', label = 'axvline - full height')\n",
    "plt.show()\n",
    "\n",
    "print(\"Anomalies detected: \" + str((len(np.where(test_loss.numpy() > th)[0]) / len(test_loss.numpy())) * 100), \"%.\")"
   ]
  },
  {
   "cell_type": "code",
   "execution_count": 34,
   "metadata": {},
   "outputs": [
    {
     "name": "stdout",
     "output_type": "stream",
     "text": [
      "18/18 [==============================] - 0s 2ms/step\n"
     ]
    },
    {
     "data": {
      "image/png": "[encoded data removed]",
      "text/plain": [
       "<Figure size 432x288 with 1 Axes>"
      ]
     },
     "metadata": {
      "needs_background": "light"
     },
     "output_type": "display_data"
    },
    {
     "name": "stdout",
     "output_type": "stream",
     "text": [
      "Anomalies detected: 61.94690265486725 %.\n"
     ]
    }
   ],
   "source": [
    "bot = X_test[np.where(test_labels == 3)]\n",
    "reconstructions = autoencoder.predict(bot)\n",
    "test_loss = tf.keras.losses.mae(reconstructions, bot)\n",
    "\n",
    "plt.hist(test_loss[None, :], bins=50)\n",
    "plt.xlabel(\"Botnet flows loss\")\n",
    "plt.ylabel(\"No of examples\")\n",
    "plt.axvline(x = th, color = 'r', label = 'axvline - full height')\n",
    "plt.show()\n",
    "\n",
    "print(\"Anomalies detected: \" + str((len(np.where(test_loss.numpy() > th)[0]) / len(test_loss.numpy())) * 100), \"%.\")"
   ]
  },
  {
   "cell_type": "code",
   "execution_count": 35,
   "metadata": {},
   "outputs": [
    {
     "name": "stdout",
     "output_type": "stream",
     "text": [
      "128/128 [==============================] - 0s 1ms/step\n"
     ]
    },
    {
     "data": {
      "image/png": "[encoded data removed]",
      "text/plain": [
       "<Figure size 432x288 with 1 Axes>"
      ]
     },
     "metadata": {
      "needs_background": "light"
     },
     "output_type": "display_data"
    },
    {
     "name": "stdout",
     "output_type": "stream",
     "text": [
      "Anomalies detected: 50.87933561309234 %.\n"
     ]
    }
   ],
   "source": [
    "brute_force = X_test[np.where(test_labels == 4)]\n",
    "reconstructions = autoencoder.predict(brute_force)\n",
    "test_loss = tf.keras.losses.mae(reconstructions, brute_force)\n",
    "\n",
    "plt.hist(test_loss[None, :], bins=50)\n",
    "plt.xlabel(\"Brute Force flows loss\")\n",
    "plt.ylabel(\"No of examples\")\n",
    "plt.axvline(x = th, color = 'r', label = 'axvline - full height')\n",
    "plt.show()\n",
    "\n",
    "print(\"Anomalies detected: \" + str((len(np.where(test_loss.numpy() > th)[0]) / len(test_loss.numpy())) * 100), \"%.\")"
   ]
  },
  {
   "cell_type": "code",
   "execution_count": 36,
   "metadata": {},
   "outputs": [
    {
     "name": "stdout",
     "output_type": "stream",
     "text": [
      "1/1 [==============================] - 0s 16ms/step\n"
     ]
    },
    {
     "data": {
      "image/png": "[encoded data removed]",
      "text/plain": [
       "<Figure size 432x288 with 1 Axes>"
      ]
     },
     "metadata": {
      "needs_background": "light"
     },
     "output_type": "display_data"
    },
    {
     "name": "stdout",
     "output_type": "stream",
     "text": [
      "Anomalies detected: 33.33333333333333 %.\n"
     ]
    }
   ],
   "source": [
    "inf = X_test[np.where(test_labels == 5)]\n",
    "reconstructions = autoencoder.predict(inf)\n",
    "test_loss = tf.keras.losses.mae(reconstructions, inf)\n",
    "\n",
    "plt.hist(test_loss[None, :], bins=50)\n",
    "plt.xlabel(\"Infilteration flows loss\")\n",
    "plt.ylabel(\"No of examples\")\n",
    "plt.axvline(x = th, color = 'r', label = 'axvline - full height')\n",
    "plt.show()\n",
    "\n",
    "print(\"Anomalies detected: \" + str((len(np.where(test_loss.numpy() > th)[0]) / len(test_loss.numpy())) * 100), \"%.\")"
   ]
  },
  {
   "cell_type": "code",
   "execution_count": 37,
   "metadata": {},
   "outputs": [
    {
     "name": "stdout",
     "output_type": "stream",
     "text": [
      "12/12 [==============================] - 0s 2ms/step\n"
     ]
    },
    {
     "data": {
      "image/png": "[encoded data removed]",
      "text/plain": [
       "<Figure size 432x288 with 1 Axes>"
      ]
     },
     "metadata": {
      "needs_background": "light"
     },
     "output_type": "display_data"
    },
    {
     "name": "stdout",
     "output_type": "stream",
     "text": [
      "Anomalies detected: 90.93406593406593 %.\n"
     ]
    }
   ],
   "source": [
    "web = X_test[np.where(test_labels == 6)]\n",
    "reconstructions = autoencoder.predict(web)\n",
    "test_loss = tf.keras.losses.mae(reconstructions, web)\n",
    "\n",
    "plt.hist(test_loss[None, :], bins=50)\n",
    "plt.xlabel(\"Web flows loss\")\n",
    "plt.ylabel(\"No of examples\")\n",
    "plt.axvline(x = th, color = 'r', label = 'axvline - full height')\n",
    "plt.show()\n",
    "\n",
    "print(\"Anomalies detected: \" + str((len(np.where(test_loss.numpy() > th)[0]) / len(test_loss.numpy())) * 100), \"%.\")"
   ]
  },
  {
   "cell_type": "code",
   "execution_count": 38,
   "metadata": {},
   "outputs": [],
   "source": [
    "import itertools\n",
    "def plot_confusion_matrix(cm, title, classes=['normal', 'abnormal'], save=False, save_as='MyFigure.png', cmap=plt.cm.Blues):\n",
    "    cm = cm.astype('float') / cm.sum(axis=1)[:, np.newaxis]\n",
    "    plt.imshow(cm, interpolation='nearest', cmap=cmap)\n",
    "    plt.title(title)\n",
    "    plt.colorbar()\n",
    "    tick_marks = np.arange(len(classes))\n",
    "    plt.xticks(tick_marks, classes, rotation=90)\n",
    "    plt.yticks(tick_marks, classes)\n",
    "    \n",
    "    fmt = '.1%'\n",
    "    thresh = cm.max() / 2.\n",
    "    for i, j in itertools.product(range(cm.shape[0]), range(cm.shape[1])):\n",
    "        plt.text(j, i, format(cm[i, j], fmt), horizontalalignment='center', color='white' if cm[i,j] > thresh else 'black')\n",
    "    \n",
    "    plt.tight_layout()\n",
    "    plt.ylabel('True label')\n",
    "    plt.xlabel('Predicted label')\n",
    "    \n",
    "    if save:\n",
    "        plt.savefig(save_as, dpi=100)"
   ]
  },
  {
   "cell_type": "markdown",
   "metadata": {},
   "source": [
    "Deberemos elegir el valor de *threshold* que mejor creemos que separa las anomalías."
   ]
  },
  {
   "cell_type": "code",
   "execution_count": 39,
   "metadata": {
    "scrolled": true
   },
   "outputs": [
    {
     "name": "stdout",
     "output_type": "stream",
     "text": [
      "CPU times: user 148 ms, sys: 188 ms, total: 336 ms\n",
      "Wall time: 44.1 ms\n"
     ]
    }
   ],
   "source": [
    "%%time\n",
    "preds = autoencoder.pred(test_data, th)"
   ]
  },
  {
   "cell_type": "code",
   "execution_count": 40,
   "metadata": {},
   "outputs": [],
   "source": [
    "from sklearn.metrics import classification_report\n",
    "from sklearn.metrics import confusion_matrix\n",
    "from sklearn.metrics import roc_auc_score\n",
    "from sklearn.metrics import recall_score\n",
    "from sklearn.metrics import make_scorer\n",
    "from sklearn.metrics import accuracy_score"
   ]
  },
  {
   "cell_type": "code",
   "execution_count": 41,
   "metadata": {},
   "outputs": [
    {
     "name": "stdout",
     "output_type": "stream",
     "text": [
      "              precision    recall  f1-score   support\n",
      "\n",
      "           0    0.91198   0.69897   0.79139    647015\n",
      "           1    0.38718   0.73816   0.50794    166705\n",
      "\n",
      "    accuracy                        0.70700    813720\n",
      "   macro avg    0.64958   0.71857   0.64966    813720\n",
      "weighted avg    0.80446   0.70700   0.73332    813720\n",
      "\n",
      "AUC: 71.9%\n"
     ]
    },
    {
     "data": {
      "image/png": "[encoded data removed]",
      "text/plain": [
       "<Figure size 432x288 with 2 Axes>"
      ]
     },
     "metadata": {
      "needs_background": "light"
     },
     "output_type": "display_data"
    }
   ],
   "source": [
    "labels = np.where(y_test > 0, 1, y_test)\n",
    "print(classification_report(labels, preds, digits=5))\n",
    "print('AUC:','{:.1%}'.format(roc_auc_score(labels, preds)))\n",
    "cm = confusion_matrix(labels, preds)\n",
    "plot_confusion_matrix(cm, title='Autoencoder Confusion Matrix')"
   ]
  },
  {
   "cell_type": "code",
   "execution_count": 42,
   "metadata": {},
   "outputs": [],
   "source": [
    "from sklearn.model_selection import StratifiedKFold\n",
    "from sklearn.metrics import accuracy_score\n",
    "\n",
    "def kfold(X, y):\n",
    "    scores = []\n",
    "    skfold = StratifiedKFold(n_splits = 4)\n",
    "\n",
    "    for train_index, test_index in skfold.split(X, y):\n",
    "        X_train, X_test = X[train_index], X[test_index]\n",
    "        y_train, y_test = y[train_index], y[test_index]\n",
    "        normal_traffic = X_train[np.where(y_train == 0)]\n",
    "        \n",
    "        ae = AnomalyDetector()\n",
    "        ae.compile(optimizer='adam', loss='mae')\n",
    "        ae.fit(normal_traffic, normal_traffic)\n",
    "        \n",
    "        ac = accuracy_score(np.where(y_test > 0, 1, y_test).astype(bool), ae.pred(X_test, 0.05))\n",
    "        print(ac)\n",
    "        scores.append(ac)\n",
    "    return scores"
   ]
  },
  {
   "cell_type": "code",
   "execution_count": 43,
   "metadata": {},
   "outputs": [
    {
     "name": "stdout",
     "output_type": "stream",
     "text": [
      "2344/2344 [==============================] - 5s 2ms/step - loss: 0.1090\n",
      "0.6676742857142857\n",
      "2344/2344 [==============================] - 5s 2ms/step - loss: 0.1033\n",
      "0.6675371428571428\n",
      "2344/2344 [==============================] - 5s 2ms/step - loss: 0.0964\n",
      "0.6701257142857143\n",
      "2344/2344 [==============================] - 5s 2ms/step - loss: 0.0941\n",
      "0.6670914285714286\n"
     ]
    },
    {
     "data": {
      "text/plain": [
       "0.6681071428571429"
      ]
     },
     "execution_count": 43,
     "metadata": {},
     "output_type": "execute_result"
    }
   ],
   "source": [
    "df = pd.read_csv('/home/jovyan/CIC-IDS-2017/CIC-IDS-2017-train.csv', sep=',', low_memory=False)\n",
    "y_train = df.pop('Label')\n",
    "X_train = np.delete(df.values, [1,2,7,8,9,10,11,13,15,18,20,21], 1)\n",
    "\n",
    "results = kfold(X_train, y_train)\n",
    "np.mean(results)"
   ]
  }
 ],
 "metadata": {
  "kernelspec": {
   "display_name": "Python 3",
   "language": "python",
   "name": "python3"
  },
  "language_info": {
   "codemirror_mode": {
    "name": "ipython",
    "version": 3
   },
   "file_extension": ".py",
   "mimetype": "text/x-python",
   "name": "python",
   "nbconvert_exporter": "python",
   "pygments_lexer": "ipython3",
   "version": "3.7.6"
  }
 },
 "nbformat": 4,
 "nbformat_minor": 4
}
