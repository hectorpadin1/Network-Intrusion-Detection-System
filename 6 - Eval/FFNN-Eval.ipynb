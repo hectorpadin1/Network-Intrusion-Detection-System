{
 "cells": [
  {
   "cell_type": "markdown",
   "metadata": {},
   "source": [
    "# DNN CIC-IDS-2017\n",
    "\n",
    "La última fase de la evaluación conlleva la evaluación de los modelos en dominios similares. Para ello, se utilizó el CIC-IDS-2017, el conjunto de datos predecesor del utilizado en  este proyecto. A continuación se muestran las\n",
    "métricas y el porcentaje de ataques detectados para la técnica de DNN.\n",
    "\n",
    "## Librerías necesarias"
   ]
  },
  {
   "cell_type": "code",
   "execution_count": 1,
   "metadata": {},
   "outputs": [],
   "source": [
    "import gc\n",
    "import math\n",
    "import pandas as pd\n",
    "from glob import glob\n",
    "from os import getcwd\n",
    "import numpy as np\n",
    "import matplotlib.pyplot as plt\n",
    "import seaborn as sns\n",
    "import tensorflow as tf\n",
    "import sklearn\n",
    "import keras\n",
    "from sklearn.metrics import f1_score, make_scorer\n",
    "from keras.models import load_model\n",
    "from sklearn.metrics import confusion_matrix\n",
    "from sklearn.metrics import classification_report\n",
    "\n",
    "pd.set_option(\"display.max_columns\", 80)"
   ]
  },
  {
   "cell_type": "code",
   "execution_count": 2,
   "metadata": {},
   "outputs": [],
   "source": [
    "import itertools\n",
    "def plot_confusion_matrix(cm, title, classes=['normal', 'abnormal'], save=False, save_as='MyFigure.png', cmap=plt.cm.Blues):\n",
    "    cm = cm.astype('float') / cm.sum(axis=1)[:, np.newaxis]\n",
    "    plt.imshow(cm, interpolation='nearest', cmap=cmap)\n",
    "    plt.title(title)\n",
    "    plt.colorbar()\n",
    "    tick_marks = np.arange(len(classes))\n",
    "    plt.xticks(tick_marks, classes, rotation=90)\n",
    "    plt.yticks(tick_marks, classes)\n",
    "    \n",
    "    fmt = '.1%'\n",
    "    thresh = cm.max() / 2.\n",
    "    for i, j in itertools.product(range(cm.shape[0]), range(cm.shape[1])):\n",
    "        plt.text(j, i, format(cm[i, j], fmt), horizontalalignment='center', color='white' if cm[i,j] > thresh else 'black')\n",
    "    \n",
    "    plt.tight_layout()\n",
    "    plt.ylabel('True label')\n",
    "    plt.xlabel('Predicted label')\n",
    "    \n",
    "    if save:\n",
    "        plt.savefig(save_as, dpi=100)"
   ]
  },
  {
   "cell_type": "markdown",
   "metadata": {},
   "source": [
    "## Carga del modelo"
   ]
  },
  {
   "cell_type": "code",
   "execution_count": 4,
   "metadata": {},
   "outputs": [],
   "source": [
    "dnn = tf.keras.models.load_model('/home/jovyan/My-Notebooks/Signature Detection/dnn-arch')"
   ]
  },
  {
   "cell_type": "code",
   "execution_count": 5,
   "metadata": {},
   "outputs": [
    {
     "name": "stdout",
     "output_type": "stream",
     "text": [
      "Model: \"sequential_1\"\n",
      "_________________________________________________________________\n",
      " Layer (type)                Output Shape              Param #   \n",
      "=================================================================\n",
      " flatten_1 (Flatten)         (None, 22)                0         \n",
      "                                                                 \n",
      " dense_2 (Dense)             (None, 448)               10304     \n",
      "                                                                 \n",
      " dense_3 (Dense)             (None, 384)               172416    \n",
      "                                                                 \n",
      " dense_4 (Dense)             (None, 480)               184800    \n",
      "                                                                 \n",
      " dense_5 (Dense)             (None, 160)               76960     \n",
      "                                                                 \n",
      " dropout_1 (Dropout)         (None, 160)               0         \n",
      "                                                                 \n",
      " dense_6 (Dense)             (None, 7)                 1127      \n",
      "                                                                 \n",
      "=================================================================\n",
      "Total params: 445,607\n",
      "Trainable params: 445,607\n",
      "Non-trainable params: 0\n",
      "_________________________________________________________________\n"
     ]
    }
   ],
   "source": [
    "dnn.summary()"
   ]
  },
  {
   "cell_type": "markdown",
   "metadata": {},
   "source": [
    "### Carga del conjunto de datos"
   ]
  },
  {
   "cell_type": "code",
   "execution_count": 8,
   "metadata": {},
   "outputs": [],
   "source": [
    "df = pd.read_csv('/home/jovyan/CIC-IDS-2017/CIC-IDS-2017-train.csv', sep=',', low_memory=False)\n",
    "y_train = df.pop('Label')\n",
    "X_train = df.values"
   ]
  },
  {
   "cell_type": "markdown",
   "metadata": {},
   "source": [
    "### Entrenamiento"
   ]
  },
  {
   "cell_type": "code",
   "execution_count": 9,
   "metadata": {},
   "outputs": [
    {
     "name": "stdout",
     "output_type": "stream",
     "text": [
      "Epoch 1/500\n",
      "21875/21875 [==============================] - 98s 4ms/step - loss: 0.1185 - accuracy: 0.1290\n",
      "Epoch 2/500\n",
      "21875/21875 [==============================] - 97s 4ms/step - loss: 0.0746 - accuracy: 0.1333\n",
      "Epoch 3/500\n",
      "21875/21875 [==============================] - 97s 4ms/step - loss: 0.0646 - accuracy: 0.1341\n",
      "Epoch 4/500\n",
      "21875/21875 [==============================] - 97s 4ms/step - loss: 0.0553 - accuracy: 0.1347\n",
      "Epoch 5/500\n",
      "21875/21875 [==============================] - 97s 4ms/step - loss: 0.0512 - accuracy: 0.1352\n",
      "Epoch 6/500\n",
      "21875/21875 [==============================] - 98s 4ms/step - loss: 0.0494 - accuracy: 0.1354\n",
      "Epoch 7/500\n",
      "21875/21875 [==============================] - 98s 4ms/step - loss: 0.0464 - accuracy: 0.1354\n",
      "Epoch 8/500\n",
      "21875/21875 [==============================] - 97s 4ms/step - loss: 0.0449 - accuracy: 0.1355\n",
      "Epoch 9/500\n",
      "21875/21875 [==============================] - 97s 4ms/step - loss: 0.0436 - accuracy: 0.1357\n",
      "Epoch 10/500\n",
      "21875/21875 [==============================] - 97s 4ms/step - loss: 0.0440 - accuracy: 0.1358\n",
      "Epoch 11/500\n",
      "21875/21875 [==============================] - 97s 4ms/step - loss: 0.0451 - accuracy: 0.1359\n",
      "Epoch 12/500\n",
      "21875/21875 [==============================] - 97s 4ms/step - loss: 0.0453 - accuracy: 0.1360\n",
      "Epoch 13/500\n",
      "21875/21875 [==============================] - 98s 4ms/step - loss: 0.0410 - accuracy: 0.1360\n",
      "Epoch 14/500\n",
      "21875/21875 [==============================] - 97s 4ms/step - loss: 0.0416 - accuracy: 0.1361\n",
      "Epoch 15/500\n",
      "21875/21875 [==============================] - 97s 4ms/step - loss: 0.0411 - accuracy: 0.1359\n",
      "Epoch 16/500\n",
      "21875/21875 [==============================] - 97s 4ms/step - loss: 0.0410 - accuracy: 0.1362\n",
      "Epoch 17/500\n",
      "21875/21875 [==============================] - 98s 4ms/step - loss: 0.0408 - accuracy: 0.1360\n",
      "Epoch 18/500\n",
      "21875/21875 [==============================] - 98s 4ms/step - loss: 0.0408 - accuracy: 0.1362\n",
      "Epoch 19/500\n",
      "21875/21875 [==============================] - 97s 4ms/step - loss: 0.0401 - accuracy: 0.1362\n",
      "Epoch 20/500\n",
      "21875/21875 [==============================] - 98s 4ms/step - loss: 0.0407 - accuracy: 0.1361\n",
      "Epoch 21/500\n",
      "21875/21875 [==============================] - 97s 4ms/step - loss: 0.0438 - accuracy: 0.1361\n",
      "Epoch 22/500\n",
      "21875/21875 [==============================] - 98s 4ms/step - loss: 0.0405 - accuracy: 0.1363\n",
      "Epoch 23/500\n",
      "21875/21875 [==============================] - 97s 4ms/step - loss: 0.0420 - accuracy: 0.1364\n",
      "Epoch 24/500\n",
      "21875/21875 [==============================] - 97s 4ms/step - loss: 0.0399 - accuracy: 0.1363\n",
      "Epoch 25/500\n",
      "21875/21875 [==============================] - 97s 4ms/step - loss: 0.0427 - accuracy: 0.1365\n",
      "Epoch 26/500\n",
      "21875/21875 [==============================] - 97s 4ms/step - loss: 0.0405 - accuracy: 0.1365\n",
      "Epoch 27/500\n",
      "21875/21875 [==============================] - 98s 4ms/step - loss: 0.0403 - accuracy: 0.1365\n",
      "Epoch 28/500\n",
      "21875/21875 [==============================] - 97s 4ms/step - loss: 0.0410 - accuracy: 0.1365\n",
      "Epoch 29/500\n",
      "21875/21875 [==============================] - 98s 4ms/step - loss: 0.0476 - accuracy: 0.1364\n",
      "Epoch 30/500\n",
      "21875/21875 [==============================] - 98s 4ms/step - loss: 0.0416 - accuracy: 0.1363\n",
      "Epoch 31/500\n",
      "21875/21875 [==============================] - 97s 4ms/step - loss: 0.0410 - accuracy: 0.1365\n",
      "Epoch 32/500\n",
      "21875/21875 [==============================] - 97s 4ms/step - loss: 0.0411 - accuracy: 0.1364\n"
     ]
    },
    {
     "data": {
      "text/plain": [
       "<keras.callbacks.History at 0x7fd623193310>"
      ]
     },
     "execution_count": 9,
     "metadata": {},
     "output_type": "execute_result"
    }
   ],
   "source": [
    "stop_early = tf.keras.callbacks.EarlyStopping(monitor='accuracy', patience=5)\n",
    "dnn.fit(X_train, y_train, epochs=500, callbacks=[stop_early], shuffle=True)"
   ]
  },
  {
   "cell_type": "code",
   "execution_count": 10,
   "metadata": {},
   "outputs": [],
   "source": [
    "df = pd.read_csv('/home/jovyan/CIC-IDS-2017/CIC-IDS-2017-test.csv', sep=',', low_memory=False)\n",
    "y_test = df.pop('Label')\n",
    "X_test = df.values"
   ]
  },
  {
   "cell_type": "code",
   "execution_count": 11,
   "metadata": {},
   "outputs": [
    {
     "name": "stdout",
     "output_type": "stream",
     "text": [
      "25429/25429 [==============================] - 45s 2ms/step\n",
      "CPU times: user 1min 19s, sys: 12.3 s, total: 1min 31s\n",
      "Wall time: 49.1 s\n"
     ]
    }
   ],
   "source": [
    "%%time\n",
    "predictions = dnn.predict(X_test)"
   ]
  },
  {
   "cell_type": "code",
   "execution_count": 12,
   "metadata": {},
   "outputs": [],
   "source": [
    "predictions = predictions.argmax(axis=1)"
   ]
  },
  {
   "cell_type": "code",
   "execution_count": 13,
   "metadata": {},
   "outputs": [
    {
     "name": "stdout",
     "output_type": "stream",
     "text": [
      "              precision    recall  f1-score   support\n",
      "\n",
      "           0    0.99971   0.95582   0.97727    647015\n",
      "           1    0.93311   0.99775   0.96435    113868\n",
      "           2    0.83092   0.99686   0.90636     47805\n",
      "           3    0.09292   0.98938   0.16988       565\n",
      "           4    0.72936   0.99927   0.84324      4094\n",
      "           5    0.00417   0.66667   0.00829         9\n",
      "           6    0.12249   0.98901   0.21798       364\n",
      "\n",
      "    accuracy                        0.96435    813720\n",
      "   macro avg    0.53038   0.94211   0.58391    813720\n",
      "weighted avg    0.97808   0.96435   0.96971    813720\n",
      "\n"
     ]
    }
   ],
   "source": [
    "print(classification_report(y_test, predictions, digits=5))"
   ]
  },
  {
   "cell_type": "code",
   "execution_count": 14,
   "metadata": {},
   "outputs": [
    {
     "data": {
      "image/png": "[encoded data removed]",
      "text/plain": [
       "<Figure size 432x288 with 2 Axes>"
      ]
     },
     "metadata": {
      "needs_background": "light"
     },
     "output_type": "display_data"
    }
   ],
   "source": [
    "cm = confusion_matrix(y_test, predictions)\n",
    "plot_confusion_matrix(cm, title='FFNN Confusion Matrix', classes=['0', '1', '2', '3', '4', '5', '6'])"
   ]
  },
  {
   "cell_type": "code",
   "execution_count": 15,
   "metadata": {},
   "outputs": [],
   "source": [
    "from sklearn.model_selection import StratifiedKFold\n",
    "from sklearn.metrics import accuracy_score\n",
    "\n",
    "def kfold(model, X, y):\n",
    "    scores = []\n",
    "    skfold = StratifiedKFold(n_splits = 4)\n",
    "\n",
    "    for train_index, test_index in skfold.split(X, y):\n",
    "        X_train, X_test = X[train_index], X[test_index]\n",
    "        y_train, y_test = y[train_index], y[test_index]\n",
    "\n",
    "        model.fit(X_train, y_train)\n",
    "\n",
    "        scores.append(accuracy_score(y_test, model.predict(X_test).argmax(axis=1)))\n",
    "    return scores"
   ]
  },
  {
   "cell_type": "code",
   "execution_count": 16,
   "metadata": {},
   "outputs": [
    {
     "name": "stdout",
     "output_type": "stream",
     "text": [
      "16407/16407 [==============================] - 77s 5ms/step - loss: 0.0398 - accuracy: 0.1366\n",
      "5469/5469 [==============================] - 9s 2ms/step\n",
      "16407/16407 [==============================] - 78s 5ms/step - loss: 0.0421 - accuracy: 0.1365\n",
      "5469/5469 [==============================] - 10s 2ms/step\n",
      "16407/16407 [==============================] - 77s 5ms/step - loss: 0.0387 - accuracy: 0.1367\n",
      "5469/5469 [==============================] - 11s 2ms/step\n",
      "16407/16407 [==============================] - 78s 5ms/step - loss: 0.0428 - accuracy: 0.1364\n",
      "5469/5469 [==============================] - 11s 2ms/step\n"
     ]
    },
    {
     "data": {
      "text/plain": [
       "0.99084"
      ]
     },
     "execution_count": 16,
     "metadata": {},
     "output_type": "execute_result"
    }
   ],
   "source": [
    "results = kfold(dnn, X_train, y_train)\n",
    "np.mean(results)"
   ]
  }
 ],
 "metadata": {
  "kernelspec": {
   "display_name": "Python 3",
   "language": "python",
   "name": "python3"
  },
  "language_info": {
   "codemirror_mode": {
    "name": "ipython",
    "version": 3
   },
   "file_extension": ".py",
   "mimetype": "text/x-python",
   "name": "python",
   "nbconvert_exporter": "python",
   "pygments_lexer": "ipython3",
   "version": "3.7.6"
  }
 },
 "nbformat": 4,
 "nbformat_minor": 4
}
