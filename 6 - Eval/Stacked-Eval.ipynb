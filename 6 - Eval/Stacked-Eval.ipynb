{
 "cells": [
  {
   "cell_type": "markdown",
   "metadata": {},
   "source": [
    "# Híbrido CIC-IDS-2017\n",
    "\n",
    "La última fase de la evaluación conlleva la evaluación de los modelos en dominios similares. Para ello, se utilizó el CIC-IDS-2017, el conjunto de datos predecesor del utilizado en  este proyecto. A continuación se muestran las\n",
    "métricas y el porcentaje de ataques detectados para el modelo híbrido.\n",
    "\n",
    "## Librerías necesarias"
   ]
  },
  {
   "cell_type": "code",
   "execution_count": 1,
   "metadata": {},
   "outputs": [],
   "source": [
    "from sklearn.metrics import accuracy_score\n",
    "from keras.models import load_model\n",
    "from sklearn.model_selection import train_test_split\n",
    "from sklearn.linear_model import LogisticRegression\n",
    "from numpy import argmax\n",
    "from joblib import load\n",
    "from sklearn.metrics import cohen_kappa_score\n",
    "from sklearn.metrics import classification_report\n",
    "from sklearn.metrics import confusion_matrix\n",
    "from sklearn.model_selection import StratifiedKFold\n",
    "from sklearn.metrics import accuracy_score\n",
    "import numpy as np\n",
    "import tensorflow as tf\n",
    "import pandas as pd\n",
    "import matplotlib.pyplot as plt"
   ]
  },
  {
   "cell_type": "code",
   "execution_count": 2,
   "metadata": {},
   "outputs": [],
   "source": [
    "import itertools\n",
    "def plot_confusion_matrix(cm, title, classes=['normal', 'abnormal'], save=False, save_as='MyFigure.png', cmap=plt.cm.Blues):\n",
    "    cm = cm.astype('float') / cm.sum(axis=1)[:, np.newaxis]\n",
    "    plt.imshow(cm, interpolation='nearest', cmap=cmap)\n",
    "    plt.title(title)\n",
    "    plt.colorbar()\n",
    "    tick_marks = np.arange(len(classes))\n",
    "    plt.xticks(tick_marks, classes, rotation=90)\n",
    "    plt.yticks(tick_marks, classes)\n",
    "    \n",
    "    fmt = '.1%'\n",
    "    thresh = cm.max() / 2.\n",
    "    for i, j in itertools.product(range(cm.shape[0]), range(cm.shape[1])):\n",
    "        plt.text(j, i, format(cm[i, j], fmt), horizontalalignment='center', color='white' if cm[i,j] > thresh else 'black')\n",
    "    \n",
    "    plt.tight_layout()\n",
    "    plt.ylabel('True label')\n",
    "    plt.xlabel('Predicted label')\n",
    "    \n",
    "    if save:\n",
    "        plt.savefig(save_as, dpi=100)"
   ]
  },
  {
   "cell_type": "markdown",
   "metadata": {},
   "source": [
    "## Modelado"
   ]
  },
  {
   "cell_type": "code",
   "execution_count": 3,
   "metadata": {},
   "outputs": [],
   "source": [
    "class StackedClassifier():\n",
    "    \n",
    "    def __init__(self):\n",
    "        self.models = {\n",
    "            'Autoencoder': load_model('/home/jovyan/My-Notebooks/Stacked/autoencoder'),\n",
    "            'Random Forest' : load('/home/jovyan/My-Notebooks/Stacked/rf-hyper/RF.joblib')\n",
    "            }\n",
    "        self.th = 0.05\n",
    " \n",
    "    def __reshape_AE(self, X):\n",
    "        return np.delete(X, [1,2,7,8,9,10,11,13,15,18,20,21], 1)\n",
    "\n",
    "    def __train_models(self, X_train_ae, y_train_ae, X_train_rf, y_train_rf):\n",
    "        \n",
    "        normal_train_data = X_train_ae[np.where(y_train_ae == 0)]\n",
    "        stop_early = tf.keras.callbacks.EarlyStopping(monitor='loss', patience=5)\n",
    "        self.models['Autoencoder'].fit(normal_train_data, normal_train_data, epochs=500, verbose=0, batch_size=512, shuffle=True, callbacks=[stop_early])\n",
    "        \n",
    "        reconstructions = self.models['Autoencoder'].predict(X_train_ae)\n",
    "        loss = tf.keras.losses.mae(reconstructions, X_train_ae)\n",
    "        preds_ae = tf.math.less(self.th, loss)\n",
    "        y_train_ae = np.where(y_train_ae > 0, 1, y_train_ae)\n",
    "        print('Accuracy for Autoencoder:', accuracy_score(y_train_ae.astype(bool), preds_ae))\n",
    "        \n",
    "        self.models['Random Forest'].fit(X_train_rf, y_train_rf)\n",
    "        preds_rf = self.models['Random Forest'].predict(X_train_rf)\n",
    "        y_train_rf = np.where(y_train_ae > 0, 1, y_train_ae)\n",
    "        preds_rf = np.where(y_train_ae > 0, 1, y_train_ae)\n",
    "        print('Accuracy for Random Forest:', accuracy_score(y_train_rf, preds_rf))\n",
    "\n",
    "    def __stacked_dataset(self, X_stacked):\n",
    "        global stackX\n",
    "        stackX = 0\n",
    "        \n",
    "        X_ae = self.__reshape_AE(X_stacked)\n",
    "        reconstructions = self.models['Autoencoder'].predict(X_ae)\n",
    "        loss = tf.keras.losses.mae(reconstructions, X_ae)\n",
    "        stackX = pd.DataFrame()\n",
    "        stackX['AE'] = tf.math.less(self.th, loss)\n",
    "\n",
    "        yhat = self.models['Random Forest'].predict(X_stacked)\n",
    "        yhat = np.where(yhat > 0, 1, yhat).astype(bool)\n",
    "        stackX['RF'] = yhat\n",
    "        \n",
    "        return stackX.values\n",
    "\n",
    "    def kFold(self, inputx, inputy, splits):\n",
    "        \n",
    "        scores = []\n",
    "        skfold = StratifiedKFold(n_splits = splits)\n",
    "        \n",
    "        for train_index, test_index in skfold.split(inputx, inputy):\n",
    "            X_train, X_test = inputx[train_index], inputx[test_index]\n",
    "            y_train, y_test = inputy[train_index], inputy[test_index]\n",
    "            \n",
    "            self.fit(X_train, y_train)\n",
    "            \n",
    "            scores.append(accuracy_score(y_test, self.predict(X_test)))\n",
    "        \n",
    "        return scores\n",
    "    \n",
    "    def fit(self, inputx, inputy):\n",
    "        # split training set\n",
    "        X_train, X_stacked, y_train, y_stacked = train_test_split(inputx, inputy, test_size=0.33, random_state=100)\n",
    "        X_train_ae = self.__reshape_AE(X_train)\n",
    "        \n",
    "        self.__train_models(X_train_ae, y_train, X_train, y_train)\n",
    "        # create dataset using ensemble\n",
    "        stackedX = self.__stacked_dataset(X_stacked)\n",
    "        # fit standalone model\n",
    "        LR = LogisticRegression()\n",
    "        y_stacked = np.where(y_stacked > 0, 1, y_stacked).astype(bool)\n",
    "        LR.fit(stackedX, y_stacked)\n",
    "        self.stacked_model = LR\n",
    "    \n",
    "    def predict(self, inputX):\n",
    "        # create dataset using ensemble\n",
    "        stackedX = self.__stacked_dataset(inputX)\n",
    "        # make a prediction\n",
    "        yhat = self.stacked_model.predict(stackedX)\n",
    "        return yhat"
   ]
  },
  {
   "cell_type": "markdown",
   "metadata": {},
   "source": [
    "## Carga del conjunto de datos"
   ]
  },
  {
   "cell_type": "code",
   "execution_count": 4,
   "metadata": {},
   "outputs": [],
   "source": [
    "df = pd.read_csv('/home/jovyan/CIC-IDS-2017/CIC-IDS-2017-train.csv', sep=',', low_memory=False)\n",
    "y_train = df.pop('Label')\n",
    "X_train = df.values"
   ]
  },
  {
   "cell_type": "code",
   "execution_count": 5,
   "metadata": {},
   "outputs": [],
   "source": [
    "sc = StackedClassifier()"
   ]
  },
  {
   "cell_type": "markdown",
   "metadata": {},
   "source": [
    "## Entrenamiento"
   ]
  },
  {
   "cell_type": "code",
   "execution_count": 6,
   "metadata": {},
   "outputs": [
    {
     "name": "stdout",
     "output_type": "stream",
     "text": [
      "14657/14657 [==============================] - 16s 1ms/step\n",
      "Accuracy for Autoencoder: 0.6085287846481876\n",
      "Accuracy for Random Forest: 1.0\n",
      "7219/7219 [==============================] - 10s 1ms/step\n"
     ]
    }
   ],
   "source": [
    "sc.fit(X_train, y_train)"
   ]
  },
  {
   "cell_type": "markdown",
   "metadata": {},
   "source": []
  },
  {
   "cell_type": "code",
   "execution_count": 7,
   "metadata": {},
   "outputs": [],
   "source": [
    "df = pd.read_csv('/home/jovyan/CIC-IDS-2017/CIC-IDS-2017-test.csv', sep=',', low_memory=False)\n",
    "y_test = df.pop('Label')\n",
    "X_test = df.values"
   ]
  },
  {
   "cell_type": "code",
   "execution_count": 8,
   "metadata": {},
   "outputs": [
    {
     "name": "stdout",
     "output_type": "stream",
     "text": [
      "25429/25429 [==============================] - 33s 1ms/step\n",
      "CPU times: user 51.5 s, sys: 6.52 s, total: 58 s\n",
      "Wall time: 45.9 s\n"
     ]
    }
   ],
   "source": [
    "%%time\n",
    "preds = sc.predict(X_test)"
   ]
  },
  {
   "cell_type": "code",
   "execution_count": 9,
   "metadata": {},
   "outputs": [
    {
     "name": "stdout",
     "output_type": "stream",
     "text": [
      "              precision    recall  f1-score   support\n",
      "\n",
      "           0    0.99977   0.98986   0.99479    647015\n",
      "           1    0.96210   0.99910   0.98025    166705\n",
      "\n",
      "    accuracy                        0.99175    813720\n",
      "   macro avg    0.98093   0.99448   0.98752    813720\n",
      "weighted avg    0.99205   0.99175   0.99181    813720\n",
      "\n"
     ]
    },
    {
     "data": {
      "image/png": "[encoded data removed]",
      "text/plain": [
       "<Figure size 432x288 with 2 Axes>"
      ]
     },
     "metadata": {
      "needs_background": "light"
     },
     "output_type": "display_data"
    }
   ],
   "source": [
    "labels = np.where(y_test > 0, 1, y_test)\n",
    "print(classification_report(labels, preds, digits=5))\n",
    "cm = confusion_matrix(labels, preds)\n",
    "plot_confusion_matrix(cm, title='Stacked Confusion Matrix')"
   ]
  },
  {
   "cell_type": "code",
   "execution_count": 10,
   "metadata": {},
   "outputs": [],
   "source": [
    "from sklearn.model_selection import StratifiedKFold\n",
    "from sklearn.metrics import accuracy_score\n",
    "\n",
    "def kfold(model, X, y):\n",
    "    scores = []\n",
    "    skfold = StratifiedKFold(n_splits = 4)\n",
    "\n",
    "    for train_index, test_index in skfold.split(X, y):\n",
    "        X_train, X_test = X[train_index], X[test_index]\n",
    "        y_train, y_test = y[train_index], y[test_index]\n",
    "\n",
    "        model.fit(X_train, y_train)\n",
    "        \n",
    "        ac = accuracy_score(np.where(y_test > 0, 1, y_test), model.predict(X_test))\n",
    "        print('Accuracy of model for actual fold:', ac)\n",
    "        scores.append(ac)\n",
    "    return scores"
   ]
  },
  {
   "cell_type": "code",
   "execution_count": 11,
   "metadata": {},
   "outputs": [
    {
     "name": "stdout",
     "output_type": "stream",
     "text": [
      "10993/10993 [==============================] - 12s 1ms/step\n",
      "Accuracy for Autoencoder: 0.6074769012082445\n",
      "Accuracy for Random Forest: 1.0\n",
      "5415/5415 [==============================] - 7s 1ms/step\n",
      "5469/5469 [==============================] - 6s 1ms/step\n",
      "Accuracy of model for actual fold: 0.99796\n",
      "10993/10993 [==============================] - 12s 1ms/step\n",
      "Accuracy for Autoencoder: 0.6076474769012082\n",
      "Accuracy for Random Forest: 1.0\n",
      "5415/5415 [==============================] - 8s 1ms/step\n",
      "5469/5469 [==============================] - 8s 1ms/step\n",
      "Accuracy of model for actual fold: 0.9980171428571428\n",
      "10993/10993 [==============================] - 15s 1ms/step\n",
      "Accuracy for Autoencoder: 0.6072096659559346\n",
      "Accuracy for Random Forest: 1.0\n",
      "5415/5415 [==============================] - 8s 1ms/step\n",
      "5469/5469 [==============================] - 7s 1ms/step\n",
      "Accuracy of model for actual fold: 0.9978914285714285\n",
      "10993/10993 [==============================] - 14s 1ms/step\n",
      "Accuracy for Autoencoder: 0.6079857853589197\n",
      "Accuracy for Random Forest: 1.0\n",
      "5415/5415 [==============================] - 7s 1ms/step\n",
      "5469/5469 [==============================] - 6s 1ms/step\n",
      "Accuracy of model for actual fold: 0.9981428571428571\n"
     ]
    },
    {
     "data": {
      "text/plain": [
       "0.9980028571428572"
      ]
     },
     "execution_count": 11,
     "metadata": {},
     "output_type": "execute_result"
    }
   ],
   "source": [
    "results = kfold(sc, X_train, y_train)\n",
    "np.mean(results)"
   ]
  },
  {
   "cell_type": "code",
   "execution_count": 12,
   "metadata": {},
   "outputs": [],
   "source": [
    "normal_traffic = X_test[np.where(y_test == 0)]\n",
    "dos_traffic = X_test[np.where(y_test == 1)]\n",
    "ddos_traffic = X_test[np.where(y_test == 2)]\n",
    "bot_traffic = X_test[np.where(y_test == 3)]\n",
    "bf_traffic = X_test[np.where(y_test == 4)]\n",
    "inf_traffic = X_test[np.where(y_test == 5)]\n",
    "web_traffic = X_test[np.where(y_test == 6)]"
   ]
  },
  {
   "cell_type": "code",
   "execution_count": 13,
   "metadata": {},
   "outputs": [
    {
     "name": "stdout",
     "output_type": "stream",
     "text": [
      "20220/20220 [==============================] - 22s 1ms/step\n"
     ]
    },
    {
     "data": {
      "text/plain": [
       "0.9904499895674752"
      ]
     },
     "execution_count": 13,
     "metadata": {},
     "output_type": "execute_result"
    }
   ],
   "source": [
    "preds = sc.predict(normal_traffic)\n",
    "accuracy_score(y_test[np.where(y_test == 0)[0]], preds)"
   ]
  },
  {
   "cell_type": "code",
   "execution_count": 14,
   "metadata": {},
   "outputs": [
    {
     "name": "stdout",
     "output_type": "stream",
     "text": [
      "3559/3559 [==============================] - 4s 1ms/step\n"
     ]
    },
    {
     "data": {
      "text/plain": [
       "0.9991657006358239"
      ]
     },
     "execution_count": 14,
     "metadata": {},
     "output_type": "execute_result"
    }
   ],
   "source": [
    "preds = sc.predict(dos_traffic)\n",
    "accuracy_score(y_test[np.where(y_test == 1)[0]], preds)"
   ]
  },
  {
   "cell_type": "code",
   "execution_count": 15,
   "metadata": {},
   "outputs": [
    {
     "name": "stdout",
     "output_type": "stream",
     "text": [
      "1494/1494 [==============================] - 2s 1ms/step\n"
     ]
    },
    {
     "data": {
      "text/plain": [
       "0.99725970086811"
      ]
     },
     "execution_count": 15,
     "metadata": {},
     "output_type": "execute_result"
    }
   ],
   "source": [
    "preds = sc.predict(ddos_traffic)\n",
    "ddos = y_test[np.where(y_test == 2)[0]]\n",
    "accuracy_score(np.where(ddos > 0, 1, ddos).astype(bool), preds)"
   ]
  },
  {
   "cell_type": "code",
   "execution_count": 16,
   "metadata": {},
   "outputs": [
    {
     "name": "stdout",
     "output_type": "stream",
     "text": [
      "18/18 [==============================] - 0s 983us/step\n"
     ]
    },
    {
     "data": {
      "text/plain": [
       "0.9893805309734514"
      ]
     },
     "execution_count": 16,
     "metadata": {},
     "output_type": "execute_result"
    }
   ],
   "source": [
    "preds = sc.predict(bot_traffic)\n",
    "bot = y_test[np.where(y_test == 3)[0]]\n",
    "accuracy_score(np.where(bot > 0, 1, bot).astype(bool), preds)"
   ]
  },
  {
   "cell_type": "code",
   "execution_count": 17,
   "metadata": {},
   "outputs": [
    {
     "name": "stdout",
     "output_type": "stream",
     "text": [
      "128/128 [==============================] - 0s 1ms/step\n"
     ]
    },
    {
     "data": {
      "text/plain": [
       "1.0"
      ]
     },
     "execution_count": 17,
     "metadata": {},
     "output_type": "execute_result"
    }
   ],
   "source": [
    "preds = sc.predict(bf_traffic)\n",
    "bf = y_test[np.where(y_test == 4)[0]]\n",
    "accuracy_score(np.where(bf > 0, 1, bf).astype(bool), preds)"
   ]
  },
  {
   "cell_type": "code",
   "execution_count": 18,
   "metadata": {},
   "outputs": [
    {
     "name": "stdout",
     "output_type": "stream",
     "text": [
      "1/1 [==============================] - 0s 18ms/step\n"
     ]
    },
    {
     "data": {
      "text/plain": [
       "0.7777777777777778"
      ]
     },
     "execution_count": 18,
     "metadata": {},
     "output_type": "execute_result"
    }
   ],
   "source": [
    "preds = sc.predict(inf_traffic)\n",
    "inf = y_test[np.where(y_test == 5)[0]]\n",
    "accuracy_score(np.where(inf > 0, 1, inf).astype(bool), preds)"
   ]
  },
  {
   "cell_type": "code",
   "execution_count": 19,
   "metadata": {},
   "outputs": [
    {
     "name": "stdout",
     "output_type": "stream",
     "text": [
      "12/12 [==============================] - 0s 998us/step\n"
     ]
    },
    {
     "data": {
      "text/plain": [
       "0.9862637362637363"
      ]
     },
     "execution_count": 19,
     "metadata": {},
     "output_type": "execute_result"
    }
   ],
   "source": [
    "preds = sc.predict(web_traffic)\n",
    "web = y_test[np.where(y_test == 6)[0]]\n",
    "accuracy_score(np.where(web > 0, 1, web).astype(bool), preds)"
   ]
  }
 ],
 "metadata": {
  "kernelspec": {
   "display_name": "Python 3",
   "language": "python",
   "name": "python3"
  },
  "language_info": {
   "codemirror_mode": {
    "name": "ipython",
    "version": 3
   },
   "file_extension": ".py",
   "mimetype": "text/x-python",
   "name": "python",
   "nbconvert_exporter": "python",
   "pygments_lexer": "ipython3",
   "version": "3.7.6"
  }
 },
 "nbformat": 4,
 "nbformat_minor": 4
}
